{
 "cells": [
  {
   "cell_type": "markdown",
   "id": "84556987-b3d3-4331-ad1f-5ac49d710b1b",
   "metadata": {},
   "source": [
    "## Import bibliotek"
   ]
  },
  {
   "cell_type": "code",
   "execution_count": 1,
   "id": "4067cb3e-f5df-435d-9c77-3a1529ec88c7",
   "metadata": {},
   "outputs": [],
   "source": [
    "import pandas as pd\n",
    "import matplotlib.pyplot as plt\n",
    "import seaborn as sns\n",
    "import missingno as msno\n",
    "from sklearn.model_selection import train_test_split\n",
    "from sklearn.preprocessing import LabelEncoder, MinMaxScaler\n",
    "from sklearn.ensemble import RandomForestClassifier\n",
    "from sklearn.tree import DecisionTreeClassifier\n",
    "from sklearn.neighbors import KNeighborsClassifier\n",
    "from sklearn.linear_model import LogisticRegression\n",
    "from sklearn.svm import SVC\n",
    "from sklearn.metrics import confusion_matrix, precision_score, recall_score, accuracy_score, f1_score\n",
    "import numpy as np\n",
    "import mlflow\n",
    "\n",
    "#mlflow.set_tracking_uri(uri=\"http://127.0.0.1:8080\")"
   ]
  },
  {
   "cell_type": "markdown",
   "id": "5e96f75d-470e-4cec-a281-f2e4f5b49241",
   "metadata": {},
   "source": [
    "## Wczytanie i wstępna analiza danych"
   ]
  },
  {
   "cell_type": "markdown",
   "id": "8bcc5614-e576-4d88-973f-9b5685bb4da1",
   "metadata": {},
   "source": [
    "### Wczytanie danych"
   ]
  },
  {
   "cell_type": "code",
   "execution_count": 2,
   "id": "df2abf75-7fe3-4ea7-b446-ef43cf0c83e8",
   "metadata": {},
   "outputs": [
    {
     "data": {
      "text/html": [
       "<div>\n",
       "<style scoped>\n",
       "    .dataframe tbody tr th:only-of-type {\n",
       "        vertical-align: middle;\n",
       "    }\n",
       "\n",
       "    .dataframe tbody tr th {\n",
       "        vertical-align: top;\n",
       "    }\n",
       "\n",
       "    .dataframe thead th {\n",
       "        text-align: right;\n",
       "    }\n",
       "</style>\n",
       "<table border=\"1\" class=\"dataframe\">\n",
       "  <thead>\n",
       "    <tr style=\"text-align: right;\">\n",
       "      <th></th>\n",
       "      <th>#</th>\n",
       "      <th>Name</th>\n",
       "      <th>Type 1</th>\n",
       "      <th>Type 2</th>\n",
       "      <th>Total</th>\n",
       "      <th>HP</th>\n",
       "      <th>Attack</th>\n",
       "      <th>Defense</th>\n",
       "      <th>Sp. Atk</th>\n",
       "      <th>Sp. Def</th>\n",
       "      <th>Speed</th>\n",
       "      <th>Generation</th>\n",
       "      <th>Legendary</th>\n",
       "    </tr>\n",
       "  </thead>\n",
       "  <tbody>\n",
       "    <tr>\n",
       "      <th>0</th>\n",
       "      <td>59</td>\n",
       "      <td>Arcanine</td>\n",
       "      <td>Fire</td>\n",
       "      <td>NaN</td>\n",
       "      <td>555</td>\n",
       "      <td>82</td>\n",
       "      <td>110</td>\n",
       "      <td>88</td>\n",
       "      <td>105</td>\n",
       "      <td>72</td>\n",
       "      <td>98</td>\n",
       "      <td>1</td>\n",
       "      <td>False</td>\n",
       "    </tr>\n",
       "    <tr>\n",
       "      <th>1</th>\n",
       "      <td>107</td>\n",
       "      <td>Hitmonchan</td>\n",
       "      <td>Fighting</td>\n",
       "      <td>NaN</td>\n",
       "      <td>455</td>\n",
       "      <td>47</td>\n",
       "      <td>97</td>\n",
       "      <td>84</td>\n",
       "      <td>27</td>\n",
       "      <td>121</td>\n",
       "      <td>79</td>\n",
       "      <td>1</td>\n",
       "      <td>False</td>\n",
       "    </tr>\n",
       "    <tr>\n",
       "      <th>2</th>\n",
       "      <td>123</td>\n",
       "      <td>Scyther</td>\n",
       "      <td>Bug</td>\n",
       "      <td>Flying</td>\n",
       "      <td>500</td>\n",
       "      <td>63</td>\n",
       "      <td>113</td>\n",
       "      <td>86</td>\n",
       "      <td>56</td>\n",
       "      <td>73</td>\n",
       "      <td>109</td>\n",
       "      <td>1</td>\n",
       "      <td>False</td>\n",
       "    </tr>\n",
       "    <tr>\n",
       "      <th>3</th>\n",
       "      <td>35</td>\n",
       "      <td>Clefairy</td>\n",
       "      <td>Fairy</td>\n",
       "      <td>NaN</td>\n",
       "      <td>323</td>\n",
       "      <td>67</td>\n",
       "      <td>54</td>\n",
       "      <td>46</td>\n",
       "      <td>58</td>\n",
       "      <td>62</td>\n",
       "      <td>36</td>\n",
       "      <td>1</td>\n",
       "      <td>False</td>\n",
       "    </tr>\n",
       "    <tr>\n",
       "      <th>4</th>\n",
       "      <td>150</td>\n",
       "      <td>MewtwoMega Mewtwo X</td>\n",
       "      <td>Psychic</td>\n",
       "      <td>Fighting</td>\n",
       "      <td>780</td>\n",
       "      <td>97</td>\n",
       "      <td>193</td>\n",
       "      <td>102</td>\n",
       "      <td>157</td>\n",
       "      <td>98</td>\n",
       "      <td>133</td>\n",
       "      <td>1</td>\n",
       "      <td>True</td>\n",
       "    </tr>\n",
       "  </tbody>\n",
       "</table>\n",
       "</div>"
      ],
      "text/plain": [
       "     #                 Name    Type 1    Type 2  Total  HP  Attack  Defense  \\\n",
       "0   59             Arcanine      Fire       NaN    555  82     110       88   \n",
       "1  107           Hitmonchan  Fighting       NaN    455  47      97       84   \n",
       "2  123              Scyther       Bug    Flying    500  63     113       86   \n",
       "3   35             Clefairy     Fairy       NaN    323  67      54       46   \n",
       "4  150  MewtwoMega Mewtwo X   Psychic  Fighting    780  97     193      102   \n",
       "\n",
       "   Sp. Atk  Sp. Def  Speed  Generation  Legendary  \n",
       "0      105       72     98           1      False  \n",
       "1       27      121     79           1      False  \n",
       "2       56       73    109           1      False  \n",
       "3       58       62     36           1      False  \n",
       "4      157       98    133           1       True  "
      ]
     },
     "execution_count": 2,
     "metadata": {},
     "output_type": "execute_result"
    }
   ],
   "source": [
    "df = pd.read_csv(\"https://pwozniak.kia.prz.edu.pl/files/uczeniemaszynowe/train_data.csv\")\n",
    "df.head()"
   ]
  },
  {
   "cell_type": "markdown",
   "id": "0e82169f-299c-4605-b685-c65d61a797e5",
   "metadata": {},
   "source": [
    "### Podstawowe statyski i rozkłady"
   ]
  },
  {
   "cell_type": "code",
   "execution_count": 8,
   "id": "5c68a8c6-036b-4b7c-9120-003d090678e3",
   "metadata": {},
   "outputs": [
    {
     "name": "stdout",
     "output_type": "stream",
     "text": [
      "<class 'pandas.core.frame.DataFrame'>\n",
      "RangeIndex: 3320 entries, 0 to 3319\n",
      "Data columns (total 13 columns):\n",
      " #   Column      Non-Null Count  Dtype \n",
      "---  ------      --------------  ----- \n",
      " 0   #           3320 non-null   int64 \n",
      " 1   Name        3320 non-null   object\n",
      " 2   Type 1      3320 non-null   object\n",
      " 3   Type 2      1560 non-null   object\n",
      " 4   Total       3320 non-null   int64 \n",
      " 5   HP          3320 non-null   int64 \n",
      " 6   Attack      3320 non-null   int64 \n",
      " 7   Defense     3320 non-null   int64 \n",
      " 8   Sp. Atk     3320 non-null   int64 \n",
      " 9   Sp. Def     3320 non-null   int64 \n",
      " 10  Speed       3320 non-null   int64 \n",
      " 11  Generation  3320 non-null   int64 \n",
      " 12  Legendary   3320 non-null   bool  \n",
      "dtypes: bool(1), int64(9), object(3)\n",
      "memory usage: 314.6+ KB\n"
     ]
    }
   ],
   "source": [
    "df.info()"
   ]
  },
  {
   "cell_type": "code",
   "execution_count": 11,
   "id": "6245f791-f779-409b-8bd7-b7211d196180",
   "metadata": {},
   "outputs": [
    {
     "data": {
      "text/html": [
       "<div>\n",
       "<style scoped>\n",
       "    .dataframe tbody tr th:only-of-type {\n",
       "        vertical-align: middle;\n",
       "    }\n",
       "\n",
       "    .dataframe tbody tr th {\n",
       "        vertical-align: top;\n",
       "    }\n",
       "\n",
       "    .dataframe thead th {\n",
       "        text-align: right;\n",
       "    }\n",
       "</style>\n",
       "<table border=\"1\" class=\"dataframe\">\n",
       "  <thead>\n",
       "    <tr style=\"text-align: right;\">\n",
       "      <th></th>\n",
       "      <th>#</th>\n",
       "      <th>Total</th>\n",
       "      <th>HP</th>\n",
       "      <th>Attack</th>\n",
       "      <th>Defense</th>\n",
       "      <th>Sp. Atk</th>\n",
       "      <th>Sp. Def</th>\n",
       "      <th>Speed</th>\n",
       "      <th>Generation</th>\n",
       "    </tr>\n",
       "  </thead>\n",
       "  <tbody>\n",
       "    <tr>\n",
       "      <th>count</th>\n",
       "      <td>3320.000000</td>\n",
       "      <td>3320.000000</td>\n",
       "      <td>3320.000000</td>\n",
       "      <td>3320.000000</td>\n",
       "      <td>3320.000000</td>\n",
       "      <td>3320.000000</td>\n",
       "      <td>3320.000000</td>\n",
       "      <td>3320.000000</td>\n",
       "      <td>3320.0</td>\n",
       "    </tr>\n",
       "    <tr>\n",
       "      <th>mean</th>\n",
       "      <td>75.819277</td>\n",
       "      <td>426.813253</td>\n",
       "      <td>65.925000</td>\n",
       "      <td>76.491867</td>\n",
       "      <td>70.749398</td>\n",
       "      <td>71.862048</td>\n",
       "      <td>69.129217</td>\n",
       "      <td>72.655723</td>\n",
       "      <td>1.0</td>\n",
       "    </tr>\n",
       "    <tr>\n",
       "      <th>std</th>\n",
       "      <td>45.023818</td>\n",
       "      <td>115.545921</td>\n",
       "      <td>28.591967</td>\n",
       "      <td>31.307924</td>\n",
       "      <td>29.011751</td>\n",
       "      <td>34.865423</td>\n",
       "      <td>26.255710</td>\n",
       "      <td>30.095827</td>\n",
       "      <td>0.0</td>\n",
       "    </tr>\n",
       "    <tr>\n",
       "      <th>min</th>\n",
       "      <td>1.000000</td>\n",
       "      <td>195.000000</td>\n",
       "      <td>-1.000000</td>\n",
       "      <td>-1.000000</td>\n",
       "      <td>-1.000000</td>\n",
       "      <td>5.000000</td>\n",
       "      <td>10.000000</td>\n",
       "      <td>5.000000</td>\n",
       "      <td>1.0</td>\n",
       "    </tr>\n",
       "    <tr>\n",
       "      <th>25%</th>\n",
       "      <td>36.000000</td>\n",
       "      <td>325.000000</td>\n",
       "      <td>47.000000</td>\n",
       "      <td>54.000000</td>\n",
       "      <td>50.000000</td>\n",
       "      <td>46.000000</td>\n",
       "      <td>49.000000</td>\n",
       "      <td>49.000000</td>\n",
       "      <td>1.0</td>\n",
       "    </tr>\n",
       "    <tr>\n",
       "      <th>50%</th>\n",
       "      <td>76.500000</td>\n",
       "      <td>436.500000</td>\n",
       "      <td>62.000000</td>\n",
       "      <td>74.000000</td>\n",
       "      <td>67.000000</td>\n",
       "      <td>65.000000</td>\n",
       "      <td>70.000000</td>\n",
       "      <td>71.000000</td>\n",
       "      <td>1.0</td>\n",
       "    </tr>\n",
       "    <tr>\n",
       "      <th>75%</th>\n",
       "      <td>115.000000</td>\n",
       "      <td>500.000000</td>\n",
       "      <td>81.000000</td>\n",
       "      <td>96.000000</td>\n",
       "      <td>87.000000</td>\n",
       "      <td>94.000000</td>\n",
       "      <td>88.000000</td>\n",
       "      <td>93.000000</td>\n",
       "      <td>1.0</td>\n",
       "    </tr>\n",
       "    <tr>\n",
       "      <th>max</th>\n",
       "      <td>151.000000</td>\n",
       "      <td>780.000000</td>\n",
       "      <td>255.000000</td>\n",
       "      <td>199.000000</td>\n",
       "      <td>189.000000</td>\n",
       "      <td>202.000000</td>\n",
       "      <td>137.000000</td>\n",
       "      <td>159.000000</td>\n",
       "      <td>1.0</td>\n",
       "    </tr>\n",
       "  </tbody>\n",
       "</table>\n",
       "</div>"
      ],
      "text/plain": [
       "                 #        Total           HP       Attack      Defense  \\\n",
       "count  3320.000000  3320.000000  3320.000000  3320.000000  3320.000000   \n",
       "mean     75.819277   426.813253    65.925000    76.491867    70.749398   \n",
       "std      45.023818   115.545921    28.591967    31.307924    29.011751   \n",
       "min       1.000000   195.000000    -1.000000    -1.000000    -1.000000   \n",
       "25%      36.000000   325.000000    47.000000    54.000000    50.000000   \n",
       "50%      76.500000   436.500000    62.000000    74.000000    67.000000   \n",
       "75%     115.000000   500.000000    81.000000    96.000000    87.000000   \n",
       "max     151.000000   780.000000   255.000000   199.000000   189.000000   \n",
       "\n",
       "           Sp. Atk      Sp. Def        Speed  Generation  \n",
       "count  3320.000000  3320.000000  3320.000000      3320.0  \n",
       "mean     71.862048    69.129217    72.655723         1.0  \n",
       "std      34.865423    26.255710    30.095827         0.0  \n",
       "min       5.000000    10.000000     5.000000         1.0  \n",
       "25%      46.000000    49.000000    49.000000         1.0  \n",
       "50%      65.000000    70.000000    71.000000         1.0  \n",
       "75%      94.000000    88.000000    93.000000         1.0  \n",
       "max     202.000000   137.000000   159.000000         1.0  "
      ]
     },
     "execution_count": 11,
     "metadata": {},
     "output_type": "execute_result"
    }
   ],
   "source": [
    "df.describe()"
   ]
  },
  {
   "cell_type": "code",
   "execution_count": 12,
   "id": "058a087c-df58-47ad-93d9-5b779c1e8641",
   "metadata": {},
   "outputs": [
    {
     "data": {
      "text/html": [
       "<div>\n",
       "<style scoped>\n",
       "    .dataframe tbody tr th:only-of-type {\n",
       "        vertical-align: middle;\n",
       "    }\n",
       "\n",
       "    .dataframe tbody tr th {\n",
       "        vertical-align: top;\n",
       "    }\n",
       "\n",
       "    .dataframe thead th {\n",
       "        text-align: right;\n",
       "    }\n",
       "</style>\n",
       "<table border=\"1\" class=\"dataframe\">\n",
       "  <thead>\n",
       "    <tr style=\"text-align: right;\">\n",
       "      <th></th>\n",
       "      <th>Name</th>\n",
       "      <th>Type 1</th>\n",
       "      <th>Type 2</th>\n",
       "    </tr>\n",
       "  </thead>\n",
       "  <tbody>\n",
       "    <tr>\n",
       "      <th>count</th>\n",
       "      <td>3320</td>\n",
       "      <td>3320</td>\n",
       "      <td>1560</td>\n",
       "    </tr>\n",
       "    <tr>\n",
       "      <th>unique</th>\n",
       "      <td>166</td>\n",
       "      <td>15</td>\n",
       "      <td>13</td>\n",
       "    </tr>\n",
       "    <tr>\n",
       "      <th>top</th>\n",
       "      <td>Arcanine</td>\n",
       "      <td>Water</td>\n",
       "      <td>Flying</td>\n",
       "    </tr>\n",
       "    <tr>\n",
       "      <th>freq</th>\n",
       "      <td>20</td>\n",
       "      <td>620</td>\n",
       "      <td>460</td>\n",
       "    </tr>\n",
       "  </tbody>\n",
       "</table>\n",
       "</div>"
      ],
      "text/plain": [
       "            Name Type 1  Type 2\n",
       "count       3320   3320    1560\n",
       "unique       166     15      13\n",
       "top     Arcanine  Water  Flying\n",
       "freq          20    620     460"
      ]
     },
     "execution_count": 12,
     "metadata": {},
     "output_type": "execute_result"
    }
   ],
   "source": [
    "df.describe(include='O')"
   ]
  },
  {
   "cell_type": "markdown",
   "id": "0ff681e9-2a4d-4657-9760-abc0d9e7a9e7",
   "metadata": {},
   "source": [
    "### Weryfikacja brakujących wartości"
   ]
  },
  {
   "cell_type": "code",
   "execution_count": 16,
   "id": "2b84e626-ec40-46b9-b32d-41a6ca26c5f1",
   "metadata": {},
   "outputs": [
    {
     "data": {
      "image/png": "[encoded data removed]",
      "text/plain": [
       "<Figure size 2500x1000 with 3 Axes>"
      ]
     },
     "metadata": {},
     "output_type": "display_data"
    }
   ],
   "source": [
    "msno.bar(df)\n",
    "plt.show()"
   ]
  },
  {
   "cell_type": "code",
   "execution_count": 21,
   "id": "558f88e8-a4aa-4b72-9f77-aa0485c853c8",
   "metadata": {},
   "outputs": [
    {
     "data": {
      "image/png": "[encoded data removed]",
      "text/plain": [
       "<Figure size 2500x1000 with 2 Axes>"
      ]
     },
     "metadata": {},
     "output_type": "display_data"
    }
   ],
   "source": [
    "msno.matrix(df)\n",
    "plt.show()"
   ]
  },
  {
   "cell_type": "markdown",
   "id": "58ca4958-26a8-43a1-87bd-368cd211d3ce",
   "metadata": {},
   "source": [
    "## Przygotowanie danych dla klasyfikatora"
   ]
  },
  {
   "cell_type": "markdown",
   "id": "44d4a9bb-723b-4d16-8a04-8cd9725d177c",
   "metadata": {},
   "source": [
    "### Obsługa brakujących wartości oraz usuwanie błędnych wartości"
   ]
  },
  {
   "cell_type": "code",
   "execution_count": 3,
   "id": "48469318-1bf7-4b75-869c-55af71948fa2",
   "metadata": {},
   "outputs": [
    {
     "data": {
      "text/html": [
       "<div>\n",
       "<style scoped>\n",
       "    .dataframe tbody tr th:only-of-type {\n",
       "        vertical-align: middle;\n",
       "    }\n",
       "\n",
       "    .dataframe tbody tr th {\n",
       "        vertical-align: top;\n",
       "    }\n",
       "\n",
       "    .dataframe thead th {\n",
       "        text-align: right;\n",
       "    }\n",
       "</style>\n",
       "<table border=\"1\" class=\"dataframe\">\n",
       "  <thead>\n",
       "    <tr style=\"text-align: right;\">\n",
       "      <th></th>\n",
       "      <th>#</th>\n",
       "      <th>Name</th>\n",
       "      <th>Type 1</th>\n",
       "      <th>Type 2</th>\n",
       "      <th>Total</th>\n",
       "      <th>HP</th>\n",
       "      <th>Attack</th>\n",
       "      <th>Defense</th>\n",
       "      <th>Sp. Atk</th>\n",
       "      <th>Sp. Def</th>\n",
       "      <th>Speed</th>\n",
       "      <th>Generation</th>\n",
       "      <th>Legendary</th>\n",
       "    </tr>\n",
       "  </thead>\n",
       "  <tbody>\n",
       "    <tr>\n",
       "      <th>0</th>\n",
       "      <td>59</td>\n",
       "      <td>Arcanine</td>\n",
       "      <td>Fire</td>\n",
       "      <td>Other</td>\n",
       "      <td>555</td>\n",
       "      <td>82</td>\n",
       "      <td>110</td>\n",
       "      <td>88</td>\n",
       "      <td>105</td>\n",
       "      <td>72</td>\n",
       "      <td>98</td>\n",
       "      <td>1</td>\n",
       "      <td>False</td>\n",
       "    </tr>\n",
       "    <tr>\n",
       "      <th>1</th>\n",
       "      <td>107</td>\n",
       "      <td>Hitmonchan</td>\n",
       "      <td>Fighting</td>\n",
       "      <td>Other</td>\n",
       "      <td>455</td>\n",
       "      <td>47</td>\n",
       "      <td>97</td>\n",
       "      <td>84</td>\n",
       "      <td>27</td>\n",
       "      <td>121</td>\n",
       "      <td>79</td>\n",
       "      <td>1</td>\n",
       "      <td>False</td>\n",
       "    </tr>\n",
       "    <tr>\n",
       "      <th>2</th>\n",
       "      <td>123</td>\n",
       "      <td>Scyther</td>\n",
       "      <td>Bug</td>\n",
       "      <td>Flying</td>\n",
       "      <td>500</td>\n",
       "      <td>63</td>\n",
       "      <td>113</td>\n",
       "      <td>86</td>\n",
       "      <td>56</td>\n",
       "      <td>73</td>\n",
       "      <td>109</td>\n",
       "      <td>1</td>\n",
       "      <td>False</td>\n",
       "    </tr>\n",
       "    <tr>\n",
       "      <th>3</th>\n",
       "      <td>35</td>\n",
       "      <td>Clefairy</td>\n",
       "      <td>Fairy</td>\n",
       "      <td>Other</td>\n",
       "      <td>323</td>\n",
       "      <td>67</td>\n",
       "      <td>54</td>\n",
       "      <td>46</td>\n",
       "      <td>58</td>\n",
       "      <td>62</td>\n",
       "      <td>36</td>\n",
       "      <td>1</td>\n",
       "      <td>False</td>\n",
       "    </tr>\n",
       "    <tr>\n",
       "      <th>4</th>\n",
       "      <td>150</td>\n",
       "      <td>MewtwoMega Mewtwo X</td>\n",
       "      <td>Psychic</td>\n",
       "      <td>Fighting</td>\n",
       "      <td>780</td>\n",
       "      <td>97</td>\n",
       "      <td>193</td>\n",
       "      <td>102</td>\n",
       "      <td>157</td>\n",
       "      <td>98</td>\n",
       "      <td>133</td>\n",
       "      <td>1</td>\n",
       "      <td>True</td>\n",
       "    </tr>\n",
       "  </tbody>\n",
       "</table>\n",
       "</div>"
      ],
      "text/plain": [
       "     #                 Name    Type 1    Type 2  Total  HP  Attack  Defense  \\\n",
       "0   59             Arcanine      Fire     Other    555  82     110       88   \n",
       "1  107           Hitmonchan  Fighting     Other    455  47      97       84   \n",
       "2  123              Scyther       Bug    Flying    500  63     113       86   \n",
       "3   35             Clefairy     Fairy     Other    323  67      54       46   \n",
       "4  150  MewtwoMega Mewtwo X   Psychic  Fighting    780  97     193      102   \n",
       "\n",
       "   Sp. Atk  Sp. Def  Speed  Generation  Legendary  \n",
       "0      105       72     98           1      False  \n",
       "1       27      121     79           1      False  \n",
       "2       56       73    109           1      False  \n",
       "3       58       62     36           1      False  \n",
       "4      157       98    133           1       True  "
      ]
     },
     "execution_count": 3,
     "metadata": {},
     "output_type": "execute_result"
    }
   ],
   "source": [
    "df_no_nans = df.fillna('Other')\n",
    "df_no_nans.head()"
   ]
  },
  {
   "cell_type": "code",
   "execution_count": 4,
   "id": "c8eb4e38-c44b-44e2-b16d-c3d195415f4a",
   "metadata": {},
   "outputs": [
    {
     "name": "stdout",
     "output_type": "stream",
     "text": [
      "Wiersze w Total które mają wartość poniżej lub równe 0: 0\n",
      "Wiersze w HP które mają wartość poniżej lub równe 0: 0\n",
      "Wiersze w Attack które mają wartość poniżej lub równe 0: 0\n",
      "Wiersze w Defense które mają wartość poniżej lub równe 0: 0\n",
      "Wiersze w Sp. Atk które mają wartość poniżej lub równe 0: 0\n",
      "Wiersze w Sp. Def które mają wartość poniżej lub równe 0: 0\n",
      "Wiersze w Speed które mają wartość poniżej lub równe 0: 0\n"
     ]
    }
   ],
   "source": [
    "df_clean = df_no_nans[(df_no_nans.HP > 0) & (df_no_nans.Attack > 0) & (df_no_nans.Defense > 0)].reset_index(drop=True)\n",
    "\n",
    "columns = ['Total', 'HP', 'Attack', 'Defense', 'Sp. Atk', 'Sp. Def', 'Speed']\n",
    "for column in columns:\n",
    "    print(f\"Wiersze w {column} które mają wartość poniżej lub równe 0: {len(df_clean[df_clean[column] <= 0])}\")"
   ]
  },
  {
   "cell_type": "markdown",
   "id": "b9f1a890-340a-4232-a694-08bae64e6831",
   "metadata": {},
   "source": [
    "### Kodowanie zmiennych kategorycznych"
   ]
  },
  {
   "cell_type": "code",
   "execution_count": 5,
   "id": "c7d244a4-8d07-4888-8ff3-b4d311e58219",
   "metadata": {},
   "outputs": [
    {
     "data": {
      "text/html": [
       "<div>\n",
       "<style scoped>\n",
       "    .dataframe tbody tr th:only-of-type {\n",
       "        vertical-align: middle;\n",
       "    }\n",
       "\n",
       "    .dataframe tbody tr th {\n",
       "        vertical-align: top;\n",
       "    }\n",
       "\n",
       "    .dataframe thead th {\n",
       "        text-align: right;\n",
       "    }\n",
       "</style>\n",
       "<table border=\"1\" class=\"dataframe\">\n",
       "  <thead>\n",
       "    <tr style=\"text-align: right;\">\n",
       "      <th></th>\n",
       "      <th>Name</th>\n",
       "      <th>Type 1</th>\n",
       "      <th>Type 2</th>\n",
       "    </tr>\n",
       "  </thead>\n",
       "  <tbody>\n",
       "    <tr>\n",
       "      <th>0</th>\n",
       "      <td>6</td>\n",
       "      <td>5</td>\n",
       "      <td>8</td>\n",
       "    </tr>\n",
       "    <tr>\n",
       "      <th>1</th>\n",
       "      <td>60</td>\n",
       "      <td>4</td>\n",
       "      <td>8</td>\n",
       "    </tr>\n",
       "    <tr>\n",
       "      <th>2</th>\n",
       "      <td>133</td>\n",
       "      <td>0</td>\n",
       "      <td>4</td>\n",
       "    </tr>\n",
       "    <tr>\n",
       "      <th>3</th>\n",
       "      <td>23</td>\n",
       "      <td>3</td>\n",
       "      <td>8</td>\n",
       "    </tr>\n",
       "    <tr>\n",
       "      <th>4</th>\n",
       "      <td>92</td>\n",
       "      <td>12</td>\n",
       "      <td>3</td>\n",
       "    </tr>\n",
       "    <tr>\n",
       "      <th>...</th>\n",
       "      <td>...</td>\n",
       "      <td>...</td>\n",
       "      <td>...</td>\n",
       "    </tr>\n",
       "    <tr>\n",
       "      <th>3303</th>\n",
       "      <td>151</td>\n",
       "      <td>0</td>\n",
       "      <td>9</td>\n",
       "    </tr>\n",
       "    <tr>\n",
       "      <th>3304</th>\n",
       "      <td>35</td>\n",
       "      <td>8</td>\n",
       "      <td>8</td>\n",
       "    </tr>\n",
       "    <tr>\n",
       "      <th>3305</th>\n",
       "      <td>6</td>\n",
       "      <td>5</td>\n",
       "      <td>8</td>\n",
       "    </tr>\n",
       "    <tr>\n",
       "      <th>3306</th>\n",
       "      <td>103</td>\n",
       "      <td>5</td>\n",
       "      <td>8</td>\n",
       "    </tr>\n",
       "    <tr>\n",
       "      <th>3307</th>\n",
       "      <td>94</td>\n",
       "      <td>5</td>\n",
       "      <td>4</td>\n",
       "    </tr>\n",
       "  </tbody>\n",
       "</table>\n",
       "<p>3308 rows × 3 columns</p>\n",
       "</div>"
      ],
      "text/plain": [
       "      Name  Type 1  Type 2\n",
       "0        6       5       8\n",
       "1       60       4       8\n",
       "2      133       0       4\n",
       "3       23       3       8\n",
       "4       92      12       3\n",
       "...    ...     ...     ...\n",
       "3303   151       0       9\n",
       "3304    35       8       8\n",
       "3305     6       5       8\n",
       "3306   103       5       8\n",
       "3307    94       5       4\n",
       "\n",
       "[3308 rows x 3 columns]"
      ]
     },
     "execution_count": 5,
     "metadata": {},
     "output_type": "execute_result"
    }
   ],
   "source": [
    "label_enc = LabelEncoder()\n",
    "df_cat = pd.DataFrame()\n",
    "for column in ['Name', 'Type 1', 'Type 2']:\n",
    "    df_cat[column] = label_enc.fit_transform(df_clean[column])\n",
    "df_cat"
   ]
  },
  {
   "cell_type": "markdown",
   "id": "ec8aa7b4-3338-4113-ba80-f810cd08e833",
   "metadata": {},
   "source": [
    "### Normalizacja danych liczbowych"
   ]
  },
  {
   "cell_type": "code",
   "execution_count": 6,
   "id": "4f2b4f8f-3b51-49ee-b07c-228f39f33972",
   "metadata": {},
   "outputs": [
    {
     "data": {
      "text/html": [
       "<div>\n",
       "<style scoped>\n",
       "    .dataframe tbody tr th:only-of-type {\n",
       "        vertical-align: middle;\n",
       "    }\n",
       "\n",
       "    .dataframe tbody tr th {\n",
       "        vertical-align: top;\n",
       "    }\n",
       "\n",
       "    .dataframe thead th {\n",
       "        text-align: right;\n",
       "    }\n",
       "</style>\n",
       "<table border=\"1\" class=\"dataframe\">\n",
       "  <thead>\n",
       "    <tr style=\"text-align: right;\">\n",
       "      <th></th>\n",
       "      <th>Total</th>\n",
       "      <th>HP</th>\n",
       "      <th>Attack</th>\n",
       "      <th>Defense</th>\n",
       "      <th>Sp. Atk</th>\n",
       "      <th>Sp. Def</th>\n",
       "      <th>Speed</th>\n",
       "    </tr>\n",
       "  </thead>\n",
       "  <tbody>\n",
       "    <tr>\n",
       "      <th>0</th>\n",
       "      <td>555</td>\n",
       "      <td>82</td>\n",
       "      <td>110</td>\n",
       "      <td>88</td>\n",
       "      <td>105</td>\n",
       "      <td>72</td>\n",
       "      <td>98</td>\n",
       "    </tr>\n",
       "    <tr>\n",
       "      <th>1</th>\n",
       "      <td>455</td>\n",
       "      <td>47</td>\n",
       "      <td>97</td>\n",
       "      <td>84</td>\n",
       "      <td>27</td>\n",
       "      <td>121</td>\n",
       "      <td>79</td>\n",
       "    </tr>\n",
       "    <tr>\n",
       "      <th>2</th>\n",
       "      <td>500</td>\n",
       "      <td>63</td>\n",
       "      <td>113</td>\n",
       "      <td>86</td>\n",
       "      <td>56</td>\n",
       "      <td>73</td>\n",
       "      <td>109</td>\n",
       "    </tr>\n",
       "    <tr>\n",
       "      <th>3</th>\n",
       "      <td>323</td>\n",
       "      <td>67</td>\n",
       "      <td>54</td>\n",
       "      <td>46</td>\n",
       "      <td>58</td>\n",
       "      <td>62</td>\n",
       "      <td>36</td>\n",
       "    </tr>\n",
       "    <tr>\n",
       "      <th>4</th>\n",
       "      <td>780</td>\n",
       "      <td>97</td>\n",
       "      <td>193</td>\n",
       "      <td>102</td>\n",
       "      <td>157</td>\n",
       "      <td>98</td>\n",
       "      <td>133</td>\n",
       "    </tr>\n",
       "    <tr>\n",
       "      <th>...</th>\n",
       "      <td>...</td>\n",
       "      <td>...</td>\n",
       "      <td>...</td>\n",
       "      <td>...</td>\n",
       "      <td>...</td>\n",
       "      <td>...</td>\n",
       "      <td>...</td>\n",
       "    </tr>\n",
       "    <tr>\n",
       "      <th>3303</th>\n",
       "      <td>450</td>\n",
       "      <td>75</td>\n",
       "      <td>64</td>\n",
       "      <td>60</td>\n",
       "      <td>82</td>\n",
       "      <td>78</td>\n",
       "      <td>91</td>\n",
       "    </tr>\n",
       "    <tr>\n",
       "      <th>3304</th>\n",
       "      <td>405</td>\n",
       "      <td>40</td>\n",
       "      <td>83</td>\n",
       "      <td>43</td>\n",
       "      <td>45</td>\n",
       "      <td>71</td>\n",
       "      <td>123</td>\n",
       "    </tr>\n",
       "    <tr>\n",
       "      <th>3305</th>\n",
       "      <td>555</td>\n",
       "      <td>96</td>\n",
       "      <td>113</td>\n",
       "      <td>79</td>\n",
       "      <td>94</td>\n",
       "      <td>86</td>\n",
       "      <td>87</td>\n",
       "    </tr>\n",
       "    <tr>\n",
       "      <th>3306</th>\n",
       "      <td>505</td>\n",
       "      <td>66</td>\n",
       "      <td>79</td>\n",
       "      <td>76</td>\n",
       "      <td>74</td>\n",
       "      <td>100</td>\n",
       "      <td>110</td>\n",
       "    </tr>\n",
       "    <tr>\n",
       "      <th>3307</th>\n",
       "      <td>580</td>\n",
       "      <td>84</td>\n",
       "      <td>93</td>\n",
       "      <td>96</td>\n",
       "      <td>134</td>\n",
       "      <td>76</td>\n",
       "      <td>97</td>\n",
       "    </tr>\n",
       "  </tbody>\n",
       "</table>\n",
       "<p>3308 rows × 7 columns</p>\n",
       "</div>"
      ],
      "text/plain": [
       "      Total  HP  Attack  Defense  Sp. Atk  Sp. Def  Speed\n",
       "0       555  82     110       88      105       72     98\n",
       "1       455  47      97       84       27      121     79\n",
       "2       500  63     113       86       56       73    109\n",
       "3       323  67      54       46       58       62     36\n",
       "4       780  97     193      102      157       98    133\n",
       "...     ...  ..     ...      ...      ...      ...    ...\n",
       "3303    450  75      64       60       82       78     91\n",
       "3304    405  40      83       43       45       71    123\n",
       "3305    555  96     113       79       94       86     87\n",
       "3306    505  66      79       76       74      100    110\n",
       "3307    580  84      93       96      134       76     97\n",
       "\n",
       "[3308 rows x 7 columns]"
      ]
     },
     "execution_count": 6,
     "metadata": {},
     "output_type": "execute_result"
    }
   ],
   "source": [
    "df_num = df_clean[['Total', 'HP', 'Attack', 'Defense', 'Sp. Atk', 'Sp. Def', 'Speed']]\n",
    "df_num"
   ]
  },
  {
   "cell_type": "code",
   "execution_count": 7,
   "id": "74582a26-8263-46d0-a43c-c627baabdb21",
   "metadata": {},
   "outputs": [
    {
     "data": {
      "text/html": [
       "<div>\n",
       "<style scoped>\n",
       "    .dataframe tbody tr th:only-of-type {\n",
       "        vertical-align: middle;\n",
       "    }\n",
       "\n",
       "    .dataframe tbody tr th {\n",
       "        vertical-align: top;\n",
       "    }\n",
       "\n",
       "    .dataframe thead th {\n",
       "        text-align: right;\n",
       "    }\n",
       "</style>\n",
       "<table border=\"1\" class=\"dataframe\">\n",
       "  <thead>\n",
       "    <tr style=\"text-align: right;\">\n",
       "      <th></th>\n",
       "      <th>Total</th>\n",
       "      <th>HP</th>\n",
       "      <th>Attack</th>\n",
       "      <th>Defense</th>\n",
       "      <th>Sp. Atk</th>\n",
       "      <th>Sp. Def</th>\n",
       "      <th>Speed</th>\n",
       "    </tr>\n",
       "  </thead>\n",
       "  <tbody>\n",
       "    <tr>\n",
       "      <th>0</th>\n",
       "      <td>0.615385</td>\n",
       "      <td>0.318898</td>\n",
       "      <td>0.550505</td>\n",
       "      <td>0.459893</td>\n",
       "      <td>0.507614</td>\n",
       "      <td>0.488189</td>\n",
       "      <td>0.603896</td>\n",
       "    </tr>\n",
       "    <tr>\n",
       "      <th>1</th>\n",
       "      <td>0.444444</td>\n",
       "      <td>0.181102</td>\n",
       "      <td>0.484848</td>\n",
       "      <td>0.438503</td>\n",
       "      <td>0.111675</td>\n",
       "      <td>0.874016</td>\n",
       "      <td>0.480519</td>\n",
       "    </tr>\n",
       "    <tr>\n",
       "      <th>2</th>\n",
       "      <td>0.521368</td>\n",
       "      <td>0.244094</td>\n",
       "      <td>0.565657</td>\n",
       "      <td>0.449198</td>\n",
       "      <td>0.258883</td>\n",
       "      <td>0.496063</td>\n",
       "      <td>0.675325</td>\n",
       "    </tr>\n",
       "    <tr>\n",
       "      <th>3</th>\n",
       "      <td>0.218803</td>\n",
       "      <td>0.259843</td>\n",
       "      <td>0.267677</td>\n",
       "      <td>0.235294</td>\n",
       "      <td>0.269036</td>\n",
       "      <td>0.409449</td>\n",
       "      <td>0.201299</td>\n",
       "    </tr>\n",
       "    <tr>\n",
       "      <th>4</th>\n",
       "      <td>1.000000</td>\n",
       "      <td>0.377953</td>\n",
       "      <td>0.969697</td>\n",
       "      <td>0.534759</td>\n",
       "      <td>0.771574</td>\n",
       "      <td>0.692913</td>\n",
       "      <td>0.831169</td>\n",
       "    </tr>\n",
       "    <tr>\n",
       "      <th>...</th>\n",
       "      <td>...</td>\n",
       "      <td>...</td>\n",
       "      <td>...</td>\n",
       "      <td>...</td>\n",
       "      <td>...</td>\n",
       "      <td>...</td>\n",
       "      <td>...</td>\n",
       "    </tr>\n",
       "    <tr>\n",
       "      <th>3303</th>\n",
       "      <td>0.435897</td>\n",
       "      <td>0.291339</td>\n",
       "      <td>0.318182</td>\n",
       "      <td>0.310160</td>\n",
       "      <td>0.390863</td>\n",
       "      <td>0.535433</td>\n",
       "      <td>0.558442</td>\n",
       "    </tr>\n",
       "    <tr>\n",
       "      <th>3304</th>\n",
       "      <td>0.358974</td>\n",
       "      <td>0.153543</td>\n",
       "      <td>0.414141</td>\n",
       "      <td>0.219251</td>\n",
       "      <td>0.203046</td>\n",
       "      <td>0.480315</td>\n",
       "      <td>0.766234</td>\n",
       "    </tr>\n",
       "    <tr>\n",
       "      <th>3305</th>\n",
       "      <td>0.615385</td>\n",
       "      <td>0.374016</td>\n",
       "      <td>0.565657</td>\n",
       "      <td>0.411765</td>\n",
       "      <td>0.451777</td>\n",
       "      <td>0.598425</td>\n",
       "      <td>0.532468</td>\n",
       "    </tr>\n",
       "    <tr>\n",
       "      <th>3306</th>\n",
       "      <td>0.529915</td>\n",
       "      <td>0.255906</td>\n",
       "      <td>0.393939</td>\n",
       "      <td>0.395722</td>\n",
       "      <td>0.350254</td>\n",
       "      <td>0.708661</td>\n",
       "      <td>0.681818</td>\n",
       "    </tr>\n",
       "    <tr>\n",
       "      <th>3307</th>\n",
       "      <td>0.658120</td>\n",
       "      <td>0.326772</td>\n",
       "      <td>0.464646</td>\n",
       "      <td>0.502674</td>\n",
       "      <td>0.654822</td>\n",
       "      <td>0.519685</td>\n",
       "      <td>0.597403</td>\n",
       "    </tr>\n",
       "  </tbody>\n",
       "</table>\n",
       "<p>3308 rows × 7 columns</p>\n",
       "</div>"
      ],
      "text/plain": [
       "         Total        HP    Attack   Defense   Sp. Atk   Sp. Def     Speed\n",
       "0     0.615385  0.318898  0.550505  0.459893  0.507614  0.488189  0.603896\n",
       "1     0.444444  0.181102  0.484848  0.438503  0.111675  0.874016  0.480519\n",
       "2     0.521368  0.244094  0.565657  0.449198  0.258883  0.496063  0.675325\n",
       "3     0.218803  0.259843  0.267677  0.235294  0.269036  0.409449  0.201299\n",
       "4     1.000000  0.377953  0.969697  0.534759  0.771574  0.692913  0.831169\n",
       "...        ...       ...       ...       ...       ...       ...       ...\n",
       "3303  0.435897  0.291339  0.318182  0.310160  0.390863  0.535433  0.558442\n",
       "3304  0.358974  0.153543  0.414141  0.219251  0.203046  0.480315  0.766234\n",
       "3305  0.615385  0.374016  0.565657  0.411765  0.451777  0.598425  0.532468\n",
       "3306  0.529915  0.255906  0.393939  0.395722  0.350254  0.708661  0.681818\n",
       "3307  0.658120  0.326772  0.464646  0.502674  0.654822  0.519685  0.597403\n",
       "\n",
       "[3308 rows x 7 columns]"
      ]
     },
     "execution_count": 7,
     "metadata": {},
     "output_type": "execute_result"
    }
   ],
   "source": [
    "minmax_scaler = MinMaxScaler()\n",
    "columns = df_num.columns\n",
    "np_num = minmax_scaler.fit_transform(df_num)\n",
    "df_num_norm = pd.DataFrame(np_num, columns=columns)\n",
    "df_num_norm"
   ]
  },
  {
   "cell_type": "code",
   "execution_count": 8,
   "id": "88fc818c-4180-4aa1-8fa0-42242a87a481",
   "metadata": {},
   "outputs": [
    {
     "data": {
      "text/html": [
       "<div>\n",
       "<style scoped>\n",
       "    .dataframe tbody tr th:only-of-type {\n",
       "        vertical-align: middle;\n",
       "    }\n",
       "\n",
       "    .dataframe tbody tr th {\n",
       "        vertical-align: top;\n",
       "    }\n",
       "\n",
       "    .dataframe thead th {\n",
       "        text-align: right;\n",
       "    }\n",
       "</style>\n",
       "<table border=\"1\" class=\"dataframe\">\n",
       "  <thead>\n",
       "    <tr style=\"text-align: right;\">\n",
       "      <th></th>\n",
       "      <th>Total</th>\n",
       "      <th>HP</th>\n",
       "      <th>Attack</th>\n",
       "      <th>Defense</th>\n",
       "      <th>Sp. Atk</th>\n",
       "      <th>Sp. Def</th>\n",
       "      <th>Speed</th>\n",
       "      <th>Name</th>\n",
       "      <th>Type 1</th>\n",
       "      <th>Type 2</th>\n",
       "      <th>Generation</th>\n",
       "    </tr>\n",
       "  </thead>\n",
       "  <tbody>\n",
       "    <tr>\n",
       "      <th>0</th>\n",
       "      <td>0.615385</td>\n",
       "      <td>0.318898</td>\n",
       "      <td>0.550505</td>\n",
       "      <td>0.459893</td>\n",
       "      <td>0.507614</td>\n",
       "      <td>0.488189</td>\n",
       "      <td>0.603896</td>\n",
       "      <td>6</td>\n",
       "      <td>5</td>\n",
       "      <td>8</td>\n",
       "      <td>1</td>\n",
       "    </tr>\n",
       "    <tr>\n",
       "      <th>1</th>\n",
       "      <td>0.444444</td>\n",
       "      <td>0.181102</td>\n",
       "      <td>0.484848</td>\n",
       "      <td>0.438503</td>\n",
       "      <td>0.111675</td>\n",
       "      <td>0.874016</td>\n",
       "      <td>0.480519</td>\n",
       "      <td>60</td>\n",
       "      <td>4</td>\n",
       "      <td>8</td>\n",
       "      <td>1</td>\n",
       "    </tr>\n",
       "    <tr>\n",
       "      <th>2</th>\n",
       "      <td>0.521368</td>\n",
       "      <td>0.244094</td>\n",
       "      <td>0.565657</td>\n",
       "      <td>0.449198</td>\n",
       "      <td>0.258883</td>\n",
       "      <td>0.496063</td>\n",
       "      <td>0.675325</td>\n",
       "      <td>133</td>\n",
       "      <td>0</td>\n",
       "      <td>4</td>\n",
       "      <td>1</td>\n",
       "    </tr>\n",
       "    <tr>\n",
       "      <th>3</th>\n",
       "      <td>0.218803</td>\n",
       "      <td>0.259843</td>\n",
       "      <td>0.267677</td>\n",
       "      <td>0.235294</td>\n",
       "      <td>0.269036</td>\n",
       "      <td>0.409449</td>\n",
       "      <td>0.201299</td>\n",
       "      <td>23</td>\n",
       "      <td>3</td>\n",
       "      <td>8</td>\n",
       "      <td>1</td>\n",
       "    </tr>\n",
       "    <tr>\n",
       "      <th>4</th>\n",
       "      <td>1.000000</td>\n",
       "      <td>0.377953</td>\n",
       "      <td>0.969697</td>\n",
       "      <td>0.534759</td>\n",
       "      <td>0.771574</td>\n",
       "      <td>0.692913</td>\n",
       "      <td>0.831169</td>\n",
       "      <td>92</td>\n",
       "      <td>12</td>\n",
       "      <td>3</td>\n",
       "      <td>1</td>\n",
       "    </tr>\n",
       "    <tr>\n",
       "      <th>...</th>\n",
       "      <td>...</td>\n",
       "      <td>...</td>\n",
       "      <td>...</td>\n",
       "      <td>...</td>\n",
       "      <td>...</td>\n",
       "      <td>...</td>\n",
       "      <td>...</td>\n",
       "      <td>...</td>\n",
       "      <td>...</td>\n",
       "      <td>...</td>\n",
       "      <td>...</td>\n",
       "    </tr>\n",
       "    <tr>\n",
       "      <th>3303</th>\n",
       "      <td>0.435897</td>\n",
       "      <td>0.291339</td>\n",
       "      <td>0.318182</td>\n",
       "      <td>0.310160</td>\n",
       "      <td>0.390863</td>\n",
       "      <td>0.535433</td>\n",
       "      <td>0.558442</td>\n",
       "      <td>151</td>\n",
       "      <td>0</td>\n",
       "      <td>9</td>\n",
       "      <td>1</td>\n",
       "    </tr>\n",
       "    <tr>\n",
       "      <th>3304</th>\n",
       "      <td>0.358974</td>\n",
       "      <td>0.153543</td>\n",
       "      <td>0.414141</td>\n",
       "      <td>0.219251</td>\n",
       "      <td>0.203046</td>\n",
       "      <td>0.480315</td>\n",
       "      <td>0.766234</td>\n",
       "      <td>35</td>\n",
       "      <td>8</td>\n",
       "      <td>8</td>\n",
       "      <td>1</td>\n",
       "    </tr>\n",
       "    <tr>\n",
       "      <th>3305</th>\n",
       "      <td>0.615385</td>\n",
       "      <td>0.374016</td>\n",
       "      <td>0.565657</td>\n",
       "      <td>0.411765</td>\n",
       "      <td>0.451777</td>\n",
       "      <td>0.598425</td>\n",
       "      <td>0.532468</td>\n",
       "      <td>6</td>\n",
       "      <td>5</td>\n",
       "      <td>8</td>\n",
       "      <td>1</td>\n",
       "    </tr>\n",
       "    <tr>\n",
       "      <th>3306</th>\n",
       "      <td>0.529915</td>\n",
       "      <td>0.255906</td>\n",
       "      <td>0.393939</td>\n",
       "      <td>0.395722</td>\n",
       "      <td>0.350254</td>\n",
       "      <td>0.708661</td>\n",
       "      <td>0.681818</td>\n",
       "      <td>103</td>\n",
       "      <td>5</td>\n",
       "      <td>8</td>\n",
       "      <td>1</td>\n",
       "    </tr>\n",
       "    <tr>\n",
       "      <th>3307</th>\n",
       "      <td>0.658120</td>\n",
       "      <td>0.326772</td>\n",
       "      <td>0.464646</td>\n",
       "      <td>0.502674</td>\n",
       "      <td>0.654822</td>\n",
       "      <td>0.519685</td>\n",
       "      <td>0.597403</td>\n",
       "      <td>94</td>\n",
       "      <td>5</td>\n",
       "      <td>4</td>\n",
       "      <td>1</td>\n",
       "    </tr>\n",
       "  </tbody>\n",
       "</table>\n",
       "<p>3308 rows × 11 columns</p>\n",
       "</div>"
      ],
      "text/plain": [
       "         Total        HP    Attack   Defense   Sp. Atk   Sp. Def     Speed  \\\n",
       "0     0.615385  0.318898  0.550505  0.459893  0.507614  0.488189  0.603896   \n",
       "1     0.444444  0.181102  0.484848  0.438503  0.111675  0.874016  0.480519   \n",
       "2     0.521368  0.244094  0.565657  0.449198  0.258883  0.496063  0.675325   \n",
       "3     0.218803  0.259843  0.267677  0.235294  0.269036  0.409449  0.201299   \n",
       "4     1.000000  0.377953  0.969697  0.534759  0.771574  0.692913  0.831169   \n",
       "...        ...       ...       ...       ...       ...       ...       ...   \n",
       "3303  0.435897  0.291339  0.318182  0.310160  0.390863  0.535433  0.558442   \n",
       "3304  0.358974  0.153543  0.414141  0.219251  0.203046  0.480315  0.766234   \n",
       "3305  0.615385  0.374016  0.565657  0.411765  0.451777  0.598425  0.532468   \n",
       "3306  0.529915  0.255906  0.393939  0.395722  0.350254  0.708661  0.681818   \n",
       "3307  0.658120  0.326772  0.464646  0.502674  0.654822  0.519685  0.597403   \n",
       "\n",
       "      Name  Type 1  Type 2  Generation  \n",
       "0        6       5       8           1  \n",
       "1       60       4       8           1  \n",
       "2      133       0       4           1  \n",
       "3       23       3       8           1  \n",
       "4       92      12       3           1  \n",
       "...    ...     ...     ...         ...  \n",
       "3303   151       0       9           1  \n",
       "3304    35       8       8           1  \n",
       "3305     6       5       8           1  \n",
       "3306   103       5       8           1  \n",
       "3307    94       5       4           1  \n",
       "\n",
       "[3308 rows x 11 columns]"
      ]
     },
     "execution_count": 8,
     "metadata": {},
     "output_type": "execute_result"
    }
   ],
   "source": [
    "df_prepared = pd.concat([df_num_norm, df_cat, df_clean['Generation']], axis=1)\n",
    "df_prepared"
   ]
  },
  {
   "cell_type": "markdown",
   "id": "ab906eb6-3d8a-494e-a3b4-2ee9941c31f9",
   "metadata": {},
   "source": [
    "## Przewidywanie nazwy pokemona"
   ]
  },
  {
   "cell_type": "markdown",
   "id": "28ded85c-85da-45fa-b2df-c0a22327a15f",
   "metadata": {},
   "source": [
    "### Funkcja pomocniczna do trenowania i testowania oraz rysowania wykresów"
   ]
  },
  {
   "cell_type": "code",
   "execution_count": 38,
   "id": "65319ea2-3657-461f-8b08-1bf7e4457266",
   "metadata": {},
   "outputs": [],
   "source": [
    "def train(clf, X, y):\n",
    "    for test_split in [0.1, 0.2, 0.3, 0.4]:\n",
    "        print(f\"Train size: {(1 - test_split) * 100}%, Test size: {test_split * 100}%\")\n",
    "        X_train, X_test, y_train, y_test = train_test_split(X, y, test_size=test_split, random_state=42)\n",
    "        clf.fit(X_train, y_train)\n",
    "        y_pred = clf.predict(X_test)\n",
    "        print(f\"Accuracy: {np.round(accuracy_score(y_pred=y_pred, y_true=y_test), 3)}\")\n",
    "        print(f\"Precision: {np.round(precision_score(y_pred=y_pred, y_true=y_test, average='micro'), 3)}\")\n",
    "        print(f\"Recall: {np.round(recall_score(y_pred=y_pred, y_true=y_test, average='micro'), 3)}\")\n",
    "        print(f\"F1-score: {np.round(f1_score(y_pred=y_pred, y_true=y_test, average='micro'), 3)}\")\n",
    "\n",
    "\n",
    "def plot_models_metrics(X, y):\n",
    "    X_train, X_test, y_train, y_test = train_test_split(X, y, test_size=0.2)\n",
    "    \n",
    "    log_reg = LogisticRegression()\n",
    "    dt_clf = DecisionTreeClassifier(random_state=42)\n",
    "    rf_clf = RandomForestClassifier(random_state=42)\n",
    "    \n",
    "    log_reg.fit(X_train, y_train)\n",
    "    dt_clf.fit(X_train, y_train)\n",
    "    rf_clf.fit(X_train, y_train)\n",
    "    \n",
    "    y_pred_log =  log_reg.predict(X_test)\n",
    "    y_pred_dt = dt_clf.predict(X_test)\n",
    "    y_pred_rf = rf_clf.predict(X_test)\n",
    "    \n",
    "    results = []\n",
    "    \n",
    "    for y_pred in [y_pred_log, y_pred_dt, y_pred_rf]:\n",
    "        results.append([accuracy_score(y_pred, y_test), precision_score(y_pred, y_test, average='micro'), recall_score(y_pred, y_test, average='micro'), f1_score(y_pred, y_test, average='micro')])\n",
    "    results_T = np.array(results).T\n",
    "    \n",
    "    colors = ['blue', 'green', 'black']\n",
    "    \n",
    "    figure, axs = plt.subplots(2,2, figsize=(10, 10))\n",
    "    axs[0,0].title.set_text('Accuracy')\n",
    "    axs[0,0].bar(['Log_reg', 'Decisiontree', 'RandomForest'], results_T[0], color=colors)\n",
    "    axs[0,1].title.set_text('Precision')\n",
    "    axs[0,1].bar(['Log_reg', 'Decisiontree', 'RandomForest'], results_T[1], color=colors)\n",
    "    axs[1,0].title.set_text('Recall')\n",
    "    axs[1,0].bar(['Log_reg', 'Decisiontree', 'RandomForest'], results_T[2], color=colors)\n",
    "    axs[1,1].title.set_text('F1-score')\n",
    "    axs[1,1].bar(['Log_reg', 'Decisiontree', 'RandomForest'], results_T[3], color=colors)\n",
    "    plt.show()"
   ]
  },
  {
   "cell_type": "code",
   "execution_count": 39,
   "id": "f544cd7d-cdb2-4c40-b182-75f7b8ff96bd",
   "metadata": {},
   "outputs": [],
   "source": [
    "X = df_prepared[['HP', 'Attack', 'Defense', 'Sp. Atk', 'Sp. Def', 'Speed']]\n",
    "y = df_cat.Name\n",
    "#mlflow.set_experiment(\"Predict Pokemons Name\")"
   ]
  },
  {
   "cell_type": "markdown",
   "id": "e11056a2-9a25-43d0-9f60-03532e375f94",
   "metadata": {
    "jp-MarkdownHeadingCollapsed": true
   },
   "source": [
    "### Regresja logistyczna"
   ]
  },
  {
   "cell_type": "code",
   "execution_count": 37,
   "id": "b6223e0d-6f0f-452c-a978-1654d3704607",
   "metadata": {},
   "outputs": [
    {
     "name": "stdout",
     "output_type": "stream",
     "text": [
      "Train size: 90.0%, Test size: 10.0%\n",
      "Accuracy: 0.254\n",
      "Precision: 0.254\n",
      "Recall: 0.254\n",
      "F1-score: 0.254\n",
      "Train size: 80.0%, Test size: 20.0%\n",
      "Accuracy: 0.233\n",
      "Precision: 0.233\n",
      "Recall: 0.233\n",
      "F1-score: 0.233\n",
      "Train size: 70.0%, Test size: 30.0%\n",
      "Accuracy: 0.242\n",
      "Precision: 0.242\n",
      "Recall: 0.242\n",
      "F1-score: 0.242\n",
      "Train size: 60.0%, Test size: 40.0%\n",
      "Accuracy: 0.222\n",
      "Precision: 0.222\n",
      "Recall: 0.222\n",
      "F1-score: 0.222\n"
     ]
    }
   ],
   "source": [
    "log_reg = LogisticRegression()\n",
    "train(log_reg, X, y)"
   ]
  },
  {
   "cell_type": "markdown",
   "id": "306c3791-dd5d-486b-8ceb-1d497751f1cf",
   "metadata": {
    "jp-MarkdownHeadingCollapsed": true
   },
   "source": [
    "### Drzewo decyzyjne"
   ]
  },
  {
   "cell_type": "code",
   "execution_count": 38,
   "id": "2a12363a-d820-4a8e-82a4-6a7947c94a82",
   "metadata": {},
   "outputs": [
    {
     "name": "stdout",
     "output_type": "stream",
     "text": [
      "Train size: 90.0%, Test size: 10.0%\n",
      "Accuracy: 0.764\n",
      "Precision: 0.764\n",
      "Recall: 0.764\n",
      "F1-score: 0.764\n",
      "Train size: 80.0%, Test size: 20.0%\n",
      "Accuracy: 0.79\n",
      "Precision: 0.79\n",
      "Recall: 0.79\n",
      "F1-score: 0.79\n",
      "Train size: 70.0%, Test size: 30.0%\n",
      "Accuracy: 0.761\n",
      "Precision: 0.761\n",
      "Recall: 0.761\n",
      "F1-score: 0.761\n",
      "Train size: 60.0%, Test size: 40.0%\n",
      "Accuracy: 0.748\n",
      "Precision: 0.748\n",
      "Recall: 0.748\n",
      "F1-score: 0.748\n"
     ]
    }
   ],
   "source": [
    "dt_clf = DecisionTreeClassifier(random_state=42)\n",
    "train(dt_clf, X, y)"
   ]
  },
  {
   "cell_type": "markdown",
   "id": "0856b17e-7091-435a-8cac-6b883accf4fd",
   "metadata": {
    "jp-MarkdownHeadingCollapsed": true
   },
   "source": [
    "### Las losowy"
   ]
  },
  {
   "cell_type": "code",
   "execution_count": 39,
   "id": "bc929930-a287-400c-b47a-96b4dcda70c6",
   "metadata": {},
   "outputs": [
    {
     "name": "stdout",
     "output_type": "stream",
     "text": [
      "Train size: 90.0%, Test size: 10.0%\n",
      "Accuracy: 0.915\n",
      "Precision: 0.915\n",
      "Recall: 0.915\n",
      "F1-score: 0.915\n",
      "Train size: 80.0%, Test size: 20.0%\n",
      "Accuracy: 0.903\n",
      "Precision: 0.903\n",
      "Recall: 0.903\n",
      "F1-score: 0.903\n",
      "Train size: 70.0%, Test size: 30.0%\n",
      "Accuracy: 0.892\n",
      "Precision: 0.892\n",
      "Recall: 0.892\n",
      "F1-score: 0.892\n",
      "Train size: 60.0%, Test size: 40.0%\n",
      "Accuracy: 0.894\n",
      "Precision: 0.894\n",
      "Recall: 0.894\n",
      "F1-score: 0.894\n"
     ]
    }
   ],
   "source": [
    "rf_clf = RandomForestClassifier(random_state=42)\n",
    "train(rf_clf, X, y)"
   ]
  },
  {
   "cell_type": "markdown",
   "id": "7b8e0bff-eb3d-452a-85e8-de4e40a81730",
   "metadata": {
    "jp-MarkdownHeadingCollapsed": true
   },
   "source": [
    "### K-NN"
   ]
  },
  {
   "cell_type": "code",
   "execution_count": 40,
   "id": "b519a611-b438-42a6-9395-1ac481d2ec79",
   "metadata": {},
   "outputs": [
    {
     "name": "stdout",
     "output_type": "stream",
     "text": [
      "Train size: 90.0%, Test size: 10.0%\n",
      "Accuracy: 0.888\n",
      "Precision: 0.888\n",
      "Recall: 0.888\n",
      "F1-score: 0.888\n",
      "Train size: 80.0%, Test size: 20.0%\n",
      "Accuracy: 0.894\n",
      "Precision: 0.894\n",
      "Recall: 0.894\n",
      "F1-score: 0.894\n",
      "Train size: 70.0%, Test size: 30.0%\n",
      "Accuracy: 0.896\n",
      "Precision: 0.896\n",
      "Recall: 0.896\n",
      "F1-score: 0.896\n",
      "Train size: 60.0%, Test size: 40.0%\n",
      "Accuracy: 0.888\n",
      "Precision: 0.888\n",
      "Recall: 0.888\n",
      "F1-score: 0.888\n"
     ]
    }
   ],
   "source": [
    "knn_clf = KNeighborsClassifier()\n",
    "train(knn_clf, X, y)"
   ]
  },
  {
   "cell_type": "markdown",
   "id": "950e0900-e6dc-45e4-80fe-1f1b41ce2390",
   "metadata": {},
   "source": [
    "### SVM"
   ]
  },
  {
   "cell_type": "code",
   "execution_count": 41,
   "id": "1d809a42-cdea-43a1-82d4-a9f968eadaef",
   "metadata": {},
   "outputs": [
    {
     "name": "stdout",
     "output_type": "stream",
     "text": [
      "Train size: 90.0%, Test size: 10.0%\n",
      "Accuracy: 0.891\n",
      "Precision: 0.891\n",
      "Recall: 0.891\n",
      "F1-score: 0.891\n",
      "Train size: 80.0%, Test size: 20.0%\n",
      "Accuracy: 0.896\n",
      "Precision: 0.896\n",
      "Recall: 0.896\n",
      "F1-score: 0.896\n",
      "Train size: 70.0%, Test size: 30.0%\n",
      "Accuracy: 0.87\n",
      "Precision: 0.87\n",
      "Recall: 0.87\n",
      "F1-score: 0.87\n",
      "Train size: 60.0%, Test size: 40.0%\n",
      "Accuracy: 0.856\n",
      "Precision: 0.856\n",
      "Recall: 0.856\n",
      "F1-score: 0.856\n"
     ]
    }
   ],
   "source": [
    "svc_clf = SVC()\n",
    "train(svc_clf, X, y)"
   ]
  },
  {
   "cell_type": "code",
   "execution_count": 40,
   "id": "a8b339fe-c8f6-42af-b644-245be4939315",
   "metadata": {},
   "outputs": [
    {
     "data": {
      "image/png": "[encoded data removed]",
      "text/plain": [
       "<Figure size 1000x1000 with 4 Axes>"
      ]
     },
     "metadata": {},
     "output_type": "display_data"
    }
   ],
   "source": [
    "plot_models_metrics(X, y)"
   ]
  },
  {
   "cell_type": "markdown",
   "id": "cfbee53c-fac1-4b58-a423-a73daccd93db",
   "metadata": {},
   "source": [
    "## Przewidywanie pierwszego typu Pokemona"
   ]
  },
  {
   "cell_type": "code",
   "execution_count": 41,
   "id": "5d907bfc-88dd-425d-b995-0124d5993eed",
   "metadata": {},
   "outputs": [],
   "source": [
    "X = df_prepared[['HP', 'Attack', 'Defense', 'Sp. Atk', 'Sp. Def', 'Speed']]\n",
    "y = df_cat['Type 1']\n",
    "#mlflow.set_experiment(\"Predict Pokemons Type 1\")"
   ]
  },
  {
   "cell_type": "markdown",
   "id": "50fc51c6-1987-4ee4-9f86-045388880688",
   "metadata": {
    "jp-MarkdownHeadingCollapsed": true
   },
   "source": [
    "### Regresja logistyczna"
   ]
  },
  {
   "cell_type": "code",
   "execution_count": 43,
   "id": "a0274204-5849-4634-82c6-a75d8b06acff",
   "metadata": {},
   "outputs": [
    {
     "name": "stdout",
     "output_type": "stream",
     "text": [
      "Train size: 90.0%, Test size: 10.0%\n",
      "Accuracy: 0.347\n",
      "Precision: 0.347\n",
      "Recall: 0.347\n",
      "F1-score: 0.347\n",
      "Train size: 80.0%, Test size: 20.0%\n",
      "Accuracy: 0.356\n",
      "Precision: 0.356\n",
      "Recall: 0.356\n",
      "F1-score: 0.356\n",
      "Train size: 70.0%, Test size: 30.0%\n",
      "Accuracy: 0.36\n",
      "Precision: 0.36\n",
      "Recall: 0.36\n",
      "F1-score: 0.36\n",
      "Train size: 60.0%, Test size: 40.0%\n",
      "Accuracy: 0.355\n",
      "Precision: 0.355\n",
      "Recall: 0.355\n",
      "F1-score: 0.355\n"
     ]
    }
   ],
   "source": [
    "log_reg = LogisticRegression()\n",
    "train(log_reg, X, y)"
   ]
  },
  {
   "cell_type": "markdown",
   "id": "60c0dd7d-5656-45b2-8a5b-ec3d58423997",
   "metadata": {
    "jp-MarkdownHeadingCollapsed": true
   },
   "source": [
    "### Drzewo decyzyjne"
   ]
  },
  {
   "cell_type": "code",
   "execution_count": 44,
   "id": "a94ce432-4d02-45aa-85c6-0ef0694b0cd2",
   "metadata": {},
   "outputs": [
    {
     "name": "stdout",
     "output_type": "stream",
     "text": [
      "Train size: 90.0%, Test size: 10.0%\n",
      "Accuracy: 0.798\n",
      "Precision: 0.798\n",
      "Recall: 0.798\n",
      "F1-score: 0.798\n",
      "Train size: 80.0%, Test size: 20.0%\n",
      "Accuracy: 0.776\n",
      "Precision: 0.776\n",
      "Recall: 0.776\n",
      "F1-score: 0.776\n",
      "Train size: 70.0%, Test size: 30.0%\n",
      "Accuracy: 0.773\n",
      "Precision: 0.773\n",
      "Recall: 0.773\n",
      "F1-score: 0.773\n",
      "Train size: 60.0%, Test size: 40.0%\n",
      "Accuracy: 0.739\n",
      "Precision: 0.739\n",
      "Recall: 0.739\n",
      "F1-score: 0.739\n"
     ]
    }
   ],
   "source": [
    "dt_clf = DecisionTreeClassifier(random_state=42)\n",
    "train(dt_clf, X, y)"
   ]
  },
  {
   "cell_type": "markdown",
   "id": "17a261a8-a53f-47ab-b970-c9bf6307c4d1",
   "metadata": {
    "jp-MarkdownHeadingCollapsed": true
   },
   "source": [
    "### Las losowy"
   ]
  },
  {
   "cell_type": "code",
   "execution_count": 45,
   "id": "e1c8b9c1-f5dc-4910-8059-53da61d40b59",
   "metadata": {},
   "outputs": [
    {
     "name": "stdout",
     "output_type": "stream",
     "text": [
      "Train size: 90.0%, Test size: 10.0%\n",
      "Accuracy: 0.909\n",
      "Precision: 0.909\n",
      "Recall: 0.909\n",
      "F1-score: 0.909\n",
      "Train size: 80.0%, Test size: 20.0%\n",
      "Accuracy: 0.899\n",
      "Precision: 0.899\n",
      "Recall: 0.899\n",
      "F1-score: 0.899\n",
      "Train size: 70.0%, Test size: 30.0%\n",
      "Accuracy: 0.901\n",
      "Precision: 0.901\n",
      "Recall: 0.901\n",
      "F1-score: 0.901\n",
      "Train size: 60.0%, Test size: 40.0%\n",
      "Accuracy: 0.887\n",
      "Precision: 0.887\n",
      "Recall: 0.887\n",
      "F1-score: 0.887\n"
     ]
    }
   ],
   "source": [
    "rf_clf = RandomForestClassifier(random_state=42)\n",
    "train(rf_clf, X, y)"
   ]
  },
  {
   "cell_type": "markdown",
   "id": "571e1d49-bc4c-4432-bf79-18eb617cb316",
   "metadata": {
    "jp-MarkdownHeadingCollapsed": true
   },
   "source": [
    "### KNN"
   ]
  },
  {
   "cell_type": "code",
   "execution_count": 31,
   "id": "588e524e-dd66-44d8-bb70-2c958ada9315",
   "metadata": {},
   "outputs": [
    {
     "name": "stdout",
     "output_type": "stream",
     "text": [
      "Train size: 90.0%, Test size: 10.0%\n",
      "Accuracy: 0.924\n",
      "Precision: 0.924\n",
      "Recall: 0.924\n",
      "F1-score: 0.924\n",
      "Train size: 80.0%, Test size: 20.0%\n",
      "Accuracy: 0.924\n",
      "Precision: 0.924\n",
      "Recall: 0.924\n",
      "F1-score: 0.924\n",
      "Train size: 70.0%, Test size: 30.0%\n",
      "Accuracy: 0.925\n",
      "Precision: 0.925\n",
      "Recall: 0.925\n",
      "F1-score: 0.925\n",
      "Train size: 60.0%, Test size: 40.0%\n",
      "Accuracy: 0.922\n",
      "Precision: 0.922\n",
      "Recall: 0.922\n",
      "F1-score: 0.922\n"
     ]
    }
   ],
   "source": [
    "knn_clf = KNeighborsClassifier()\n",
    "train(knn_clf)"
   ]
  },
  {
   "cell_type": "markdown",
   "id": "2edd515a-0572-47e5-84ca-ff51b02d43e8",
   "metadata": {},
   "source": [
    "### SVM"
   ]
  },
  {
   "cell_type": "code",
   "execution_count": 46,
   "id": "206bfc6f-13d0-4645-ac52-cd66704b016d",
   "metadata": {},
   "outputs": [
    {
     "name": "stdout",
     "output_type": "stream",
     "text": [
      "Train size: 90.0%, Test size: 10.0%\n",
      "Accuracy: 0.776\n",
      "Precision: 0.776\n",
      "Recall: 0.776\n",
      "F1-score: 0.776\n",
      "Train size: 80.0%, Test size: 20.0%\n",
      "Accuracy: 0.767\n",
      "Precision: 0.767\n",
      "Recall: 0.767\n",
      "F1-score: 0.767\n",
      "Train size: 70.0%, Test size: 30.0%\n",
      "Accuracy: 0.764\n",
      "Precision: 0.764\n",
      "Recall: 0.764\n",
      "F1-score: 0.764\n",
      "Train size: 60.0%, Test size: 40.0%\n",
      "Accuracy: 0.744\n",
      "Precision: 0.744\n",
      "Recall: 0.744\n",
      "F1-score: 0.744\n"
     ]
    }
   ],
   "source": [
    "svc_clf = SVC()\n",
    "train(svc_clf, X, y)"
   ]
  },
  {
   "cell_type": "code",
   "execution_count": 42,
   "id": "4e1a5ea1-9244-4aba-9d56-9520a0a30446",
   "metadata": {},
   "outputs": [
    {
     "data": {
      "image/png": "[encoded data removed]",
      "text/plain": [
       "<Figure size 1000x1000 with 4 Axes>"
      ]
     },
     "metadata": {},
     "output_type": "display_data"
    }
   ],
   "source": [
    "plot_models_metrics(X, y)"
   ]
  },
  {
   "cell_type": "markdown",
   "id": "17209161-8cf7-42e4-9ca6-91405240f4ab",
   "metadata": {},
   "source": [
    "### Przewidywanie drugiego typu Pokemona"
   ]
  },
  {
   "cell_type": "code",
   "execution_count": 44,
   "id": "637fee5e-58ac-49fb-8916-40d561400450",
   "metadata": {},
   "outputs": [],
   "source": [
    "X = df_prepared[['HP', 'Attack', 'Defense', 'Sp. Atk', 'Sp. Def', 'Speed']]\n",
    "y = df_cat['Type 2']\n",
    "#mlflow.set_experiment(\"Predict Pokemons Type 2\")"
   ]
  },
  {
   "cell_type": "markdown",
   "id": "dfda0a3d-747b-4f9f-92c7-f5d4c78fa62e",
   "metadata": {
    "jp-MarkdownHeadingCollapsed": true
   },
   "source": [
    "### Regresja logistyczna"
   ]
  },
  {
   "cell_type": "code",
   "execution_count": 49,
   "id": "e7f55a6f-a72c-47c1-b852-52e40e2669e4",
   "metadata": {},
   "outputs": [
    {
     "name": "stdout",
     "output_type": "stream",
     "text": [
      "Train size: 90.0%, Test size: 10.0%\n",
      "Accuracy: 0.489\n",
      "Precision: 0.489\n",
      "Recall: 0.489\n",
      "F1-score: 0.489\n",
      "Train size: 80.0%, Test size: 20.0%\n",
      "Accuracy: 0.491\n",
      "Precision: 0.491\n",
      "Recall: 0.491\n",
      "F1-score: 0.491\n",
      "Train size: 70.0%, Test size: 30.0%\n",
      "Accuracy: 0.515\n",
      "Precision: 0.515\n",
      "Recall: 0.515\n",
      "F1-score: 0.515\n",
      "Train size: 60.0%, Test size: 40.0%\n",
      "Accuracy: 0.526\n",
      "Precision: 0.526\n",
      "Recall: 0.526\n",
      "F1-score: 0.526\n"
     ]
    }
   ],
   "source": [
    "log_reg = LogisticRegression()\n",
    "train(log_reg, X, y)"
   ]
  },
  {
   "cell_type": "markdown",
   "id": "73fb610c-323e-4457-803c-bb85af985b29",
   "metadata": {
    "jp-MarkdownHeadingCollapsed": true
   },
   "source": [
    "### Drzewo decyzyjne"
   ]
  },
  {
   "cell_type": "code",
   "execution_count": 52,
   "id": "64ec23de-778e-493d-ab7c-b11bceb9758e",
   "metadata": {},
   "outputs": [
    {
     "name": "stdout",
     "output_type": "stream",
     "text": [
      "Train size: 90.0%, Test size: 10.0%\n",
      "Accuracy: 0.843\n",
      "Precision: 0.843\n",
      "Recall: 0.843\n",
      "F1-score: 0.843\n",
      "Train size: 80.0%, Test size: 20.0%\n",
      "Accuracy: 0.807\n",
      "Precision: 0.807\n",
      "Recall: 0.807\n",
      "F1-score: 0.807\n",
      "Train size: 70.0%, Test size: 30.0%\n",
      "Accuracy: 0.81\n",
      "Precision: 0.81\n",
      "Recall: 0.81\n",
      "F1-score: 0.81\n",
      "Train size: 60.0%, Test size: 40.0%\n",
      "Accuracy: 0.804\n",
      "Precision: 0.804\n",
      "Recall: 0.804\n",
      "F1-score: 0.804\n"
     ]
    }
   ],
   "source": [
    "dt_clf = DecisionTreeClassifier(random_state=42)\n",
    "train(dt_clf, X, y)"
   ]
  },
  {
   "cell_type": "markdown",
   "id": "6044c265-db1d-4ede-83b3-29715c8c1f23",
   "metadata": {
    "jp-MarkdownHeadingCollapsed": true
   },
   "source": [
    "### Las losowy"
   ]
  },
  {
   "cell_type": "code",
   "execution_count": 53,
   "id": "71c64183-f6cb-40ca-b5f5-77ca0de8b9b0",
   "metadata": {},
   "outputs": [
    {
     "name": "stdout",
     "output_type": "stream",
     "text": [
      "Train size: 90.0%, Test size: 10.0%\n",
      "Accuracy: 0.934\n",
      "Precision: 0.934\n",
      "Recall: 0.934\n",
      "F1-score: 0.934\n",
      "Train size: 80.0%, Test size: 20.0%\n",
      "Accuracy: 0.915\n",
      "Precision: 0.915\n",
      "Recall: 0.915\n",
      "F1-score: 0.915\n",
      "Train size: 70.0%, Test size: 30.0%\n",
      "Accuracy: 0.914\n",
      "Precision: 0.914\n",
      "Recall: 0.914\n",
      "F1-score: 0.914\n",
      "Train size: 60.0%, Test size: 40.0%\n",
      "Accuracy: 0.91\n",
      "Precision: 0.91\n",
      "Recall: 0.91\n",
      "F1-score: 0.91\n"
     ]
    }
   ],
   "source": [
    "rf_clf = RandomForestClassifier(random_state=42)\n",
    "train(rf_clf, X, y)"
   ]
  },
  {
   "cell_type": "markdown",
   "id": "66c2ca58-f37a-4aba-8a70-43feb50e0c18",
   "metadata": {
    "jp-MarkdownHeadingCollapsed": true
   },
   "source": [
    "### KNN"
   ]
  },
  {
   "cell_type": "code",
   "execution_count": 54,
   "id": "76310afa-6ffe-401a-98c6-e1aa32c406ab",
   "metadata": {},
   "outputs": [
    {
     "name": "stdout",
     "output_type": "stream",
     "text": [
      "Train size: 90.0%, Test size: 10.0%\n",
      "Accuracy: 0.934\n",
      "Precision: 0.934\n",
      "Recall: 0.934\n",
      "F1-score: 0.934\n",
      "Train size: 80.0%, Test size: 20.0%\n",
      "Accuracy: 0.94\n",
      "Precision: 0.94\n",
      "Recall: 0.94\n",
      "F1-score: 0.94\n",
      "Train size: 70.0%, Test size: 30.0%\n",
      "Accuracy: 0.945\n",
      "Precision: 0.945\n",
      "Recall: 0.945\n",
      "F1-score: 0.945\n",
      "Train size: 60.0%, Test size: 40.0%\n",
      "Accuracy: 0.942\n",
      "Precision: 0.942\n",
      "Recall: 0.942\n",
      "F1-score: 0.942\n"
     ]
    }
   ],
   "source": [
    "knn_clf = KNeighborsClassifier()\n",
    "train(knn_clf, X, y)"
   ]
  },
  {
   "cell_type": "markdown",
   "id": "c73774b8-05b5-4947-893a-efc839f64560",
   "metadata": {},
   "source": [
    "### SVM"
   ]
  },
  {
   "cell_type": "code",
   "execution_count": 55,
   "id": "4d79b9f6-341b-4f34-85b8-45cc3b90f210",
   "metadata": {},
   "outputs": [
    {
     "name": "stdout",
     "output_type": "stream",
     "text": [
      "Train size: 90.0%, Test size: 10.0%\n",
      "Accuracy: 0.792\n",
      "Precision: 0.792\n",
      "Recall: 0.792\n",
      "F1-score: 0.792\n",
      "Train size: 80.0%, Test size: 20.0%\n",
      "Accuracy: 0.757\n",
      "Precision: 0.757\n",
      "Recall: 0.757\n",
      "F1-score: 0.757\n",
      "Train size: 70.0%, Test size: 30.0%\n",
      "Accuracy: 0.776\n",
      "Precision: 0.776\n",
      "Recall: 0.776\n",
      "F1-score: 0.776\n",
      "Train size: 60.0%, Test size: 40.0%\n",
      "Accuracy: 0.768\n",
      "Precision: 0.768\n",
      "Recall: 0.768\n",
      "F1-score: 0.768\n"
     ]
    }
   ],
   "source": [
    "svm_clf = SVC()\n",
    "train(svm_clf, X, y)"
   ]
  },
  {
   "cell_type": "code",
   "execution_count": 45,
   "id": "3736ff46-77cc-446b-902f-2120a8fb9775",
   "metadata": {},
   "outputs": [
    {
     "data": {
      "image/png": "[encoded data removed]",
      "text/plain": [
       "<Figure size 1000x1000 with 4 Axes>"
      ]
     },
     "metadata": {},
     "output_type": "display_data"
    }
   ],
   "source": [
    "plot_models_metrics(X, y)"
   ]
  }
 ],
 "metadata": {
  "kernelspec": {
   "display_name": "Python 3 (ipykernel)",
   "language": "python",
   "name": "python3"
  },
  "language_info": {
   "codemirror_mode": {
    "name": "ipython",
    "version": 3
   },
   "file_extension": ".py",
   "mimetype": "text/x-python",
   "name": "python",
   "nbconvert_exporter": "python",
   "pygments_lexer": "ipython3",
   "version": "3.12.6"
  }
 },
 "nbformat": 4,
 "nbformat_minor": 5
}
