{
 "cells": [
  {
   "cell_type": "markdown",
   "id": "db8090e0-ff06-4aa1-9000-7544299c3e28",
   "metadata": {},
   "source": [
    "## Wczytanie bibliotek"
   ]
  },
  {
   "cell_type": "code",
   "execution_count": 14,
   "id": "608bc262-ad24-43d3-bf27-2681f31ab0b7",
   "metadata": {},
   "outputs": [],
   "source": [
    "import pandas as pd\n",
    "import matplotlib.pyplot as plt\n",
    "import seaborn as sns\n",
    "from sklearn.model_selection import train_test_split, cross_validate\n",
    "from sklearn.preprocessing import LabelEncoder, MinMaxScaler\n",
    "from sklearn.ensemble import RandomForestClassifier, GradientBoostingClassifier, AdaBoostClassifier\n",
    "from sklearn.tree import DecisionTreeClassifier\n",
    "from sklearn.neighbors import KNeighborsClassifier\n",
    "from sklearn.linear_model import LogisticRegression\n",
    "from sklearn.svm import SVC\n",
    "from sklearn.metrics import accuracy_score, f1_score\n",
    "from sklearn.base import clone\n",
    "from imblearn.over_sampling import SMOTE\n",
    "import xgboost as xgb\n",
    "import numpy as np\n",
    "import mlflow\n",
    "\n",
    "mlflow.set_tracking_uri(uri=\"http://127.0.0.1:8080\")"
   ]
  },
  {
   "cell_type": "markdown",
   "id": "0281135d-a2c1-4931-9bff-acf850685d67",
   "metadata": {},
   "source": [
    "## Wczytanie i przetworzenie danych\n",
    "Poniższy kod nie będzie jakoś bardzo analizowany, ze względu na to, że w poprzednich notebookach ten kod był tworzony. W tym notebooku jedynie kod jest skopiowany, aby przygotowac dane do treningu różny modeli"
   ]
  },
  {
   "cell_type": "code",
   "execution_count": 9,
   "id": "1bd71be2-7960-42bc-a8c5-48ac54bead73",
   "metadata": {},
   "outputs": [
    {
     "data": {
      "text/html": [
       "<div>\n",
       "<style scoped>\n",
       "    .dataframe tbody tr th:only-of-type {\n",
       "        vertical-align: middle;\n",
       "    }\n",
       "\n",
       "    .dataframe tbody tr th {\n",
       "        vertical-align: top;\n",
       "    }\n",
       "\n",
       "    .dataframe thead th {\n",
       "        text-align: right;\n",
       "    }\n",
       "</style>\n",
       "<table border=\"1\" class=\"dataframe\">\n",
       "  <thead>\n",
       "    <tr style=\"text-align: right;\">\n",
       "      <th></th>\n",
       "      <th>#</th>\n",
       "      <th>Name</th>\n",
       "      <th>Type 1</th>\n",
       "      <th>Type 2</th>\n",
       "      <th>Total</th>\n",
       "      <th>HP</th>\n",
       "      <th>Attack</th>\n",
       "      <th>Defense</th>\n",
       "      <th>Sp. Atk</th>\n",
       "      <th>Sp. Def</th>\n",
       "      <th>Speed</th>\n",
       "      <th>Generation</th>\n",
       "      <th>Legendary</th>\n",
       "    </tr>\n",
       "  </thead>\n",
       "  <tbody>\n",
       "    <tr>\n",
       "      <th>0</th>\n",
       "      <td>59</td>\n",
       "      <td>Arcanine</td>\n",
       "      <td>Fire</td>\n",
       "      <td>NaN</td>\n",
       "      <td>555</td>\n",
       "      <td>82</td>\n",
       "      <td>110</td>\n",
       "      <td>88</td>\n",
       "      <td>105</td>\n",
       "      <td>72</td>\n",
       "      <td>98</td>\n",
       "      <td>1</td>\n",
       "      <td>False</td>\n",
       "    </tr>\n",
       "    <tr>\n",
       "      <th>1</th>\n",
       "      <td>107</td>\n",
       "      <td>Hitmonchan</td>\n",
       "      <td>Fighting</td>\n",
       "      <td>NaN</td>\n",
       "      <td>455</td>\n",
       "      <td>47</td>\n",
       "      <td>97</td>\n",
       "      <td>84</td>\n",
       "      <td>27</td>\n",
       "      <td>121</td>\n",
       "      <td>79</td>\n",
       "      <td>1</td>\n",
       "      <td>False</td>\n",
       "    </tr>\n",
       "    <tr>\n",
       "      <th>2</th>\n",
       "      <td>123</td>\n",
       "      <td>Scyther</td>\n",
       "      <td>Bug</td>\n",
       "      <td>Flying</td>\n",
       "      <td>500</td>\n",
       "      <td>63</td>\n",
       "      <td>113</td>\n",
       "      <td>86</td>\n",
       "      <td>56</td>\n",
       "      <td>73</td>\n",
       "      <td>109</td>\n",
       "      <td>1</td>\n",
       "      <td>False</td>\n",
       "    </tr>\n",
       "    <tr>\n",
       "      <th>3</th>\n",
       "      <td>35</td>\n",
       "      <td>Clefairy</td>\n",
       "      <td>Fairy</td>\n",
       "      <td>NaN</td>\n",
       "      <td>323</td>\n",
       "      <td>67</td>\n",
       "      <td>54</td>\n",
       "      <td>46</td>\n",
       "      <td>58</td>\n",
       "      <td>62</td>\n",
       "      <td>36</td>\n",
       "      <td>1</td>\n",
       "      <td>False</td>\n",
       "    </tr>\n",
       "    <tr>\n",
       "      <th>4</th>\n",
       "      <td>150</td>\n",
       "      <td>MewtwoMega Mewtwo X</td>\n",
       "      <td>Psychic</td>\n",
       "      <td>Fighting</td>\n",
       "      <td>780</td>\n",
       "      <td>97</td>\n",
       "      <td>193</td>\n",
       "      <td>102</td>\n",
       "      <td>157</td>\n",
       "      <td>98</td>\n",
       "      <td>133</td>\n",
       "      <td>1</td>\n",
       "      <td>True</td>\n",
       "    </tr>\n",
       "  </tbody>\n",
       "</table>\n",
       "</div>"
      ],
      "text/plain": [
       "     #                 Name    Type 1    Type 2  Total  HP  Attack  Defense  \\\n",
       "0   59             Arcanine      Fire       NaN    555  82     110       88   \n",
       "1  107           Hitmonchan  Fighting       NaN    455  47      97       84   \n",
       "2  123              Scyther       Bug    Flying    500  63     113       86   \n",
       "3   35             Clefairy     Fairy       NaN    323  67      54       46   \n",
       "4  150  MewtwoMega Mewtwo X   Psychic  Fighting    780  97     193      102   \n",
       "\n",
       "   Sp. Atk  Sp. Def  Speed  Generation  Legendary  \n",
       "0      105       72     98           1      False  \n",
       "1       27      121     79           1      False  \n",
       "2       56       73    109           1      False  \n",
       "3       58       62     36           1      False  \n",
       "4      157       98    133           1       True  "
      ]
     },
     "execution_count": 9,
     "metadata": {},
     "output_type": "execute_result"
    }
   ],
   "source": [
    "df = pd.read_csv(\"https://pwozniak.kia.prz.edu.pl/files/uczeniemaszynowe/train_data.csv\")\n",
    "df.head()"
   ]
  },
  {
   "cell_type": "code",
   "execution_count": 10,
   "id": "8465c783-91e8-478a-aeb7-9a5bce744729",
   "metadata": {},
   "outputs": [
    {
     "data": {
      "text/html": [
       "<div>\n",
       "<style scoped>\n",
       "    .dataframe tbody tr th:only-of-type {\n",
       "        vertical-align: middle;\n",
       "    }\n",
       "\n",
       "    .dataframe tbody tr th {\n",
       "        vertical-align: top;\n",
       "    }\n",
       "\n",
       "    .dataframe thead th {\n",
       "        text-align: right;\n",
       "    }\n",
       "</style>\n",
       "<table border=\"1\" class=\"dataframe\">\n",
       "  <thead>\n",
       "    <tr style=\"text-align: right;\">\n",
       "      <th></th>\n",
       "      <th>#</th>\n",
       "      <th>Name</th>\n",
       "      <th>Type 1</th>\n",
       "      <th>Type 2</th>\n",
       "      <th>Total</th>\n",
       "      <th>HP</th>\n",
       "      <th>Attack</th>\n",
       "      <th>Defense</th>\n",
       "      <th>Sp. Atk</th>\n",
       "      <th>Sp. Def</th>\n",
       "      <th>Speed</th>\n",
       "      <th>Generation</th>\n",
       "      <th>Legendary</th>\n",
       "    </tr>\n",
       "  </thead>\n",
       "  <tbody>\n",
       "    <tr>\n",
       "      <th>0</th>\n",
       "      <td>59</td>\n",
       "      <td>Arcanine</td>\n",
       "      <td>Fire</td>\n",
       "      <td>Other</td>\n",
       "      <td>555</td>\n",
       "      <td>82</td>\n",
       "      <td>110</td>\n",
       "      <td>88</td>\n",
       "      <td>105</td>\n",
       "      <td>72</td>\n",
       "      <td>98</td>\n",
       "      <td>1</td>\n",
       "      <td>False</td>\n",
       "    </tr>\n",
       "    <tr>\n",
       "      <th>1</th>\n",
       "      <td>107</td>\n",
       "      <td>Hitmonchan</td>\n",
       "      <td>Fighting</td>\n",
       "      <td>Other</td>\n",
       "      <td>455</td>\n",
       "      <td>47</td>\n",
       "      <td>97</td>\n",
       "      <td>84</td>\n",
       "      <td>27</td>\n",
       "      <td>121</td>\n",
       "      <td>79</td>\n",
       "      <td>1</td>\n",
       "      <td>False</td>\n",
       "    </tr>\n",
       "    <tr>\n",
       "      <th>2</th>\n",
       "      <td>123</td>\n",
       "      <td>Scyther</td>\n",
       "      <td>Bug</td>\n",
       "      <td>Flying</td>\n",
       "      <td>500</td>\n",
       "      <td>63</td>\n",
       "      <td>113</td>\n",
       "      <td>86</td>\n",
       "      <td>56</td>\n",
       "      <td>73</td>\n",
       "      <td>109</td>\n",
       "      <td>1</td>\n",
       "      <td>False</td>\n",
       "    </tr>\n",
       "    <tr>\n",
       "      <th>3</th>\n",
       "      <td>35</td>\n",
       "      <td>Clefairy</td>\n",
       "      <td>Fairy</td>\n",
       "      <td>Other</td>\n",
       "      <td>323</td>\n",
       "      <td>67</td>\n",
       "      <td>54</td>\n",
       "      <td>46</td>\n",
       "      <td>58</td>\n",
       "      <td>62</td>\n",
       "      <td>36</td>\n",
       "      <td>1</td>\n",
       "      <td>False</td>\n",
       "    </tr>\n",
       "    <tr>\n",
       "      <th>4</th>\n",
       "      <td>150</td>\n",
       "      <td>MewtwoMega Mewtwo X</td>\n",
       "      <td>Psychic</td>\n",
       "      <td>Fighting</td>\n",
       "      <td>780</td>\n",
       "      <td>97</td>\n",
       "      <td>193</td>\n",
       "      <td>102</td>\n",
       "      <td>157</td>\n",
       "      <td>98</td>\n",
       "      <td>133</td>\n",
       "      <td>1</td>\n",
       "      <td>True</td>\n",
       "    </tr>\n",
       "  </tbody>\n",
       "</table>\n",
       "</div>"
      ],
      "text/plain": [
       "     #                 Name    Type 1    Type 2  Total  HP  Attack  Defense  \\\n",
       "0   59             Arcanine      Fire     Other    555  82     110       88   \n",
       "1  107           Hitmonchan  Fighting     Other    455  47      97       84   \n",
       "2  123              Scyther       Bug    Flying    500  63     113       86   \n",
       "3   35             Clefairy     Fairy     Other    323  67      54       46   \n",
       "4  150  MewtwoMega Mewtwo X   Psychic  Fighting    780  97     193      102   \n",
       "\n",
       "   Sp. Atk  Sp. Def  Speed  Generation  Legendary  \n",
       "0      105       72     98           1      False  \n",
       "1       27      121     79           1      False  \n",
       "2       56       73    109           1      False  \n",
       "3       58       62     36           1      False  \n",
       "4      157       98    133           1       True  "
      ]
     },
     "execution_count": 10,
     "metadata": {},
     "output_type": "execute_result"
    }
   ],
   "source": [
    "df_no_nans = df.fillna('Other')\n",
    "df_no_nans.head()"
   ]
  },
  {
   "cell_type": "code",
   "execution_count": 11,
   "id": "73426043-a834-4a23-958b-44858f6f9691",
   "metadata": {},
   "outputs": [
    {
     "name": "stdout",
     "output_type": "stream",
     "text": [
      "Wiersze w Total które mają wartość poniżej lub równe 0: 0\n",
      "Wiersze w HP które mają wartość poniżej lub równe 0: 0\n",
      "Wiersze w Attack które mają wartość poniżej lub równe 0: 0\n",
      "Wiersze w Defense które mają wartość poniżej lub równe 0: 0\n",
      "Wiersze w Sp. Atk które mają wartość poniżej lub równe 0: 0\n",
      "Wiersze w Sp. Def które mają wartość poniżej lub równe 0: 0\n",
      "Wiersze w Speed które mają wartość poniżej lub równe 0: 0\n"
     ]
    }
   ],
   "source": [
    "df_clean = df_no_nans[(df_no_nans.HP > 0) & (df_no_nans.Attack > 0) & (df_no_nans.Defense > 0)].reset_index(drop=True)\n",
    "\n",
    "columns = ['Total', 'HP', 'Attack', 'Defense', 'Sp. Atk', 'Sp. Def', 'Speed']\n",
    "for column in columns:\n",
    "    print(f\"Wiersze w {column} które mają wartość poniżej lub równe 0: {len(df_clean[df_clean[column] <= 0])}\")"
   ]
  },
  {
   "cell_type": "code",
   "execution_count": 12,
   "id": "62f07f60-c4ad-417c-af7b-8c5c6c9cb374",
   "metadata": {},
   "outputs": [],
   "source": [
    "label_enc = LabelEncoder()\n",
    "df_cat = pd.DataFrame()\n",
    "for column in ['Name', 'Type 1', 'Type 2']:\n",
    "    df_cat[column] = label_enc.fit_transform(df_clean[column])"
   ]
  },
  {
   "cell_type": "code",
   "execution_count": 13,
   "id": "60e1930b-f3d8-499f-8a56-2d4eda5362ac",
   "metadata": {},
   "outputs": [],
   "source": [
    "df_num = df_clean[['Total', 'HP', 'Attack', 'Defense', 'Sp. Atk', 'Sp. Def', 'Speed']]\n",
    "minmax_scaler = MinMaxScaler()\n",
    "columns = df_num.columns\n",
    "np_num = minmax_scaler.fit_transform(df_num)\n",
    "df_num_norm = pd.DataFrame(np_num, columns=columns)\n",
    "df_prepared = pd.concat([df_num_norm, df_cat, df_clean['Generation']], axis=1)"
   ]
  },
  {
   "cell_type": "markdown",
   "id": "7e979edc-6a6f-4c64-a0c9-9188ebc0ed64",
   "metadata": {},
   "source": [
    "## Testowanie różnych modeli\n",
    "W tej części będzie testowane 7 różnych modeli:\n",
    " - Adaboosting\n",
    " - Drzewa decyzyjne\n",
    " - Gradient boosting\n",
    " - Regresja logistycznya\n",
    " - KNN\n",
    " - SVM\n",
    " - Las losowy\n",
    "Modele będą testowane na wykrywaniu imion pokemonów oraz typu I. Drugi typ zostanie pominięty, ponieważ nie jest on aż tak istotny."
   ]
  },
  {
   "cell_type": "code",
   "execution_count": 25,
   "id": "52ef9e6e-f7e5-4ed8-a0af-0456e9006a9d",
   "metadata": {},
   "outputs": [],
   "source": [
    "def train(clf, X, y, model_name):\n",
    "    with mlflow.start_run():\n",
    "        mlflow.set_tags({\"Model name\" : model_name,})\n",
    "        for cv in [5, 10, 20]:\n",
    "            print(f\"Cross validation k = {cv}\")\n",
    "            clf_t = clone(clf)\n",
    "            cv_results = cross_validate(clf_t, X, y, scoring=(\"accuracy\", \"f1_macro\"), cv=cv, n_jobs=-1)\n",
    "            accuracy = np.round(np.mean(cv_results[\"test_accuracy\"]), 3)\n",
    "            f1_score = np.round(np.mean(cv_results[\"test_f1_macro\"]), 3)\n",
    "            mlflow.log_metric(f\"Accuracy_{cv}\", accuracy)\n",
    "            mlflow.log_metric(f\"F1_score_{cv}\", f1_score)\n",
    "            \n",
    "            print(f\"Accuracy: {accuracy}\")\n",
    "            print(f\"F1-score: {f1_score}\")"
   ]
  },
  {
   "cell_type": "markdown",
   "id": "5c24bf41-66f0-4cbc-b5a3-5384b0bc28e1",
   "metadata": {},
   "source": [
    "### Podział danych\n",
    "Utworzenie zmiennych niezależnych (X) oraz zmiennej zależnej (y)."
   ]
  },
  {
   "cell_type": "code",
   "execution_count": 26,
   "id": "816ad68b-2bfe-43da-b1a0-c781625c86db",
   "metadata": {},
   "outputs": [],
   "source": [
    "X = df_prepared[['Total', 'HP', 'Attack', 'Defense', 'Sp. Atk', 'Sp. Def', 'Speed']]\n",
    "y_pok = df_prepared.Name"
   ]
  },
  {
   "cell_type": "markdown",
   "id": "c2a6aa13-d49b-4e29-be9e-3cc0737d6a9f",
   "metadata": {},
   "source": [
    "### KNN"
   ]
  },
  {
   "cell_type": "code",
   "execution_count": 27,
   "id": "0ad6fdb1-2131-4c19-b0f3-aae4ec548dcd",
   "metadata": {},
   "outputs": [
    {
     "name": "stdout",
     "output_type": "stream",
     "text": [
      "Cross validation k = 5\n",
      "Accuracy: 0.921\n",
      "F1-score: 0.919\n",
      "Cross validation k = 10\n",
      "Accuracy: 0.925\n",
      "F1-score: 0.92\n",
      "Cross validation k = 20\n",
      "Accuracy: 0.923\n",
      "F1-score: 0.903\n"
     ]
    },
    {
     "name": "stderr",
     "output_type": "stream",
     "text": [
      "C:\\Users\\urbii\\Desktop\\Projekty\\Machine-learning-course\\venv\\Lib\\site-packages\\sklearn\\model_selection\\_split.py:776: UserWarning: The least populated class in y has only 9 members, which is less than n_splits=10.\n",
      "  warnings.warn(\n",
      "C:\\Users\\urbii\\Desktop\\Projekty\\Machine-learning-course\\venv\\Lib\\site-packages\\sklearn\\model_selection\\_split.py:776: UserWarning: The least populated class in y has only 9 members, which is less than n_splits=20.\n",
      "  warnings.warn(\n",
      "2024/12/11 18:05:22 INFO mlflow.tracking._tracking_service.client: 🏃 View run glamorous-horse-329 at: http://127.0.0.1:8080/#/experiments/479905616626895318/runs/396a4414cceb4e89b90a17d72569e1e4.\n",
      "2024/12/11 18:05:22 INFO mlflow.tracking._tracking_service.client: 🧪 View experiment at: http://127.0.0.1:8080/#/experiments/479905616626895318.\n"
     ]
    }
   ],
   "source": [
    "mlflow.set_experiment(\"Predict Pokemons Name\")\n",
    "knn = KNeighborsClassifier()\n",
    "train(knn, X, y_pok, \"KNN\")"
   ]
  },
  {
   "cell_type": "markdown",
   "id": "678e9a09-308e-45ba-a300-144107cfc46e",
   "metadata": {},
   "source": [
    "Model KNN dobrze działa na tym zbiorze danych. Jego dodatkową zaletą jest duża szybkość. Walidację krzyżową dla trzech parametrów wykonał w około 266 ms."
   ]
  },
  {
   "cell_type": "markdown",
   "id": "afcac0df-aef0-4f35-911d-55918ea30d33",
   "metadata": {
    "jp-MarkdownHeadingCollapsed": true
   },
   "source": [
    "### Logistyczna regresja"
   ]
  },
  {
   "cell_type": "code",
   "execution_count": 28,
   "id": "93ec9419-dd15-409b-9df5-02a761806962",
   "metadata": {},
   "outputs": [
    {
     "name": "stdout",
     "output_type": "stream",
     "text": [
      "Cross validation k = 5\n",
      "Accuracy: 0.373\n",
      "F1-score: 0.278\n",
      "Cross validation k = 10\n"
     ]
    },
    {
     "name": "stderr",
     "output_type": "stream",
     "text": [
      "C:\\Users\\urbii\\Desktop\\Projekty\\Machine-learning-course\\venv\\Lib\\site-packages\\sklearn\\model_selection\\_split.py:776: UserWarning: The least populated class in y has only 9 members, which is less than n_splits=10.\n",
      "  warnings.warn(\n"
     ]
    },
    {
     "name": "stdout",
     "output_type": "stream",
     "text": [
      "Accuracy: 0.398\n",
      "F1-score: 0.297\n",
      "Cross validation k = 20\n"
     ]
    },
    {
     "name": "stderr",
     "output_type": "stream",
     "text": [
      "C:\\Users\\urbii\\Desktop\\Projekty\\Machine-learning-course\\venv\\Lib\\site-packages\\sklearn\\model_selection\\_split.py:776: UserWarning: The least populated class in y has only 9 members, which is less than n_splits=20.\n",
      "  warnings.warn(\n",
      "2024/12/11 18:05:49 INFO mlflow.tracking._tracking_service.client: 🏃 View run rare-skunk-48 at: http://127.0.0.1:8080/#/experiments/479905616626895318/runs/0dc9db5cdfe748838e82695b9fdb7c4e.\n",
      "2024/12/11 18:05:49 INFO mlflow.tracking._tracking_service.client: 🧪 View experiment at: http://127.0.0.1:8080/#/experiments/479905616626895318.\n"
     ]
    },
    {
     "name": "stdout",
     "output_type": "stream",
     "text": [
      "Accuracy: 0.413\n",
      "F1-score: 0.301\n"
     ]
    }
   ],
   "source": [
    "mlflow.set_experiment(\"Predict Pokemons Name\")\n",
    "clf_lr = LogisticRegression()\n",
    "train(clf_lr, X, y_pok, \"Logisitic regression\")"
   ]
  },
  {
   "cell_type": "markdown",
   "id": "e61c9571-c835-4d9c-9bc9-c789df53f709",
   "metadata": {},
   "source": [
    "Logisyczna regresja najsłabiej radzi sobie z tymi zadaniami. Jak można zauważyć otrzymuje ostrzeżenie, że reprezentacja klasy jest mało liczebna (mamy wiele klas, ale mało przykładów na każdą klasę). Później postaram się to zmienić z pomocą augementacji danych."
   ]
  },
  {
   "cell_type": "markdown",
   "id": "da3d3a29-6575-4e35-9626-ff39bec162bc",
   "metadata": {
    "jp-MarkdownHeadingCollapsed": true
   },
   "source": [
    "### Las losowy"
   ]
  },
  {
   "cell_type": "code",
   "execution_count": 29,
   "id": "932419a0-4d0a-436c-81c3-f186fce4420f",
   "metadata": {},
   "outputs": [
    {
     "name": "stdout",
     "output_type": "stream",
     "text": [
      "Cross validation k = 5\n",
      "Accuracy: 0.978\n",
      "F1-score: 0.977\n",
      "Cross validation k = 10\n"
     ]
    },
    {
     "name": "stderr",
     "output_type": "stream",
     "text": [
      "C:\\Users\\urbii\\Desktop\\Projekty\\Machine-learning-course\\venv\\Lib\\site-packages\\sklearn\\model_selection\\_split.py:776: UserWarning: The least populated class in y has only 9 members, which is less than n_splits=10.\n",
      "  warnings.warn(\n"
     ]
    },
    {
     "name": "stdout",
     "output_type": "stream",
     "text": [
      "Accuracy: 0.979\n",
      "F1-score: 0.977\n",
      "Cross validation k = 20\n"
     ]
    },
    {
     "name": "stderr",
     "output_type": "stream",
     "text": [
      "C:\\Users\\urbii\\Desktop\\Projekty\\Machine-learning-course\\venv\\Lib\\site-packages\\sklearn\\model_selection\\_split.py:776: UserWarning: The least populated class in y has only 9 members, which is less than n_splits=20.\n",
      "  warnings.warn(\n",
      "2024/12/11 18:07:22 INFO mlflow.tracking._tracking_service.client: 🏃 View run victorious-yak-430 at: http://127.0.0.1:8080/#/experiments/479905616626895318/runs/328ae44543a64d9b8971fe01d3c6cdd0.\n",
      "2024/12/11 18:07:22 INFO mlflow.tracking._tracking_service.client: 🧪 View experiment at: http://127.0.0.1:8080/#/experiments/479905616626895318.\n"
     ]
    },
    {
     "name": "stdout",
     "output_type": "stream",
     "text": [
      "Accuracy: 0.978\n",
      "F1-score: 0.972\n"
     ]
    }
   ],
   "source": [
    "mlflow.set_experiment(\"Predict Pokemons Name\")\n",
    "clf_rf = RandomForestClassifier(random_state=42)\n",
    "train(clf_rf, X, y_pok, \"Random forest\")"
   ]
  },
  {
   "cell_type": "markdown",
   "id": "89fe97a5-5c55-4539-a47e-58dd874f4ed8",
   "metadata": {},
   "source": [
    "Jak można zauważyć las losowy uzyskuje doskonałem wyniki. Natomiast trzeba uważać, aby go nie przeuczyć. Modele oparte na architekturze drzewa mogą dość łatwo się nadmiernie dopasować."
   ]
  },
  {
   "cell_type": "markdown",
   "id": "bfbaa06a-5a1d-421d-98c8-763f1ed1ab82",
   "metadata": {
    "jp-MarkdownHeadingCollapsed": true
   },
   "source": [
    "### Drzewo decyzyjne"
   ]
  },
  {
   "cell_type": "code",
   "execution_count": 30,
   "id": "cebd90e3-1470-4663-a87e-55c5050fbb60",
   "metadata": {},
   "outputs": [
    {
     "name": "stdout",
     "output_type": "stream",
     "text": [
      "Cross validation k = 5\n",
      "Accuracy: 0.963\n",
      "F1-score: 0.962\n",
      "Cross validation k = 10\n"
     ]
    },
    {
     "name": "stderr",
     "output_type": "stream",
     "text": [
      "C:\\Users\\urbii\\Desktop\\Projekty\\Machine-learning-course\\venv\\Lib\\site-packages\\sklearn\\model_selection\\_split.py:776: UserWarning: The least populated class in y has only 9 members, which is less than n_splits=10.\n",
      "  warnings.warn(\n",
      "C:\\Users\\urbii\\Desktop\\Projekty\\Machine-learning-course\\venv\\Lib\\site-packages\\sklearn\\model_selection\\_split.py:776: UserWarning: The least populated class in y has only 9 members, which is less than n_splits=20.\n",
      "  warnings.warn(\n"
     ]
    },
    {
     "name": "stdout",
     "output_type": "stream",
     "text": [
      "Accuracy: 0.964\n",
      "F1-score: 0.961\n",
      "Cross validation k = 20\n",
      "Accuracy: 0.968\n",
      "F1-score: 0.959\n"
     ]
    },
    {
     "name": "stderr",
     "output_type": "stream",
     "text": [
      "2024/12/11 18:09:48 INFO mlflow.tracking._tracking_service.client: 🏃 View run bold-ray-287 at: http://127.0.0.1:8080/#/experiments/479905616626895318/runs/553fb8a97f1e4d359597d865a1b0598f.\n",
      "2024/12/11 18:09:48 INFO mlflow.tracking._tracking_service.client: 🧪 View experiment at: http://127.0.0.1:8080/#/experiments/479905616626895318.\n"
     ]
    }
   ],
   "source": [
    "mlflow.set_experiment(\"Predict Pokemons Name\")\n",
    "clf_dt = DecisionTreeClassifier(random_state=42)\n",
    "train(clf_dt, X, y_pok, \"Decision tree\")"
   ]
  },
  {
   "cell_type": "markdown",
   "id": "15f977c1-f4e5-4375-a5bf-e1efee364781",
   "metadata": {},
   "source": [
    "Drzewo decyzyjne dla zadania klasyfikacji nazw pokemonów wypada bardzo dobrze i osiąga podobne wyniki jak las losowy. Natomiast tutaj również tak jak w poprzedniej metodzie należy uważać na przeuczenie się modelu."
   ]
  },
  {
   "cell_type": "markdown",
   "id": "2ff815a0-55c2-4180-b775-9c766bd9b031",
   "metadata": {},
   "source": [
    "### SVM"
   ]
  },
  {
   "cell_type": "code",
   "execution_count": 31,
   "id": "5b946da7-ac39-4475-bb0a-caa290d9db97",
   "metadata": {},
   "outputs": [
    {
     "name": "stdout",
     "output_type": "stream",
     "text": [
      "Cross validation k = 5\n",
      "Accuracy: 0.927\n",
      "F1-score: 0.925\n",
      "Cross validation k = 10\n"
     ]
    },
    {
     "name": "stderr",
     "output_type": "stream",
     "text": [
      "C:\\Users\\urbii\\Desktop\\Projekty\\Machine-learning-course\\venv\\Lib\\site-packages\\sklearn\\model_selection\\_split.py:776: UserWarning: The least populated class in y has only 9 members, which is less than n_splits=10.\n",
      "  warnings.warn(\n"
     ]
    },
    {
     "name": "stdout",
     "output_type": "stream",
     "text": [
      "Accuracy: 0.93\n",
      "F1-score: 0.924\n",
      "Cross validation k = 20\n"
     ]
    },
    {
     "name": "stderr",
     "output_type": "stream",
     "text": [
      "C:\\Users\\urbii\\Desktop\\Projekty\\Machine-learning-course\\venv\\Lib\\site-packages\\sklearn\\model_selection\\_split.py:776: UserWarning: The least populated class in y has only 9 members, which is less than n_splits=20.\n",
      "  warnings.warn(\n",
      "2024/12/11 18:11:13 INFO mlflow.tracking._tracking_service.client: 🏃 View run clumsy-mule-997 at: http://127.0.0.1:8080/#/experiments/479905616626895318/runs/0354ca0f8d1441209633c75dd3ab1333.\n",
      "2024/12/11 18:11:13 INFO mlflow.tracking._tracking_service.client: 🧪 View experiment at: http://127.0.0.1:8080/#/experiments/479905616626895318.\n"
     ]
    },
    {
     "name": "stdout",
     "output_type": "stream",
     "text": [
      "Accuracy: 0.929\n",
      "F1-score: 0.91\n"
     ]
    }
   ],
   "source": [
    "mlflow.set_experiment(\"Predict Pokemons Name\")\n",
    "clf_svm = SVC()\n",
    "train(clf_svm, X, y_pok, \"SVM\")"
   ]
  },
  {
   "cell_type": "markdown",
   "id": "b670da40-0ebf-4897-a131-4a03774e61f0",
   "metadata": {},
   "source": [
    "SVM działa dośc dobrze, natomiast lekko odbiega od Lasu losowego i Drzewa decyzyjnego. Otrzymuje podobne wyniki co KNN, natomiast jest znacząco od niego wolniejszy (czas wykonywania około 2,8 s)"
   ]
  },
  {
   "cell_type": "markdown",
   "id": "56082909-c3ad-4d29-9f24-8f6c245797f6",
   "metadata": {},
   "source": [
    "### Gradient boosting"
   ]
  },
  {
   "cell_type": "code",
   "execution_count": 32,
   "id": "61e9fbfa-8b76-4453-9875-4560cded7e27",
   "metadata": {},
   "outputs": [
    {
     "name": "stdout",
     "output_type": "stream",
     "text": [
      "Cross validation k = 5\n",
      "Accuracy: 0.844\n",
      "F1-score: 0.842\n",
      "Cross validation k = 10\n"
     ]
    },
    {
     "name": "stderr",
     "output_type": "stream",
     "text": [
      "C:\\Users\\urbii\\Desktop\\Projekty\\Machine-learning-course\\venv\\Lib\\site-packages\\sklearn\\model_selection\\_split.py:776: UserWarning: The least populated class in y has only 9 members, which is less than n_splits=10.\n",
      "  warnings.warn(\n"
     ]
    },
    {
     "name": "stdout",
     "output_type": "stream",
     "text": [
      "Accuracy: 0.535\n",
      "F1-score: 0.522\n",
      "Cross validation k = 20\n"
     ]
    },
    {
     "name": "stderr",
     "output_type": "stream",
     "text": [
      "C:\\Users\\urbii\\Desktop\\Projekty\\Machine-learning-course\\venv\\Lib\\site-packages\\sklearn\\model_selection\\_split.py:776: UserWarning: The least populated class in y has only 9 members, which is less than n_splits=20.\n",
      "  warnings.warn(\n",
      "2024/12/11 18:19:37 INFO mlflow.tracking._tracking_service.client: 🏃 View run dashing-dove-656 at: http://127.0.0.1:8080/#/experiments/479905616626895318/runs/e026cd7aadd44ddf99e35363ce00e98b.\n",
      "2024/12/11 18:19:37 INFO mlflow.tracking._tracking_service.client: 🧪 View experiment at: http://127.0.0.1:8080/#/experiments/479905616626895318.\n"
     ]
    },
    {
     "name": "stdout",
     "output_type": "stream",
     "text": [
      "Accuracy: 0.506\n",
      "F1-score: 0.476\n"
     ]
    }
   ],
   "source": [
    "mlflow.set_experiment(\"Predict Pokemons Name\")\n",
    "clf_gb = GradientBoostingClassifier(random_state=42)\n",
    "train(clf_gb, X, y_pok, \"Gradient boosting\")"
   ]
  },
  {
   "cell_type": "markdown",
   "id": "804f5866-d290-4871-82ea-b4b89d3c67a2",
   "metadata": {},
   "source": [
    "Jak można zauważyć metoda gradient boosting nie najlepiej radzi sobie z danymi. Dodatkowo przez to jak ta metoda działa (tworzy drzewa, które muszą być wykonywane jeden po drugim), czas wykonania uczenia i weryfikacji jest bardzo długi (4 minuty)."
   ]
  },
  {
   "cell_type": "markdown",
   "id": "d856491f-77a3-4a84-9667-dc26de601110",
   "metadata": {},
   "source": [
    "### Adaboost"
   ]
  },
  {
   "cell_type": "code",
   "execution_count": 33,
   "id": "b21f281f-2b45-45c2-b193-ba515535039a",
   "metadata": {},
   "outputs": [
    {
     "name": "stdout",
     "output_type": "stream",
     "text": [
      "Cross validation k = 5\n",
      "Accuracy: 0.11\n",
      "F1-score: 0.06\n",
      "Cross validation k = 10\n"
     ]
    },
    {
     "name": "stderr",
     "output_type": "stream",
     "text": [
      "C:\\Users\\urbii\\Desktop\\Projekty\\Machine-learning-course\\venv\\Lib\\site-packages\\sklearn\\model_selection\\_split.py:776: UserWarning: The least populated class in y has only 9 members, which is less than n_splits=10.\n",
      "  warnings.warn(\n"
     ]
    },
    {
     "name": "stdout",
     "output_type": "stream",
     "text": [
      "Accuracy: 0.106\n",
      "F1-score: 0.067\n",
      "Cross validation k = 20\n"
     ]
    },
    {
     "name": "stderr",
     "output_type": "stream",
     "text": [
      "C:\\Users\\urbii\\Desktop\\Projekty\\Machine-learning-course\\venv\\Lib\\site-packages\\sklearn\\model_selection\\_split.py:776: UserWarning: The least populated class in y has only 9 members, which is less than n_splits=20.\n",
      "  warnings.warn(\n",
      "2024/12/11 18:24:39 INFO mlflow.tracking._tracking_service.client: 🏃 View run loud-grub-114 at: http://127.0.0.1:8080/#/experiments/479905616626895318/runs/ff5201fc16044a9ea5aa1547834faf6b.\n",
      "2024/12/11 18:24:39 INFO mlflow.tracking._tracking_service.client: 🧪 View experiment at: http://127.0.0.1:8080/#/experiments/479905616626895318.\n"
     ]
    },
    {
     "name": "stdout",
     "output_type": "stream",
     "text": [
      "Accuracy: 0.041\n",
      "F1-score: 0.024\n"
     ]
    }
   ],
   "source": [
    "mlflow.set_experiment(\"Predict Pokemons Name\")\n",
    "clf_ab = AdaBoostClassifier(random_state=42)\n",
    "train(clf_ab, X, y_pok, \"Ada boosting\")"
   ]
  },
  {
   "cell_type": "markdown",
   "id": "74183ca2-3a41-4f19-a51d-db225b6a7041",
   "metadata": {},
   "source": [
    "Metoda adaboost kompletnie nie radzi sobie z tymi danymi. Natomiast jest zdecydowanie szybsza niż metoda Gradient boosting."
   ]
  },
  {
   "cell_type": "markdown",
   "id": "fde57a07-4b6f-4205-98a5-4254d3a9fb42",
   "metadata": {},
   "source": [
    "## Xgboost"
   ]
  },
  {
   "cell_type": "code",
   "execution_count": 34,
   "id": "c2ba9b54-96a1-4622-8692-3c8ab5519b2b",
   "metadata": {},
   "outputs": [
    {
     "name": "stdout",
     "output_type": "stream",
     "text": [
      "Cross validation k = 5\n",
      "Accuracy: 0.951\n",
      "F1-score: 0.949\n",
      "Cross validation k = 10\n"
     ]
    },
    {
     "name": "stderr",
     "output_type": "stream",
     "text": [
      "C:\\Users\\urbii\\Desktop\\Projekty\\Machine-learning-course\\venv\\Lib\\site-packages\\sklearn\\model_selection\\_split.py:776: UserWarning: The least populated class in y has only 9 members, which is less than n_splits=10.\n",
      "  warnings.warn(\n"
     ]
    },
    {
     "name": "stdout",
     "output_type": "stream",
     "text": [
      "Accuracy: 0.956\n",
      "F1-score: 0.952\n",
      "Cross validation k = 20\n"
     ]
    },
    {
     "name": "stderr",
     "output_type": "stream",
     "text": [
      "C:\\Users\\urbii\\Desktop\\Projekty\\Machine-learning-course\\venv\\Lib\\site-packages\\sklearn\\model_selection\\_split.py:776: UserWarning: The least populated class in y has only 9 members, which is less than n_splits=20.\n",
      "  warnings.warn(\n",
      "2024/12/11 18:27:26 INFO mlflow.tracking._tracking_service.client: 🏃 View run beautiful-yak-325 at: http://127.0.0.1:8080/#/experiments/479905616626895318/runs/e1d02f074a67470b8c2dd5b5941404c0.\n",
      "2024/12/11 18:27:26 INFO mlflow.tracking._tracking_service.client: 🧪 View experiment at: http://127.0.0.1:8080/#/experiments/479905616626895318.\n"
     ]
    },
    {
     "name": "stdout",
     "output_type": "stream",
     "text": [
      "Accuracy: 0.956\n",
      "F1-score: 0.942\n"
     ]
    }
   ],
   "source": [
    "mlflow.set_experiment(\"Predict Pokemons Name\")\n",
    "clf_xgb = xgb.XGBClassifier(random_state=42)\n",
    "train(clf_xgb, X, y_pok, \"Xgboost\")"
   ]
  },
  {
   "cell_type": "markdown",
   "id": "2039e886-1023-44b4-b772-be5afac8b937",
   "metadata": {},
   "source": [
    "Model xgboost jest porównywalny do lasów losowych i drzew decyzyjnych. Podczas eksperymentów wynik wskazał na to, że las losowy jest najlepszym modelem. Natomiast drzewa decyzyjne były drugie. Średni wynik dla 5-krotnej walidacji krzyżowej dla lasów losowych wyniósł 97,8%, natomiast dla drzew decyzyjnych wyniósł 96,3%. Drzewa decyzyjne są "
   ]
  },
  {
   "cell_type": "code",
   "execution_count": null,
   "id": "8fe11c00-0c82-4160-a52b-d51dbca927d2",
   "metadata": {},
   "outputs": [],
   "source": []
  }
 ],
 "metadata": {
  "kernelspec": {
   "display_name": "Python 3 (ipykernel)",
   "language": "python",
   "name": "python3"
  },
  "language_info": {
   "codemirror_mode": {
    "name": "ipython",
    "version": 3
   },
   "file_extension": ".py",
   "mimetype": "text/x-python",
   "name": "python",
   "nbconvert_exporter": "python",
   "pygments_lexer": "ipython3",
   "version": "3.12.6"
  }
 },
 "nbformat": 4,
 "nbformat_minor": 5
}
