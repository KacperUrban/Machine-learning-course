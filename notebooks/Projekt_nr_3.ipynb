{
 "cells": [
  {
   "cell_type": "markdown",
   "id": "db8090e0-ff06-4aa1-9000-7544299c3e28",
   "metadata": {},
   "source": [
    "## Wczytanie bibliotek"
   ]
  },
  {
   "cell_type": "code",
   "execution_count": 12,
   "id": "608bc262-ad24-43d3-bf27-2681f31ab0b7",
   "metadata": {},
   "outputs": [],
   "source": [
    "import pandas as pd\n",
    "import matplotlib.pyplot as plt\n",
    "import seaborn as sns\n",
    "from sklearn.model_selection import train_test_split\n",
    "from sklearn.preprocessing import LabelEncoder, MinMaxScaler\n",
    "from sklearn.ensemble import RandomForestClassifier, GradientBoostingClassifier, AdaBoostClassifier\n",
    "from sklearn.tree import DecisionTreeClassifier\n",
    "from sklearn.neighbors import KNeighborsClassifier\n",
    "from sklearn.linear_model import LogisticRegression\n",
    "from sklearn.svm import SVC\n",
    "from sklearn.metrics import accuracy_score, f1_score\n",
    "from sklearn.base import clone\n",
    "import xgboost as xgb\n",
    "import numpy as np\n",
    "import mlflow\n",
    "\n",
    "mlflow.set_tracking_uri(uri=\"http://127.0.0.1:8080\")"
   ]
  },
  {
   "cell_type": "markdown",
   "id": "0281135d-a2c1-4931-9bff-acf850685d67",
   "metadata": {},
   "source": [
    "## Wczytanie i przetworzenie danych\n",
    "Poniższy kod nie będzie jakoś bardzo analizowany, ze względu na to, że w poprzednich notebookach ten kod był tworzony. W tym notebooku jedynie kod jest skopiowany, aby przygotowac dane do treningu różny modeli"
   ]
  },
  {
   "cell_type": "code",
   "execution_count": 3,
   "id": "1bd71be2-7960-42bc-a8c5-48ac54bead73",
   "metadata": {},
   "outputs": [
    {
     "data": {
      "text/html": [
       "<div>\n",
       "<style scoped>\n",
       "    .dataframe tbody tr th:only-of-type {\n",
       "        vertical-align: middle;\n",
       "    }\n",
       "\n",
       "    .dataframe tbody tr th {\n",
       "        vertical-align: top;\n",
       "    }\n",
       "\n",
       "    .dataframe thead th {\n",
       "        text-align: right;\n",
       "    }\n",
       "</style>\n",
       "<table border=\"1\" class=\"dataframe\">\n",
       "  <thead>\n",
       "    <tr style=\"text-align: right;\">\n",
       "      <th></th>\n",
       "      <th>#</th>\n",
       "      <th>Name</th>\n",
       "      <th>Type 1</th>\n",
       "      <th>Type 2</th>\n",
       "      <th>Total</th>\n",
       "      <th>HP</th>\n",
       "      <th>Attack</th>\n",
       "      <th>Defense</th>\n",
       "      <th>Sp. Atk</th>\n",
       "      <th>Sp. Def</th>\n",
       "      <th>Speed</th>\n",
       "      <th>Generation</th>\n",
       "      <th>Legendary</th>\n",
       "    </tr>\n",
       "  </thead>\n",
       "  <tbody>\n",
       "    <tr>\n",
       "      <th>0</th>\n",
       "      <td>59</td>\n",
       "      <td>Arcanine</td>\n",
       "      <td>Fire</td>\n",
       "      <td>NaN</td>\n",
       "      <td>555</td>\n",
       "      <td>82</td>\n",
       "      <td>110</td>\n",
       "      <td>88</td>\n",
       "      <td>105</td>\n",
       "      <td>72</td>\n",
       "      <td>98</td>\n",
       "      <td>1</td>\n",
       "      <td>False</td>\n",
       "    </tr>\n",
       "    <tr>\n",
       "      <th>1</th>\n",
       "      <td>107</td>\n",
       "      <td>Hitmonchan</td>\n",
       "      <td>Fighting</td>\n",
       "      <td>NaN</td>\n",
       "      <td>455</td>\n",
       "      <td>47</td>\n",
       "      <td>97</td>\n",
       "      <td>84</td>\n",
       "      <td>27</td>\n",
       "      <td>121</td>\n",
       "      <td>79</td>\n",
       "      <td>1</td>\n",
       "      <td>False</td>\n",
       "    </tr>\n",
       "    <tr>\n",
       "      <th>2</th>\n",
       "      <td>123</td>\n",
       "      <td>Scyther</td>\n",
       "      <td>Bug</td>\n",
       "      <td>Flying</td>\n",
       "      <td>500</td>\n",
       "      <td>63</td>\n",
       "      <td>113</td>\n",
       "      <td>86</td>\n",
       "      <td>56</td>\n",
       "      <td>73</td>\n",
       "      <td>109</td>\n",
       "      <td>1</td>\n",
       "      <td>False</td>\n",
       "    </tr>\n",
       "    <tr>\n",
       "      <th>3</th>\n",
       "      <td>35</td>\n",
       "      <td>Clefairy</td>\n",
       "      <td>Fairy</td>\n",
       "      <td>NaN</td>\n",
       "      <td>323</td>\n",
       "      <td>67</td>\n",
       "      <td>54</td>\n",
       "      <td>46</td>\n",
       "      <td>58</td>\n",
       "      <td>62</td>\n",
       "      <td>36</td>\n",
       "      <td>1</td>\n",
       "      <td>False</td>\n",
       "    </tr>\n",
       "    <tr>\n",
       "      <th>4</th>\n",
       "      <td>150</td>\n",
       "      <td>MewtwoMega Mewtwo X</td>\n",
       "      <td>Psychic</td>\n",
       "      <td>Fighting</td>\n",
       "      <td>780</td>\n",
       "      <td>97</td>\n",
       "      <td>193</td>\n",
       "      <td>102</td>\n",
       "      <td>157</td>\n",
       "      <td>98</td>\n",
       "      <td>133</td>\n",
       "      <td>1</td>\n",
       "      <td>True</td>\n",
       "    </tr>\n",
       "  </tbody>\n",
       "</table>\n",
       "</div>"
      ],
      "text/plain": [
       "     #                 Name    Type 1    Type 2  Total  HP  Attack  Defense  \\\n",
       "0   59             Arcanine      Fire       NaN    555  82     110       88   \n",
       "1  107           Hitmonchan  Fighting       NaN    455  47      97       84   \n",
       "2  123              Scyther       Bug    Flying    500  63     113       86   \n",
       "3   35             Clefairy     Fairy       NaN    323  67      54       46   \n",
       "4  150  MewtwoMega Mewtwo X   Psychic  Fighting    780  97     193      102   \n",
       "\n",
       "   Sp. Atk  Sp. Def  Speed  Generation  Legendary  \n",
       "0      105       72     98           1      False  \n",
       "1       27      121     79           1      False  \n",
       "2       56       73    109           1      False  \n",
       "3       58       62     36           1      False  \n",
       "4      157       98    133           1       True  "
      ]
     },
     "execution_count": 3,
     "metadata": {},
     "output_type": "execute_result"
    }
   ],
   "source": [
    "df = pd.read_csv(\"https://pwozniak.kia.prz.edu.pl/files/uczeniemaszynowe/train_data.csv\")\n",
    "df.head()"
   ]
  },
  {
   "cell_type": "code",
   "execution_count": 4,
   "id": "8465c783-91e8-478a-aeb7-9a5bce744729",
   "metadata": {},
   "outputs": [
    {
     "data": {
      "text/html": [
       "<div>\n",
       "<style scoped>\n",
       "    .dataframe tbody tr th:only-of-type {\n",
       "        vertical-align: middle;\n",
       "    }\n",
       "\n",
       "    .dataframe tbody tr th {\n",
       "        vertical-align: top;\n",
       "    }\n",
       "\n",
       "    .dataframe thead th {\n",
       "        text-align: right;\n",
       "    }\n",
       "</style>\n",
       "<table border=\"1\" class=\"dataframe\">\n",
       "  <thead>\n",
       "    <tr style=\"text-align: right;\">\n",
       "      <th></th>\n",
       "      <th>#</th>\n",
       "      <th>Name</th>\n",
       "      <th>Type 1</th>\n",
       "      <th>Type 2</th>\n",
       "      <th>Total</th>\n",
       "      <th>HP</th>\n",
       "      <th>Attack</th>\n",
       "      <th>Defense</th>\n",
       "      <th>Sp. Atk</th>\n",
       "      <th>Sp. Def</th>\n",
       "      <th>Speed</th>\n",
       "      <th>Generation</th>\n",
       "      <th>Legendary</th>\n",
       "    </tr>\n",
       "  </thead>\n",
       "  <tbody>\n",
       "    <tr>\n",
       "      <th>0</th>\n",
       "      <td>59</td>\n",
       "      <td>Arcanine</td>\n",
       "      <td>Fire</td>\n",
       "      <td>Other</td>\n",
       "      <td>555</td>\n",
       "      <td>82</td>\n",
       "      <td>110</td>\n",
       "      <td>88</td>\n",
       "      <td>105</td>\n",
       "      <td>72</td>\n",
       "      <td>98</td>\n",
       "      <td>1</td>\n",
       "      <td>False</td>\n",
       "    </tr>\n",
       "    <tr>\n",
       "      <th>1</th>\n",
       "      <td>107</td>\n",
       "      <td>Hitmonchan</td>\n",
       "      <td>Fighting</td>\n",
       "      <td>Other</td>\n",
       "      <td>455</td>\n",
       "      <td>47</td>\n",
       "      <td>97</td>\n",
       "      <td>84</td>\n",
       "      <td>27</td>\n",
       "      <td>121</td>\n",
       "      <td>79</td>\n",
       "      <td>1</td>\n",
       "      <td>False</td>\n",
       "    </tr>\n",
       "    <tr>\n",
       "      <th>2</th>\n",
       "      <td>123</td>\n",
       "      <td>Scyther</td>\n",
       "      <td>Bug</td>\n",
       "      <td>Flying</td>\n",
       "      <td>500</td>\n",
       "      <td>63</td>\n",
       "      <td>113</td>\n",
       "      <td>86</td>\n",
       "      <td>56</td>\n",
       "      <td>73</td>\n",
       "      <td>109</td>\n",
       "      <td>1</td>\n",
       "      <td>False</td>\n",
       "    </tr>\n",
       "    <tr>\n",
       "      <th>3</th>\n",
       "      <td>35</td>\n",
       "      <td>Clefairy</td>\n",
       "      <td>Fairy</td>\n",
       "      <td>Other</td>\n",
       "      <td>323</td>\n",
       "      <td>67</td>\n",
       "      <td>54</td>\n",
       "      <td>46</td>\n",
       "      <td>58</td>\n",
       "      <td>62</td>\n",
       "      <td>36</td>\n",
       "      <td>1</td>\n",
       "      <td>False</td>\n",
       "    </tr>\n",
       "    <tr>\n",
       "      <th>4</th>\n",
       "      <td>150</td>\n",
       "      <td>MewtwoMega Mewtwo X</td>\n",
       "      <td>Psychic</td>\n",
       "      <td>Fighting</td>\n",
       "      <td>780</td>\n",
       "      <td>97</td>\n",
       "      <td>193</td>\n",
       "      <td>102</td>\n",
       "      <td>157</td>\n",
       "      <td>98</td>\n",
       "      <td>133</td>\n",
       "      <td>1</td>\n",
       "      <td>True</td>\n",
       "    </tr>\n",
       "  </tbody>\n",
       "</table>\n",
       "</div>"
      ],
      "text/plain": [
       "     #                 Name    Type 1    Type 2  Total  HP  Attack  Defense  \\\n",
       "0   59             Arcanine      Fire     Other    555  82     110       88   \n",
       "1  107           Hitmonchan  Fighting     Other    455  47      97       84   \n",
       "2  123              Scyther       Bug    Flying    500  63     113       86   \n",
       "3   35             Clefairy     Fairy     Other    323  67      54       46   \n",
       "4  150  MewtwoMega Mewtwo X   Psychic  Fighting    780  97     193      102   \n",
       "\n",
       "   Sp. Atk  Sp. Def  Speed  Generation  Legendary  \n",
       "0      105       72     98           1      False  \n",
       "1       27      121     79           1      False  \n",
       "2       56       73    109           1      False  \n",
       "3       58       62     36           1      False  \n",
       "4      157       98    133           1       True  "
      ]
     },
     "execution_count": 4,
     "metadata": {},
     "output_type": "execute_result"
    }
   ],
   "source": [
    "df_no_nans = df.fillna('Other')\n",
    "df_no_nans.head()"
   ]
  },
  {
   "cell_type": "code",
   "execution_count": 5,
   "id": "73426043-a834-4a23-958b-44858f6f9691",
   "metadata": {},
   "outputs": [
    {
     "name": "stdout",
     "output_type": "stream",
     "text": [
      "Wiersze w Total które mają wartość poniżej lub równe 0: 0\n",
      "Wiersze w HP które mają wartość poniżej lub równe 0: 0\n",
      "Wiersze w Attack które mają wartość poniżej lub równe 0: 0\n",
      "Wiersze w Defense które mają wartość poniżej lub równe 0: 0\n",
      "Wiersze w Sp. Atk które mają wartość poniżej lub równe 0: 0\n",
      "Wiersze w Sp. Def które mają wartość poniżej lub równe 0: 0\n",
      "Wiersze w Speed które mają wartość poniżej lub równe 0: 0\n"
     ]
    }
   ],
   "source": [
    "df_clean = df_no_nans[(df_no_nans.HP > 0) & (df_no_nans.Attack > 0) & (df_no_nans.Defense > 0)].reset_index(drop=True)\n",
    "\n",
    "columns = ['Total', 'HP', 'Attack', 'Defense', 'Sp. Atk', 'Sp. Def', 'Speed']\n",
    "for column in columns:\n",
    "    print(f\"Wiersze w {column} które mają wartość poniżej lub równe 0: {len(df_clean[df_clean[column] <= 0])}\")"
   ]
  },
  {
   "cell_type": "code",
   "execution_count": 6,
   "id": "62f07f60-c4ad-417c-af7b-8c5c6c9cb374",
   "metadata": {},
   "outputs": [],
   "source": [
    "label_enc = LabelEncoder()\n",
    "df_cat = pd.DataFrame()\n",
    "for column in ['Name', 'Type 1', 'Type 2']:\n",
    "    df_cat[column] = label_enc.fit_transform(df_clean[column])"
   ]
  },
  {
   "cell_type": "code",
   "execution_count": 7,
   "id": "60e1930b-f3d8-499f-8a56-2d4eda5362ac",
   "metadata": {},
   "outputs": [],
   "source": [
    "df_num = df_clean[['Total', 'HP', 'Attack', 'Defense', 'Sp. Atk', 'Sp. Def', 'Speed']]\n",
    "minmax_scaler = MinMaxScaler()\n",
    "columns = df_num.columns\n",
    "np_num = minmax_scaler.fit_transform(df_num)\n",
    "df_num_norm = pd.DataFrame(np_num, columns=columns)\n",
    "df_prepared = pd.concat([df_num_norm, df_cat, df_clean['Generation']], axis=1)"
   ]
  },
  {
   "cell_type": "markdown",
   "id": "7e979edc-6a6f-4c64-a0c9-9188ebc0ed64",
   "metadata": {},
   "source": [
    "## Testowanie różnych modeli\n",
    "W tej części będzie testowane 7 różnych modeli:\n",
    " - Adaboosting\n",
    " - Drzewa decyzyjne\n",
    " - Gradient boosting\n",
    " - Regresja logistycznya\n",
    " - KNN\n",
    " - SVM\n",
    " - Las losowy\n",
    "Modele będą testowane na wykrywaniu imion pokemonów oraz typu I. Drugi typ zostanie pominięty, ponieważ nie jest on aż tak istotny."
   ]
  },
  {
   "cell_type": "code",
   "execution_count": 8,
   "id": "52ef9e6e-f7e5-4ed8-a0af-0456e9006a9d",
   "metadata": {},
   "outputs": [],
   "source": [
    "def train(clf, X, y, model_name):\n",
    "    with mlflow.start_run():\n",
    "        mlflow.set_tags({\"Split type\": \"random\", \"Model name\" : model_name})\n",
    "        for test_split in [0.1, 0.2, 0.3, 0.4]:\n",
    "            train_size = (1 - test_split) * 100\n",
    "            print(f\"Train size: {train_size}%, Test size: {test_split * 100}%\")\n",
    "            X_train, X_test, y_train, y_test = train_test_split(X, y, test_size=test_split, random_state=42)\n",
    "            clf_t = clone(clf)\n",
    "            clf_t.fit(X_train, y_train)\n",
    "            y_pred = clf_t.predict(X_test)\n",
    "            \n",
    "            accuracy = np.round(accuracy_score(y_pred=y_pred, y_true=y_test), 3)\n",
    "            f1 = np.round(f1_score(y_pred=y_pred, y_true=y_test, average='macro'), 3)\n",
    "            \n",
    "            mlflow.log_metric(f\"Accuracy_{int(test_split * 100)}\", accuracy)\n",
    "            mlflow.log_metric(f\"F1_score_{int(test_split * 100)}\", f1)\n",
    "            \n",
    "            print(f\"Accuracy: {accuracy}\")\n",
    "            print(f\"F1-score: {f1}\")\n",
    "\n",
    "\n",
    "def train_with_strat(clf, X, y, model_name):\n",
    "    with mlflow.start_run():\n",
    "        mlflow.set_tags({\"Split type\": \"stratified\", \"Model name\" : model_name})\n",
    "        for test_split in [0.1, 0.2, 0.3, 0.4]:\n",
    "            train_size = (1 - test_split) * 100\n",
    "            print(f\"Train size: {train_size}%, Test size: {test_split * 100}%\")\n",
    "            X_train, X_test, y_train, y_test = train_test_split(X, y, stratify=y, test_size=test_split, random_state=42)\n",
    "            clf_t = clone(clf)\n",
    "            clf_t.fit(X_train, y_train)\n",
    "            y_pred = clf_t.predict(X_test)\n",
    "            \n",
    "            accuracy = np.round(accuracy_score(y_pred=y_pred, y_true=y_test), 3)\n",
    "            f1 = np.round(f1_score(y_pred=y_pred, y_true=y_test, average='micro'), 3)\n",
    "            \n",
    "            mlflow.log_metric(f\"Accuracy_{int(test_split * 100)}\", accuracy)\n",
    "            mlflow.log_metric(f\"F1_score_{int(test_split * 100)}\", f1)\n",
    "            \n",
    "            print(f\"Accuracy: {accuracy}\")\n",
    "            print(f\"F1-score: {f1}\")\n"
   ]
  },
  {
   "cell_type": "markdown",
   "id": "5c24bf41-66f0-4cbc-b5a3-5384b0bc28e1",
   "metadata": {
    "jp-MarkdownHeadingCollapsed": true
   },
   "source": [
    "### Podział danych\n",
    "Od razu stworze dwa zbiory treningowe oraz testowe, aby móc testować każdy model dla danego zadania (przewidywanie pokemonów lub typu I)"
   ]
  },
  {
   "cell_type": "code",
   "execution_count": 9,
   "id": "816ad68b-2bfe-43da-b1a0-c781625c86db",
   "metadata": {},
   "outputs": [],
   "source": [
    "X = df_prepared[['Total', 'HP', 'Attack', 'Defense', 'Sp. Atk', 'Sp. Def', 'Speed']]\n",
    "y_pok = df_prepared.Name\n",
    "y_typ = df_prepared['Type 1']"
   ]
  },
  {
   "cell_type": "markdown",
   "id": "c2a6aa13-d49b-4e29-be9e-3cc0737d6a9f",
   "metadata": {
    "jp-MarkdownHeadingCollapsed": true
   },
   "source": [
    "### KNN"
   ]
  },
  {
   "cell_type": "code",
   "execution_count": 34,
   "id": "0ad6fdb1-2131-4c19-b0f3-aae4ec548dcd",
   "metadata": {},
   "outputs": [
    {
     "name": "stdout",
     "output_type": "stream",
     "text": [
      "Train size: 90.0%, Test size: 10.0%\n",
      "Accuracy: 0.897\n",
      "F1-score: 0.875\n",
      "Train size: 80.0%, Test size: 20.0%\n",
      "Accuracy: 0.897\n",
      "F1-score: 0.899\n",
      "Train size: 70.0%, Test size: 30.0%\n"
     ]
    },
    {
     "name": "stderr",
     "output_type": "stream",
     "text": [
      "2024/12/10 16:49:33 INFO mlflow.tracking._tracking_service.client: 🏃 View run valuable-snail-107 at: http://127.0.0.1:8080/#/experiments/479905616626895318/runs/dfc4576f7740460ea56081d60807fc67.\n",
      "2024/12/10 16:49:33 INFO mlflow.tracking._tracking_service.client: 🧪 View experiment at: http://127.0.0.1:8080/#/experiments/479905616626895318.\n"
     ]
    },
    {
     "name": "stdout",
     "output_type": "stream",
     "text": [
      "Accuracy: 0.904\n",
      "F1-score: 0.899\n",
      "Train size: 60.0%, Test size: 40.0%\n",
      "Accuracy: 0.902\n",
      "F1-score: 0.899\n",
      "Train size: 90.0%, Test size: 10.0%\n",
      "Accuracy: 0.943\n",
      "F1-score: 0.943\n",
      "Train size: 80.0%, Test size: 20.0%\n",
      "Accuracy: 0.929\n",
      "F1-score: 0.929\n",
      "Train size: 70.0%, Test size: 30.0%\n",
      "Accuracy: 0.917\n",
      "F1-score: 0.917\n",
      "Train size: 60.0%, Test size: 40.0%\n"
     ]
    },
    {
     "name": "stderr",
     "output_type": "stream",
     "text": [
      "2024/12/10 16:49:34 INFO mlflow.tracking._tracking_service.client: 🏃 View run powerful-robin-78 at: http://127.0.0.1:8080/#/experiments/479905616626895318/runs/1293ef1b277b4777a78d649b6405ddf4.\n",
      "2024/12/10 16:49:34 INFO mlflow.tracking._tracking_service.client: 🧪 View experiment at: http://127.0.0.1:8080/#/experiments/479905616626895318.\n"
     ]
    },
    {
     "name": "stdout",
     "output_type": "stream",
     "text": [
      "Accuracy: 0.91\n",
      "F1-score: 0.91\n"
     ]
    }
   ],
   "source": [
    "mlflow.set_experiment(\"Predict Pokemons Name\")\n",
    "knn = KNeighborsClassifier()\n",
    "train(knn, X, y_pok, \"KNN\")\n",
    "knn = KNeighborsClassifier()\n",
    "train_with_strat(knn, X, y_pok, \"KNN\")"
   ]
  },
  {
   "cell_type": "code",
   "execution_count": 35,
   "id": "adfc9a29-ef6c-4583-b2c8-fb77286e7747",
   "metadata": {},
   "outputs": [
    {
     "name": "stdout",
     "output_type": "stream",
     "text": [
      "Train size: 90.0%, Test size: 10.0%\n",
      "Accuracy: 0.934\n",
      "F1-score: 0.924\n",
      "Train size: 80.0%, Test size: 20.0%\n",
      "Accuracy: 0.931\n",
      "F1-score: 0.935\n",
      "Train size: 70.0%, Test size: 30.0%\n"
     ]
    },
    {
     "name": "stderr",
     "output_type": "stream",
     "text": [
      "2024/12/10 16:49:47 INFO mlflow.tracking._tracking_service.client: 🏃 View run shivering-mole-218 at: http://127.0.0.1:8080/#/experiments/509757812240063095/runs/b2157f2ca7e946e9a5f8de6d90dcd958.\n",
      "2024/12/10 16:49:47 INFO mlflow.tracking._tracking_service.client: 🧪 View experiment at: http://127.0.0.1:8080/#/experiments/509757812240063095.\n"
     ]
    },
    {
     "name": "stdout",
     "output_type": "stream",
     "text": [
      "Accuracy: 0.931\n",
      "F1-score: 0.932\n",
      "Train size: 60.0%, Test size: 40.0%\n",
      "Accuracy: 0.925\n",
      "F1-score: 0.928\n",
      "Train size: 90.0%, Test size: 10.0%\n",
      "Accuracy: 0.921\n",
      "F1-score: 0.921\n",
      "Train size: 80.0%, Test size: 20.0%\n",
      "Accuracy: 0.935\n",
      "F1-score: 0.935\n",
      "Train size: 70.0%, Test size: 30.0%\n"
     ]
    },
    {
     "name": "stderr",
     "output_type": "stream",
     "text": [
      "2024/12/10 16:49:47 INFO mlflow.tracking._tracking_service.client: 🏃 View run bright-mink-978 at: http://127.0.0.1:8080/#/experiments/509757812240063095/runs/0e7b04eb568448efbacdebda1b812dfd.\n",
      "2024/12/10 16:49:47 INFO mlflow.tracking._tracking_service.client: 🧪 View experiment at: http://127.0.0.1:8080/#/experiments/509757812240063095.\n"
     ]
    },
    {
     "name": "stdout",
     "output_type": "stream",
     "text": [
      "Accuracy: 0.931\n",
      "F1-score: 0.931\n",
      "Train size: 60.0%, Test size: 40.0%\n",
      "Accuracy: 0.912\n",
      "F1-score: 0.912\n"
     ]
    }
   ],
   "source": [
    "mlflow.set_experiment(\"Predict Pokemons Type 1\")\n",
    "knn = KNeighborsClassifier()\n",
    "train(knn, X, y_typ, \"KNN\")\n",
    "knn = KNeighborsClassifier()\n",
    "train_with_strat(knn, X, y_typ, \"KNN\")"
   ]
  },
  {
   "cell_type": "markdown",
   "id": "678e9a09-308e-45ba-a300-144107cfc46e",
   "metadata": {},
   "source": [
    "Model KNN działa bardzo dobrze na tym zestawie danych. nalepsze metryki otrzymuje dla podziału danych 90-10. Mozna również zauważyć, że przy predykcji nazw pokemonów wykorzystanie warstwowego podziału danych daje o wiele lepsze wyniki. Jest to spowodowane dużą ilościa grup (każda grupa jest dośc mała), dlateo dobrze aby próbki z każdej grupy były w zestawie treningowym i testowym."
   ]
  },
  {
   "cell_type": "markdown",
   "id": "afcac0df-aef0-4f35-911d-55918ea30d33",
   "metadata": {
    "jp-MarkdownHeadingCollapsed": true
   },
   "source": [
    "### Logistyczna regresja"
   ]
  },
  {
   "cell_type": "code",
   "execution_count": 37,
   "id": "93ec9419-dd15-409b-9df5-02a761806962",
   "metadata": {},
   "outputs": [
    {
     "name": "stdout",
     "output_type": "stream",
     "text": [
      "Train size: 90.0%, Test size: 10.0%\n",
      "Accuracy: 0.275\n",
      "F1-score: 0.209\n",
      "Train size: 80.0%, Test size: 20.0%\n",
      "Accuracy: 0.245\n",
      "F1-score: 0.186\n",
      "Train size: 70.0%, Test size: 30.0%\n",
      "Accuracy: 0.268\n",
      "F1-score: 0.204\n",
      "Train size: 60.0%, Test size: 40.0%\n"
     ]
    },
    {
     "name": "stderr",
     "output_type": "stream",
     "text": [
      "2024/12/10 16:53:11 INFO mlflow.tracking._tracking_service.client: 🏃 View run gentle-pig-518 at: http://127.0.0.1:8080/#/experiments/479905616626895318/runs/cae24e2115644dc48916dddb6bebef88.\n",
      "2024/12/10 16:53:11 INFO mlflow.tracking._tracking_service.client: 🧪 View experiment at: http://127.0.0.1:8080/#/experiments/479905616626895318.\n"
     ]
    },
    {
     "name": "stdout",
     "output_type": "stream",
     "text": [
      "Accuracy: 0.232\n",
      "F1-score: 0.168\n",
      "Train size: 90.0%, Test size: 10.0%\n",
      "Accuracy: 0.405\n",
      "F1-score: 0.405\n",
      "Train size: 80.0%, Test size: 20.0%\n",
      "Accuracy: 0.382\n",
      "F1-score: 0.382\n",
      "Train size: 70.0%, Test size: 30.0%\n",
      "Accuracy: 0.343\n",
      "F1-score: 0.343\n",
      "Train size: 60.0%, Test size: 40.0%\n"
     ]
    },
    {
     "name": "stderr",
     "output_type": "stream",
     "text": [
      "2024/12/10 16:53:12 INFO mlflow.tracking._tracking_service.client: 🏃 View run bald-cow-183 at: http://127.0.0.1:8080/#/experiments/479905616626895318/runs/849d7e8daf85441c9d9276fcdfcfceaa.\n",
      "2024/12/10 16:53:12 INFO mlflow.tracking._tracking_service.client: 🧪 View experiment at: http://127.0.0.1:8080/#/experiments/479905616626895318.\n"
     ]
    },
    {
     "name": "stdout",
     "output_type": "stream",
     "text": [
      "Accuracy: 0.314\n",
      "F1-score: 0.314\n"
     ]
    }
   ],
   "source": [
    "mlflow.set_experiment(\"Predict Pokemons Name\")\n",
    "clf_lr = LogisticRegression()\n",
    "train(clf_lr, X, y_pok, \"Logisitic regression\")\n",
    "clf_lr = LogisticRegression()\n",
    "train_with_strat(clf_lr, X, y_pok, \"Logisitic regression\")"
   ]
  },
  {
   "cell_type": "code",
   "execution_count": 38,
   "id": "230a55ec-7652-4d9c-927d-4abcb363a673",
   "metadata": {},
   "outputs": [
    {
     "name": "stdout",
     "output_type": "stream",
     "text": [
      "Train size: 90.0%, Test size: 10.0%\n",
      "Accuracy: 0.35\n",
      "F1-score: 0.252\n",
      "Train size: 80.0%, Test size: 20.0%\n",
      "Accuracy: 0.355\n",
      "F1-score: 0.253\n",
      "Train size: 70.0%, Test size: 30.0%\n",
      "Accuracy: 0.359\n",
      "F1-score: 0.256\n",
      "Train size: 60.0%, Test size: 40.0%\n"
     ]
    },
    {
     "name": "stderr",
     "output_type": "stream",
     "text": [
      "2024/12/10 16:53:21 INFO mlflow.tracking._tracking_service.client: 🏃 View run unequaled-snake-472 at: http://127.0.0.1:8080/#/experiments/509757812240063095/runs/6e2a886aef294e42931ee1563f0b158b.\n",
      "2024/12/10 16:53:21 INFO mlflow.tracking._tracking_service.client: 🧪 View experiment at: http://127.0.0.1:8080/#/experiments/509757812240063095.\n"
     ]
    },
    {
     "name": "stdout",
     "output_type": "stream",
     "text": [
      "Accuracy: 0.353\n",
      "F1-score: 0.246\n",
      "Train size: 90.0%, Test size: 10.0%\n",
      "Accuracy: 0.353\n",
      "F1-score: 0.353\n",
      "Train size: 80.0%, Test size: 20.0%\n",
      "Accuracy: 0.358\n",
      "F1-score: 0.358\n",
      "Train size: 70.0%, Test size: 30.0%\n"
     ]
    },
    {
     "name": "stderr",
     "output_type": "stream",
     "text": [
      "2024/12/10 16:53:21 INFO mlflow.tracking._tracking_service.client: 🏃 View run victorious-gnu-675 at: http://127.0.0.1:8080/#/experiments/509757812240063095/runs/8c6c2b0b5c2a4b9a812c531ed1ab5a1d.\n",
      "2024/12/10 16:53:21 INFO mlflow.tracking._tracking_service.client: 🧪 View experiment at: http://127.0.0.1:8080/#/experiments/509757812240063095.\n"
     ]
    },
    {
     "name": "stdout",
     "output_type": "stream",
     "text": [
      "Accuracy: 0.334\n",
      "F1-score: 0.334\n",
      "Train size: 60.0%, Test size: 40.0%\n",
      "Accuracy: 0.338\n",
      "F1-score: 0.338\n"
     ]
    }
   ],
   "source": [
    "mlflow.set_experiment(\"Predict Pokemons Type 1\")\n",
    "clf_lr = LogisticRegression()\n",
    "train(clf_lr, X, y_typ, \"Logisitic regression\")\n",
    "clf_lr = LogisticRegression()\n",
    "train_with_strat(clf_lr, X, y_typ, \"Logisitic regression\")"
   ]
  },
  {
   "cell_type": "markdown",
   "id": "e61c9571-c835-4d9c-9bc9-c789df53f709",
   "metadata": {},
   "source": [
    "Logisyczna regresja najsłabiej radzi sobie z tymi zadaniami. Natomiast tak jak poprzednio widać, że dla pierwszego zadania warstwowy podział jest lepszy oraz najlepsze wyniki otrzymujemy dla podziału 90/10."
   ]
  },
  {
   "cell_type": "markdown",
   "id": "da3d3a29-6575-4e35-9626-ff39bec162bc",
   "metadata": {
    "jp-MarkdownHeadingCollapsed": true
   },
   "source": [
    "### Las losowy"
   ]
  },
  {
   "cell_type": "code",
   "execution_count": 40,
   "id": "932419a0-4d0a-436c-81c3-f186fce4420f",
   "metadata": {},
   "outputs": [
    {
     "name": "stdout",
     "output_type": "stream",
     "text": [
      "Train size: 90.0%, Test size: 10.0%\n",
      "Accuracy: 0.97\n",
      "F1-score: 0.968\n",
      "Train size: 80.0%, Test size: 20.0%\n",
      "Accuracy: 0.961\n",
      "F1-score: 0.958\n",
      "Train size: 70.0%, Test size: 30.0%\n",
      "Accuracy: 0.968\n",
      "F1-score: 0.968\n",
      "Train size: 60.0%, Test size: 40.0%\n"
     ]
    },
    {
     "name": "stderr",
     "output_type": "stream",
     "text": [
      "2024/12/10 16:57:20 INFO mlflow.tracking._tracking_service.client: 🏃 View run powerful-sloth-532 at: http://127.0.0.1:8080/#/experiments/479905616626895318/runs/54d80c3f80a84e13bb745144be38074c.\n",
      "2024/12/10 16:57:20 INFO mlflow.tracking._tracking_service.client: 🧪 View experiment at: http://127.0.0.1:8080/#/experiments/479905616626895318.\n"
     ]
    },
    {
     "name": "stdout",
     "output_type": "stream",
     "text": [
      "Accuracy: 0.966\n",
      "F1-score: 0.967\n",
      "Train size: 90.0%, Test size: 10.0%\n",
      "Accuracy: 0.985\n",
      "F1-score: 0.985\n",
      "Train size: 80.0%, Test size: 20.0%\n",
      "Accuracy: 0.977\n",
      "F1-score: 0.977\n",
      "Train size: 70.0%, Test size: 30.0%\n",
      "Accuracy: 0.975\n",
      "F1-score: 0.975\n",
      "Train size: 60.0%, Test size: 40.0%\n"
     ]
    },
    {
     "name": "stderr",
     "output_type": "stream",
     "text": [
      "2024/12/10 16:57:25 INFO mlflow.tracking._tracking_service.client: 🏃 View run gregarious-roo-412 at: http://127.0.0.1:8080/#/experiments/479905616626895318/runs/8ce8fb63fccd48a480185e7fac854a8f.\n",
      "2024/12/10 16:57:25 INFO mlflow.tracking._tracking_service.client: 🧪 View experiment at: http://127.0.0.1:8080/#/experiments/479905616626895318.\n"
     ]
    },
    {
     "name": "stdout",
     "output_type": "stream",
     "text": [
      "Accuracy: 0.974\n",
      "F1-score: 0.974\n"
     ]
    }
   ],
   "source": [
    "mlflow.set_experiment(\"Predict Pokemons Name\")\n",
    "clf_rf = RandomForestClassifier(random_state=42)\n",
    "train(clf_rf, X, y_pok, \"Random forest\")\n",
    "clf_rf = RandomForestClassifier(random_state=42)\n",
    "train_with_strat(clf_rf, X, y_pok, \"Random forest\")"
   ]
  },
  {
   "cell_type": "code",
   "execution_count": 41,
   "id": "68d617ca-ce9e-489c-939d-3b96f7b3f861",
   "metadata": {},
   "outputs": [
    {
     "name": "stdout",
     "output_type": "stream",
     "text": [
      "Train size: 90.0%, Test size: 10.0%\n",
      "Accuracy: 0.976\n",
      "F1-score: 0.984\n",
      "Train size: 80.0%, Test size: 20.0%\n",
      "Accuracy: 0.968\n",
      "F1-score: 0.97\n",
      "Train size: 70.0%, Test size: 30.0%\n",
      "Accuracy: 0.957\n",
      "F1-score: 0.96\n",
      "Train size: 60.0%, Test size: 40.0%\n"
     ]
    },
    {
     "name": "stderr",
     "output_type": "stream",
     "text": [
      "2024/12/10 16:57:58 INFO mlflow.tracking._tracking_service.client: 🏃 View run abundant-smelt-468 at: http://127.0.0.1:8080/#/experiments/509757812240063095/runs/5fef19822c8c4fdf9a8785a7066fc1bc.\n",
      "2024/12/10 16:57:58 INFO mlflow.tracking._tracking_service.client: 🧪 View experiment at: http://127.0.0.1:8080/#/experiments/509757812240063095.\n"
     ]
    },
    {
     "name": "stdout",
     "output_type": "stream",
     "text": [
      "Accuracy: 0.964\n",
      "F1-score: 0.969\n",
      "Train size: 90.0%, Test size: 10.0%\n",
      "Accuracy: 0.973\n",
      "F1-score: 0.973\n",
      "Train size: 80.0%, Test size: 20.0%\n",
      "Accuracy: 0.968\n",
      "F1-score: 0.968\n",
      "Train size: 70.0%, Test size: 30.0%\n",
      "Accuracy: 0.964\n",
      "F1-score: 0.964\n",
      "Train size: 60.0%, Test size: 40.0%\n"
     ]
    },
    {
     "name": "stderr",
     "output_type": "stream",
     "text": [
      "2024/12/10 16:58:01 INFO mlflow.tracking._tracking_service.client: 🏃 View run youthful-quail-622 at: http://127.0.0.1:8080/#/experiments/509757812240063095/runs/907dee6bf93d411fb43b3f32ef589d8e.\n",
      "2024/12/10 16:58:01 INFO mlflow.tracking._tracking_service.client: 🧪 View experiment at: http://127.0.0.1:8080/#/experiments/509757812240063095.\n"
     ]
    },
    {
     "name": "stdout",
     "output_type": "stream",
     "text": [
      "Accuracy: 0.965\n",
      "F1-score: 0.965\n"
     ]
    }
   ],
   "source": [
    "mlflow.set_experiment(\"Predict Pokemons Type 1\")\n",
    "clf_rf = RandomForestClassifier(random_state=42)\n",
    "train(clf_rf, X, y_typ, \"Random forest\")\n",
    "clf_rf = RandomForestClassifier(random_state=42)\n",
    "train_with_strat(clf_rf, X, y_typ, \"Random forest\")"
   ]
  },
  {
   "cell_type": "markdown",
   "id": "89fe97a5-5c55-4539-a47e-58dd874f4ed8",
   "metadata": {},
   "source": [
    "Jak dotąd las losowy okazał się najlepszym modelem. Również dla podziału 90/10 oraz dla podziału warstowego zostały wygenerowane najlepsze wyniki."
   ]
  },
  {
   "cell_type": "markdown",
   "id": "bfbaa06a-5a1d-421d-98c8-763f1ed1ab82",
   "metadata": {
    "jp-MarkdownHeadingCollapsed": true
   },
   "source": [
    "### Drzewo decyzyjne"
   ]
  },
  {
   "cell_type": "code",
   "execution_count": 42,
   "id": "cebd90e3-1470-4663-a87e-55c5050fbb60",
   "metadata": {},
   "outputs": [
    {
     "name": "stdout",
     "output_type": "stream",
     "text": [
      "Train size: 90.0%, Test size: 10.0%\n",
      "Accuracy: 0.964\n",
      "F1-score: 0.964\n",
      "Train size: 80.0%, Test size: 20.0%\n",
      "Accuracy: 0.952\n",
      "F1-score: 0.956\n",
      "Train size: 70.0%, Test size: 30.0%\n",
      "Accuracy: 0.948\n",
      "F1-score: 0.952\n",
      "Train size: 60.0%, Test size: 40.0%\n",
      "Accuracy: 0.937\n",
      "F1-score: 0.94\n"
     ]
    },
    {
     "name": "stderr",
     "output_type": "stream",
     "text": [
      "2024/12/10 16:58:15 INFO mlflow.tracking._tracking_service.client: 🏃 View run spiffy-hound-8 at: http://127.0.0.1:8080/#/experiments/479905616626895318/runs/4fa9f68d18bf4181af0f6bdf63af02bb.\n",
      "2024/12/10 16:58:15 INFO mlflow.tracking._tracking_service.client: 🧪 View experiment at: http://127.0.0.1:8080/#/experiments/479905616626895318.\n"
     ]
    },
    {
     "name": "stdout",
     "output_type": "stream",
     "text": [
      "Train size: 90.0%, Test size: 10.0%\n",
      "Accuracy: 0.967\n",
      "F1-score: 0.967\n",
      "Train size: 80.0%, Test size: 20.0%\n",
      "Accuracy: 0.964\n",
      "F1-score: 0.964\n",
      "Train size: 70.0%, Test size: 30.0%\n",
      "Accuracy: 0.957\n",
      "F1-score: 0.957\n",
      "Train size: 60.0%, Test size: 40.0%\n"
     ]
    },
    {
     "name": "stderr",
     "output_type": "stream",
     "text": [
      "2024/12/10 16:58:16 INFO mlflow.tracking._tracking_service.client: 🏃 View run burly-fly-430 at: http://127.0.0.1:8080/#/experiments/479905616626895318/runs/3048933166c1420886e21f71d25a170a.\n",
      "2024/12/10 16:58:16 INFO mlflow.tracking._tracking_service.client: 🧪 View experiment at: http://127.0.0.1:8080/#/experiments/479905616626895318.\n"
     ]
    },
    {
     "name": "stdout",
     "output_type": "stream",
     "text": [
      "Accuracy: 0.951\n",
      "F1-score: 0.951\n"
     ]
    }
   ],
   "source": [
    "mlflow.set_experiment(\"Predict Pokemons Name\")\n",
    "clf_dt = DecisionTreeClassifier(random_state=42)\n",
    "train(clf_dt, X, y_pok, \"Decision tree\")\n",
    "clf_rf = DecisionTreeClassifier(random_state=42)\n",
    "train_with_strat(clf_dt, X, y_pok, \"Decision tree\")"
   ]
  },
  {
   "cell_type": "code",
   "execution_count": 43,
   "id": "ef909a8a-21b1-4f04-8002-5ec827071341",
   "metadata": {},
   "outputs": [
    {
     "name": "stdout",
     "output_type": "stream",
     "text": [
      "Train size: 90.0%, Test size: 10.0%\n",
      "Accuracy: 0.888\n",
      "F1-score: 0.881\n",
      "Train size: 80.0%, Test size: 20.0%\n",
      "Accuracy: 0.875\n",
      "F1-score: 0.882\n",
      "Train size: 70.0%, Test size: 30.0%\n"
     ]
    },
    {
     "name": "stderr",
     "output_type": "stream",
     "text": [
      "2024/12/10 16:58:17 INFO mlflow.tracking._tracking_service.client: 🏃 View run whimsical-shoat-646 at: http://127.0.0.1:8080/#/experiments/509757812240063095/runs/1e4fea3bf5604880ab57dc8ff59405c5.\n",
      "2024/12/10 16:58:17 INFO mlflow.tracking._tracking_service.client: 🧪 View experiment at: http://127.0.0.1:8080/#/experiments/509757812240063095.\n"
     ]
    },
    {
     "name": "stdout",
     "output_type": "stream",
     "text": [
      "Accuracy: 0.877\n",
      "F1-score: 0.881\n",
      "Train size: 60.0%, Test size: 40.0%\n",
      "Accuracy: 0.85\n",
      "F1-score: 0.852\n",
      "Train size: 90.0%, Test size: 10.0%\n",
      "Accuracy: 0.879\n",
      "F1-score: 0.879\n",
      "Train size: 80.0%, Test size: 20.0%\n",
      "Accuracy: 0.887\n",
      "F1-score: 0.887\n",
      "Train size: 70.0%, Test size: 30.0%\n"
     ]
    },
    {
     "name": "stderr",
     "output_type": "stream",
     "text": [
      "2024/12/10 16:58:18 INFO mlflow.tracking._tracking_service.client: 🏃 View run bouncy-finch-336 at: http://127.0.0.1:8080/#/experiments/509757812240063095/runs/3d304340860342278f281f5e8eb1caef.\n",
      "2024/12/10 16:58:18 INFO mlflow.tracking._tracking_service.client: 🧪 View experiment at: http://127.0.0.1:8080/#/experiments/509757812240063095.\n"
     ]
    },
    {
     "name": "stdout",
     "output_type": "stream",
     "text": [
      "Accuracy: 0.824\n",
      "F1-score: 0.824\n",
      "Train size: 60.0%, Test size: 40.0%\n",
      "Accuracy: 0.829\n",
      "F1-score: 0.829\n"
     ]
    }
   ],
   "source": [
    "mlflow.set_experiment(\"Predict Pokemons Type 1\")\n",
    "clf_dt = DecisionTreeClassifier(random_state=42)\n",
    "train(clf_dt, X, y_typ, \"Decision tree\")\n",
    "clf_dt = DecisionTreeClassifier(random_state=42)\n",
    "train_with_strat(clf_dt, X, y_typ, \"Decision tree\")"
   ]
  },
  {
   "cell_type": "markdown",
   "id": "15f977c1-f4e5-4375-a5bf-e1efee364781",
   "metadata": {},
   "source": [
    "Drzewo decyzyjne dla zadania klasyfikacji nazw pokemonów wypada bardzo dobrze i osiąda podobne wyniki jak las losowy. Widać znaczny spadek dokładności dla klasyfikacji typu I. Również otrzymujemy najlepsze wyniki dla podziału 90/10, natomiast co jest ciekawe to, przy podziale warstwowym otrzymujemy gorsze wyniki."
   ]
  },
  {
   "cell_type": "markdown",
   "id": "2ff815a0-55c2-4180-b775-9c766bd9b031",
   "metadata": {
    "jp-MarkdownHeadingCollapsed": true
   },
   "source": [
    "### SVM"
   ]
  },
  {
   "cell_type": "code",
   "execution_count": 44,
   "id": "5b946da7-ac39-4475-bb0a-caa290d9db97",
   "metadata": {},
   "outputs": [
    {
     "name": "stdout",
     "output_type": "stream",
     "text": [
      "Train size: 90.0%, Test size: 10.0%\n",
      "Accuracy: 0.891\n",
      "F1-score: 0.868\n",
      "Train size: 80.0%, Test size: 20.0%\n",
      "Accuracy: 0.891\n",
      "F1-score: 0.893\n",
      "Train size: 70.0%, Test size: 30.0%\n",
      "Accuracy: 0.862\n",
      "F1-score: 0.848\n",
      "Train size: 60.0%, Test size: 40.0%\n"
     ]
    },
    {
     "name": "stderr",
     "output_type": "stream",
     "text": [
      "2024/12/10 16:58:29 INFO mlflow.tracking._tracking_service.client: 🏃 View run colorful-grouse-956 at: http://127.0.0.1:8080/#/experiments/479905616626895318/runs/43b35be2d11a45008cb0632cc0726c57.\n",
      "2024/12/10 16:58:29 INFO mlflow.tracking._tracking_service.client: 🧪 View experiment at: http://127.0.0.1:8080/#/experiments/479905616626895318.\n"
     ]
    },
    {
     "name": "stdout",
     "output_type": "stream",
     "text": [
      "Accuracy: 0.848\n",
      "F1-score: 0.839\n",
      "Train size: 90.0%, Test size: 10.0%\n",
      "Accuracy: 0.937\n",
      "F1-score: 0.937\n",
      "Train size: 80.0%, Test size: 20.0%\n",
      "Accuracy: 0.934\n",
      "F1-score: 0.934\n",
      "Train size: 70.0%, Test size: 30.0%\n",
      "Accuracy: 0.927\n",
      "F1-score: 0.927\n",
      "Train size: 60.0%, Test size: 40.0%\n"
     ]
    },
    {
     "name": "stderr",
     "output_type": "stream",
     "text": [
      "2024/12/10 16:58:33 INFO mlflow.tracking._tracking_service.client: 🏃 View run chill-hen-30 at: http://127.0.0.1:8080/#/experiments/479905616626895318/runs/60da7f87852344d8be05055290162ee6.\n",
      "2024/12/10 16:58:33 INFO mlflow.tracking._tracking_service.client: 🧪 View experiment at: http://127.0.0.1:8080/#/experiments/479905616626895318.\n"
     ]
    },
    {
     "name": "stdout",
     "output_type": "stream",
     "text": [
      "Accuracy: 0.922\n",
      "F1-score: 0.922\n"
     ]
    }
   ],
   "source": [
    "mlflow.set_experiment(\"Predict Pokemons Name\")\n",
    "clf_svm = SVC()\n",
    "train(clf_svm, X, y_pok, \"SVM\")\n",
    "clf_svm = SVC()\n",
    "train_with_strat(clf_svm, X, y_pok, \"SVM\")"
   ]
  },
  {
   "cell_type": "code",
   "execution_count": 45,
   "id": "2dae4a2c-d413-43d0-b3d8-e9e9d7c1734c",
   "metadata": {},
   "outputs": [
    {
     "name": "stdout",
     "output_type": "stream",
     "text": [
      "Train size: 90.0%, Test size: 10.0%\n",
      "Accuracy: 0.785\n",
      "F1-score: 0.747\n",
      "Train size: 80.0%, Test size: 20.0%\n",
      "Accuracy: 0.766\n",
      "F1-score: 0.763\n",
      "Train size: 70.0%, Test size: 30.0%\n",
      "Accuracy: 0.752\n",
      "F1-score: 0.679\n",
      "Train size: 60.0%, Test size: 40.0%\n"
     ]
    },
    {
     "name": "stderr",
     "output_type": "stream",
     "text": [
      "2024/12/10 16:58:40 INFO mlflow.tracking._tracking_service.client: 🏃 View run treasured-perch-470 at: http://127.0.0.1:8080/#/experiments/509757812240063095/runs/0df9c3b4d1bb4f1eb16724f364681de8.\n",
      "2024/12/10 16:58:40 INFO mlflow.tracking._tracking_service.client: 🧪 View experiment at: http://127.0.0.1:8080/#/experiments/509757812240063095.\n"
     ]
    },
    {
     "name": "stdout",
     "output_type": "stream",
     "text": [
      "Accuracy: 0.729\n",
      "F1-score: 0.671\n",
      "Train size: 90.0%, Test size: 10.0%\n",
      "Accuracy: 0.785\n",
      "F1-score: 0.785\n",
      "Train size: 80.0%, Test size: 20.0%\n",
      "Accuracy: 0.766\n",
      "F1-score: 0.766\n",
      "Train size: 70.0%, Test size: 30.0%\n",
      "Accuracy: 0.743\n",
      "F1-score: 0.743\n",
      "Train size: 60.0%, Test size: 40.0%\n"
     ]
    },
    {
     "name": "stderr",
     "output_type": "stream",
     "text": [
      "2024/12/10 16:58:42 INFO mlflow.tracking._tracking_service.client: 🏃 View run secretive-asp-511 at: http://127.0.0.1:8080/#/experiments/509757812240063095/runs/c6ea63144a8a419eb9b5bfec6a1e0666.\n",
      "2024/12/10 16:58:42 INFO mlflow.tracking._tracking_service.client: 🧪 View experiment at: http://127.0.0.1:8080/#/experiments/509757812240063095.\n"
     ]
    },
    {
     "name": "stdout",
     "output_type": "stream",
     "text": [
      "Accuracy: 0.72\n",
      "F1-score: 0.72\n"
     ]
    }
   ],
   "source": [
    "mlflow.set_experiment(\"Predict Pokemons Type 1\")\n",
    "clf_svc = SVC()\n",
    "train(clf_svc, X, y_typ, \"SVM\")\n",
    "clf_svc = SVC()\n",
    "train_with_strat(clf_svc, X, y_typ, \"SVM\")"
   ]
  },
  {
   "cell_type": "markdown",
   "id": "b670da40-0ebf-4897-a131-4a03774e61f0",
   "metadata": {},
   "source": [
    "SVM działa dośc dobrze, natomiast lekko odbiega od Lasu losowego i Drzewa decyzyjnego. Otrzymujemy lepsze wyniki dla przewidywania nazw pokemonów niż dla typu I. Widać również znaczny spadek przy uzyciu losowego podziału zbioru na testowy i treningowy."
   ]
  },
  {
   "cell_type": "markdown",
   "id": "56082909-c3ad-4d29-9f24-8f6c245797f6",
   "metadata": {},
   "source": [
    "### Gradient boosting"
   ]
  },
  {
   "cell_type": "code",
   "execution_count": 46,
   "id": "61e9fbfa-8b76-4453-9875-4560cded7e27",
   "metadata": {},
   "outputs": [
    {
     "name": "stdout",
     "output_type": "stream",
     "text": [
      "Train size: 90.0%, Test size: 10.0%\n",
      "Accuracy: 0.888\n",
      "F1-score: 0.869\n",
      "Train size: 80.0%, Test size: 20.0%\n",
      "Accuracy: 0.728\n",
      "F1-score: 0.743\n",
      "Train size: 70.0%, Test size: 30.0%\n",
      "Accuracy: 0.826\n",
      "F1-score: 0.821\n",
      "Train size: 60.0%, Test size: 40.0%\n"
     ]
    },
    {
     "name": "stderr",
     "output_type": "stream",
     "text": [
      "2024/12/10 17:03:50 INFO mlflow.tracking._tracking_service.client: 🏃 View run persistent-ant-968 at: http://127.0.0.1:8080/#/experiments/479905616626895318/runs/2f80053320674b5d954d27a4a70c2173.\n",
      "2024/12/10 17:03:50 INFO mlflow.tracking._tracking_service.client: 🧪 View experiment at: http://127.0.0.1:8080/#/experiments/479905616626895318.\n"
     ]
    },
    {
     "name": "stdout",
     "output_type": "stream",
     "text": [
      "Accuracy: 0.084\n",
      "F1-score: 0.083\n",
      "Train size: 90.0%, Test size: 10.0%\n",
      "Accuracy: 0.082\n",
      "F1-score: 0.082\n",
      "Train size: 80.0%, Test size: 20.0%\n",
      "Accuracy: 0.9\n",
      "F1-score: 0.9\n",
      "Train size: 70.0%, Test size: 30.0%\n",
      "Accuracy: 0.868\n",
      "F1-score: 0.868\n",
      "Train size: 60.0%, Test size: 40.0%\n"
     ]
    },
    {
     "name": "stderr",
     "output_type": "stream",
     "text": [
      "2024/12/10 17:08:09 INFO mlflow.tracking._tracking_service.client: 🏃 View run charming-bird-576 at: http://127.0.0.1:8080/#/experiments/479905616626895318/runs/9e05b4eaadc04d39b1673993c861981e.\n",
      "2024/12/10 17:08:09 INFO mlflow.tracking._tracking_service.client: 🧪 View experiment at: http://127.0.0.1:8080/#/experiments/479905616626895318.\n"
     ]
    },
    {
     "name": "stdout",
     "output_type": "stream",
     "text": [
      "Accuracy: 0.116\n",
      "F1-score: 0.116\n"
     ]
    }
   ],
   "source": [
    "mlflow.set_experiment(\"Predict Pokemons Name\")\n",
    "clf_gb = GradientBoostingClassifier(random_state=42)\n",
    "train(clf_gb, X, y_pok, \"Gradient boosting\")\n",
    "clf_gb = GradientBoostingClassifier(random_state=42)\n",
    "train_with_strat(clf_gb, X, y_pok, \"Gradient boosting\")"
   ]
  },
  {
   "cell_type": "code",
   "execution_count": 48,
   "id": "cde656d6-69c6-469d-a28a-01cef5221345",
   "metadata": {},
   "outputs": [
    {
     "name": "stdout",
     "output_type": "stream",
     "text": [
      "Train size: 90.0%, Test size: 10.0%\n",
      "Accuracy: 0.967\n",
      "F1-score: 0.968\n",
      "Train size: 80.0%, Test size: 20.0%\n",
      "Accuracy: 0.967\n",
      "F1-score: 0.965\n",
      "Train size: 70.0%, Test size: 30.0%\n",
      "Accuracy: 0.956\n",
      "F1-score: 0.962\n",
      "Train size: 60.0%, Test size: 40.0%\n"
     ]
    },
    {
     "name": "stderr",
     "output_type": "stream",
     "text": [
      "2024/12/10 17:10:31 INFO mlflow.tracking._tracking_service.client: 🏃 View run victorious-snake-840 at: http://127.0.0.1:8080/#/experiments/509757812240063095/runs/18a27d20271f4e47aa9a73514e969df2.\n",
      "2024/12/10 17:10:31 INFO mlflow.tracking._tracking_service.client: 🧪 View experiment at: http://127.0.0.1:8080/#/experiments/509757812240063095.\n"
     ]
    },
    {
     "name": "stdout",
     "output_type": "stream",
     "text": [
      "Accuracy: 0.937\n",
      "F1-score: 0.939\n",
      "Train size: 90.0%, Test size: 10.0%\n",
      "Accuracy: 0.961\n",
      "F1-score: 0.961\n",
      "Train size: 80.0%, Test size: 20.0%\n",
      "Accuracy: 0.946\n",
      "F1-score: 0.946\n",
      "Train size: 70.0%, Test size: 30.0%\n",
      "Accuracy: 0.94\n",
      "F1-score: 0.94\n",
      "Train size: 60.0%, Test size: 40.0%\n"
     ]
    },
    {
     "name": "stderr",
     "output_type": "stream",
     "text": [
      "2024/12/10 17:10:58 INFO mlflow.tracking._tracking_service.client: 🏃 View run sedate-worm-402 at: http://127.0.0.1:8080/#/experiments/509757812240063095/runs/e580d405ec17468c82446dcea7bced64.\n",
      "2024/12/10 17:10:58 INFO mlflow.tracking._tracking_service.client: 🧪 View experiment at: http://127.0.0.1:8080/#/experiments/509757812240063095.\n"
     ]
    },
    {
     "name": "stdout",
     "output_type": "stream",
     "text": [
      "Accuracy: 0.937\n",
      "F1-score: 0.937\n"
     ]
    }
   ],
   "source": [
    "mlflow.set_experiment(\"Predict Pokemons Type 1\")\n",
    "clf_gb = GradientBoostingClassifier(random_state=42)\n",
    "train(clf_gb, X, y_typ, \"Gradient boosting\")\n",
    "clf_gb = GradientBoostingClassifier(random_state=42)\n",
    "train_with_strat(clf_gb, X, y_typ, \"Gradient boosting\")"
   ]
  },
  {
   "cell_type": "markdown",
   "id": "804f5866-d290-4871-82ea-b4b89d3c67a2",
   "metadata": {},
   "source": [
    "Metoda gradient boostingu, działa również bardzo dobrze. Wyniki są porównywalne do lasów losowych."
   ]
  },
  {
   "cell_type": "markdown",
   "id": "d856491f-77a3-4a84-9667-dc26de601110",
   "metadata": {},
   "source": [
    "### Adaboost"
   ]
  },
  {
   "cell_type": "code",
   "execution_count": 49,
   "id": "b21f281f-2b45-45c2-b193-ba515535039a",
   "metadata": {},
   "outputs": [
    {
     "name": "stdout",
     "output_type": "stream",
     "text": [
      "Train size: 90.0%, Test size: 10.0%\n"
     ]
    },
    {
     "name": "stderr",
     "output_type": "stream",
     "text": [
      "C:\\Users\\urbii\\Desktop\\Projekty\\Machine-learning-course\\venv\\Lib\\site-packages\\sklearn\\ensemble\\_weight_boosting.py:527: FutureWarning: The SAMME.R algorithm (the default) is deprecated and will be removed in 1.6. Use the SAMME algorithm to circumvent this warning.\n",
      "  warnings.warn(\n"
     ]
    },
    {
     "name": "stdout",
     "output_type": "stream",
     "text": [
      "Accuracy: 0.009\n",
      "F1-score: 0.007\n",
      "Train size: 80.0%, Test size: 20.0%\n"
     ]
    },
    {
     "name": "stderr",
     "output_type": "stream",
     "text": [
      "C:\\Users\\urbii\\Desktop\\Projekty\\Machine-learning-course\\venv\\Lib\\site-packages\\sklearn\\ensemble\\_weight_boosting.py:527: FutureWarning: The SAMME.R algorithm (the default) is deprecated and will be removed in 1.6. Use the SAMME algorithm to circumvent this warning.\n",
      "  warnings.warn(\n"
     ]
    },
    {
     "name": "stdout",
     "output_type": "stream",
     "text": [
      "Accuracy: 0.03\n",
      "F1-score: 0.024\n",
      "Train size: 70.0%, Test size: 30.0%\n"
     ]
    },
    {
     "name": "stderr",
     "output_type": "stream",
     "text": [
      "C:\\Users\\urbii\\Desktop\\Projekty\\Machine-learning-course\\venv\\Lib\\site-packages\\sklearn\\ensemble\\_weight_boosting.py:527: FutureWarning: The SAMME.R algorithm (the default) is deprecated and will be removed in 1.6. Use the SAMME algorithm to circumvent this warning.\n",
      "  warnings.warn(\n"
     ]
    },
    {
     "name": "stdout",
     "output_type": "stream",
     "text": [
      "Accuracy: 0.03\n",
      "F1-score: 0.025\n",
      "Train size: 60.0%, Test size: 40.0%\n"
     ]
    },
    {
     "name": "stderr",
     "output_type": "stream",
     "text": [
      "C:\\Users\\urbii\\Desktop\\Projekty\\Machine-learning-course\\venv\\Lib\\site-packages\\sklearn\\ensemble\\_weight_boosting.py:527: FutureWarning: The SAMME.R algorithm (the default) is deprecated and will be removed in 1.6. Use the SAMME algorithm to circumvent this warning.\n",
      "  warnings.warn(\n",
      "2024/12/10 17:13:33 INFO mlflow.tracking._tracking_service.client: 🏃 View run valuable-vole-414 at: http://127.0.0.1:8080/#/experiments/479905616626895318/runs/e4b5c030733b4a2d9de781aa3587c435.\n",
      "2024/12/10 17:13:33 INFO mlflow.tracking._tracking_service.client: 🧪 View experiment at: http://127.0.0.1:8080/#/experiments/479905616626895318.\n"
     ]
    },
    {
     "name": "stdout",
     "output_type": "stream",
     "text": [
      "Accuracy: 0.02\n",
      "F1-score: 0.016\n",
      "Train size: 90.0%, Test size: 10.0%\n"
     ]
    },
    {
     "name": "stderr",
     "output_type": "stream",
     "text": [
      "C:\\Users\\urbii\\Desktop\\Projekty\\Machine-learning-course\\venv\\Lib\\site-packages\\sklearn\\ensemble\\_weight_boosting.py:527: FutureWarning: The SAMME.R algorithm (the default) is deprecated and will be removed in 1.6. Use the SAMME algorithm to circumvent this warning.\n",
      "  warnings.warn(\n"
     ]
    },
    {
     "name": "stdout",
     "output_type": "stream",
     "text": [
      "Accuracy: 0.106\n",
      "F1-score: 0.106\n",
      "Train size: 80.0%, Test size: 20.0%\n"
     ]
    },
    {
     "name": "stderr",
     "output_type": "stream",
     "text": [
      "C:\\Users\\urbii\\Desktop\\Projekty\\Machine-learning-course\\venv\\Lib\\site-packages\\sklearn\\ensemble\\_weight_boosting.py:527: FutureWarning: The SAMME.R algorithm (the default) is deprecated and will be removed in 1.6. Use the SAMME algorithm to circumvent this warning.\n",
      "  warnings.warn(\n"
     ]
    },
    {
     "name": "stdout",
     "output_type": "stream",
     "text": [
      "Accuracy: 0.116\n",
      "F1-score: 0.116\n",
      "Train size: 70.0%, Test size: 30.0%\n"
     ]
    },
    {
     "name": "stderr",
     "output_type": "stream",
     "text": [
      "C:\\Users\\urbii\\Desktop\\Projekty\\Machine-learning-course\\venv\\Lib\\site-packages\\sklearn\\ensemble\\_weight_boosting.py:527: FutureWarning: The SAMME.R algorithm (the default) is deprecated and will be removed in 1.6. Use the SAMME algorithm to circumvent this warning.\n",
      "  warnings.warn(\n"
     ]
    },
    {
     "name": "stdout",
     "output_type": "stream",
     "text": [
      "Accuracy: 0.123\n",
      "F1-score: 0.123\n",
      "Train size: 60.0%, Test size: 40.0%\n"
     ]
    },
    {
     "name": "stderr",
     "output_type": "stream",
     "text": [
      "C:\\Users\\urbii\\Desktop\\Projekty\\Machine-learning-course\\venv\\Lib\\site-packages\\sklearn\\ensemble\\_weight_boosting.py:527: FutureWarning: The SAMME.R algorithm (the default) is deprecated and will be removed in 1.6. Use the SAMME algorithm to circumvent this warning.\n",
      "  warnings.warn(\n",
      "2024/12/10 17:13:41 INFO mlflow.tracking._tracking_service.client: 🏃 View run trusting-shrew-340 at: http://127.0.0.1:8080/#/experiments/479905616626895318/runs/bdad1be5e44f477abbf09a6eabd12ce5.\n",
      "2024/12/10 17:13:41 INFO mlflow.tracking._tracking_service.client: 🧪 View experiment at: http://127.0.0.1:8080/#/experiments/479905616626895318.\n"
     ]
    },
    {
     "name": "stdout",
     "output_type": "stream",
     "text": [
      "Accuracy: 0.105\n",
      "F1-score: 0.105\n"
     ]
    }
   ],
   "source": [
    "mlflow.set_experiment(\"Predict Pokemons Name\")\n",
    "clf_ab = AdaBoostClassifier(random_state=42)\n",
    "train(clf_ab, X, y_pok, \"Ada boosting\")\n",
    "clf_ab = AdaBoostClassifier(random_state=42)\n",
    "train_with_strat(clf_ab, X, y_pok, \"Ada boosting\")"
   ]
  },
  {
   "cell_type": "code",
   "execution_count": 50,
   "id": "67c0461d-904a-4fc1-8447-d3aa5c9214d3",
   "metadata": {},
   "outputs": [
    {
     "name": "stdout",
     "output_type": "stream",
     "text": [
      "Train size: 90.0%, Test size: 10.0%\n"
     ]
    },
    {
     "name": "stderr",
     "output_type": "stream",
     "text": [
      "C:\\Users\\urbii\\Desktop\\Projekty\\Machine-learning-course\\venv\\Lib\\site-packages\\sklearn\\ensemble\\_weight_boosting.py:527: FutureWarning: The SAMME.R algorithm (the default) is deprecated and will be removed in 1.6. Use the SAMME algorithm to circumvent this warning.\n",
      "  warnings.warn(\n"
     ]
    },
    {
     "name": "stdout",
     "output_type": "stream",
     "text": [
      "Accuracy: 0.13\n",
      "F1-score: 0.043\n",
      "Train size: 80.0%, Test size: 20.0%\n"
     ]
    },
    {
     "name": "stderr",
     "output_type": "stream",
     "text": [
      "C:\\Users\\urbii\\Desktop\\Projekty\\Machine-learning-course\\venv\\Lib\\site-packages\\sklearn\\ensemble\\_weight_boosting.py:527: FutureWarning: The SAMME.R algorithm (the default) is deprecated and will be removed in 1.6. Use the SAMME algorithm to circumvent this warning.\n",
      "  warnings.warn(\n"
     ]
    },
    {
     "name": "stdout",
     "output_type": "stream",
     "text": [
      "Accuracy: 0.159\n",
      "F1-score: 0.049\n",
      "Train size: 70.0%, Test size: 30.0%\n"
     ]
    },
    {
     "name": "stderr",
     "output_type": "stream",
     "text": [
      "C:\\Users\\urbii\\Desktop\\Projekty\\Machine-learning-course\\venv\\Lib\\site-packages\\sklearn\\ensemble\\_weight_boosting.py:527: FutureWarning: The SAMME.R algorithm (the default) is deprecated and will be removed in 1.6. Use the SAMME algorithm to circumvent this warning.\n",
      "  warnings.warn(\n"
     ]
    },
    {
     "name": "stdout",
     "output_type": "stream",
     "text": [
      "Accuracy: 0.221\n",
      "F1-score: 0.097\n",
      "Train size: 60.0%, Test size: 40.0%\n"
     ]
    },
    {
     "name": "stderr",
     "output_type": "stream",
     "text": [
      "C:\\Users\\urbii\\Desktop\\Projekty\\Machine-learning-course\\venv\\Lib\\site-packages\\sklearn\\ensemble\\_weight_boosting.py:527: FutureWarning: The SAMME.R algorithm (the default) is deprecated and will be removed in 1.6. Use the SAMME algorithm to circumvent this warning.\n",
      "  warnings.warn(\n",
      "2024/12/10 17:13:54 INFO mlflow.tracking._tracking_service.client: 🏃 View run legendary-toad-89 at: http://127.0.0.1:8080/#/experiments/509757812240063095/runs/fe33392ca6ce4d4ca0a1e835eae30429.\n",
      "2024/12/10 17:13:54 INFO mlflow.tracking._tracking_service.client: 🧪 View experiment at: http://127.0.0.1:8080/#/experiments/509757812240063095.\n"
     ]
    },
    {
     "name": "stdout",
     "output_type": "stream",
     "text": [
      "Accuracy: 0.196\n",
      "F1-score: 0.065\n",
      "Train size: 90.0%, Test size: 10.0%\n"
     ]
    },
    {
     "name": "stderr",
     "output_type": "stream",
     "text": [
      "C:\\Users\\urbii\\Desktop\\Projekty\\Machine-learning-course\\venv\\Lib\\site-packages\\sklearn\\ensemble\\_weight_boosting.py:527: FutureWarning: The SAMME.R algorithm (the default) is deprecated and will be removed in 1.6. Use the SAMME algorithm to circumvent this warning.\n",
      "  warnings.warn(\n"
     ]
    },
    {
     "name": "stdout",
     "output_type": "stream",
     "text": [
      "Accuracy: 0.215\n",
      "F1-score: 0.215\n",
      "Train size: 80.0%, Test size: 20.0%\n"
     ]
    },
    {
     "name": "stderr",
     "output_type": "stream",
     "text": [
      "C:\\Users\\urbii\\Desktop\\Projekty\\Machine-learning-course\\venv\\Lib\\site-packages\\sklearn\\ensemble\\_weight_boosting.py:527: FutureWarning: The SAMME.R algorithm (the default) is deprecated and will be removed in 1.6. Use the SAMME algorithm to circumvent this warning.\n",
      "  warnings.warn(\n"
     ]
    },
    {
     "name": "stdout",
     "output_type": "stream",
     "text": [
      "Accuracy: 0.213\n",
      "F1-score: 0.213\n",
      "Train size: 70.0%, Test size: 30.0%\n"
     ]
    },
    {
     "name": "stderr",
     "output_type": "stream",
     "text": [
      "C:\\Users\\urbii\\Desktop\\Projekty\\Machine-learning-course\\venv\\Lib\\site-packages\\sklearn\\ensemble\\_weight_boosting.py:527: FutureWarning: The SAMME.R algorithm (the default) is deprecated and will be removed in 1.6. Use the SAMME algorithm to circumvent this warning.\n",
      "  warnings.warn(\n"
     ]
    },
    {
     "name": "stdout",
     "output_type": "stream",
     "text": [
      "Accuracy: 0.205\n",
      "F1-score: 0.205\n",
      "Train size: 60.0%, Test size: 40.0%\n"
     ]
    },
    {
     "name": "stderr",
     "output_type": "stream",
     "text": [
      "C:\\Users\\urbii\\Desktop\\Projekty\\Machine-learning-course\\venv\\Lib\\site-packages\\sklearn\\ensemble\\_weight_boosting.py:527: FutureWarning: The SAMME.R algorithm (the default) is deprecated and will be removed in 1.6. Use the SAMME algorithm to circumvent this warning.\n",
      "  warnings.warn(\n",
      "2024/12/10 17:13:56 INFO mlflow.tracking._tracking_service.client: 🏃 View run merciful-squid-976 at: http://127.0.0.1:8080/#/experiments/509757812240063095/runs/fd407d12ed934d5b973559bc63a990cb.\n",
      "2024/12/10 17:13:56 INFO mlflow.tracking._tracking_service.client: 🧪 View experiment at: http://127.0.0.1:8080/#/experiments/509757812240063095.\n"
     ]
    },
    {
     "name": "stdout",
     "output_type": "stream",
     "text": [
      "Accuracy: 0.23\n",
      "F1-score: 0.23\n"
     ]
    }
   ],
   "source": [
    "mlflow.set_experiment(\"Predict Pokemons Type 1\")\n",
    "clf_ab = AdaBoostClassifier(random_state=42)\n",
    "train(clf_ab, X, y_typ, \"Ada boosting\")\n",
    "clf_ab = AdaBoostClassifier(random_state=42)\n",
    "train_with_strat(clf_ab, X, y_typ, \"Ada boosting\")"
   ]
  },
  {
   "cell_type": "markdown",
   "id": "fde57a07-4b6f-4205-98a5-4254d3a9fb42",
   "metadata": {},
   "source": [
    "## Xgboost"
   ]
  },
  {
   "cell_type": "code",
   "execution_count": 13,
   "id": "c2ba9b54-96a1-4622-8692-3c8ab5519b2b",
   "metadata": {},
   "outputs": [
    {
     "name": "stdout",
     "output_type": "stream",
     "text": [
      "Train size: 90.0%, Test size: 10.0%\n",
      "Accuracy: 0.937\n",
      "F1-score: 0.927\n",
      "Train size: 80.0%, Test size: 20.0%\n",
      "Accuracy: 0.938\n",
      "F1-score: 0.931\n",
      "Train size: 70.0%, Test size: 30.0%\n",
      "Accuracy: 0.943\n",
      "F1-score: 0.942\n",
      "Train size: 60.0%, Test size: 40.0%\n"
     ]
    },
    {
     "name": "stderr",
     "output_type": "stream",
     "text": [
      "2024/12/10 20:22:51 INFO mlflow.tracking._tracking_service.client: 🏃 View run unleashed-gull-720 at: http://127.0.0.1:8080/#/experiments/479905616626895318/runs/8478b5e613fd42adbdaa835b9f70f419.\n",
      "2024/12/10 20:22:51 INFO mlflow.tracking._tracking_service.client: 🧪 View experiment at: http://127.0.0.1:8080/#/experiments/479905616626895318.\n"
     ]
    },
    {
     "name": "stdout",
     "output_type": "stream",
     "text": [
      "Accuracy: 0.94\n",
      "F1-score: 0.94\n",
      "Train size: 90.0%, Test size: 10.0%\n",
      "Accuracy: 0.964\n",
      "F1-score: 0.964\n",
      "Train size: 80.0%, Test size: 20.0%\n",
      "Accuracy: 0.946\n",
      "F1-score: 0.946\n",
      "Train size: 70.0%, Test size: 30.0%\n",
      "Accuracy: 0.944\n",
      "F1-score: 0.944\n",
      "Train size: 60.0%, Test size: 40.0%\n"
     ]
    },
    {
     "name": "stderr",
     "output_type": "stream",
     "text": [
      "2024/12/10 20:22:59 INFO mlflow.tracking._tracking_service.client: 🏃 View run merciful-pug-381 at: http://127.0.0.1:8080/#/experiments/479905616626895318/runs/06ef16e8aa994c6186b436a6c70d08fa.\n",
      "2024/12/10 20:22:59 INFO mlflow.tracking._tracking_service.client: 🧪 View experiment at: http://127.0.0.1:8080/#/experiments/479905616626895318.\n"
     ]
    },
    {
     "name": "stdout",
     "output_type": "stream",
     "text": [
      "Accuracy: 0.937\n",
      "F1-score: 0.937\n"
     ]
    }
   ],
   "source": [
    "mlflow.set_experiment(\"Predict Pokemons Name\")\n",
    "clf_xgb = xgb.XGBClassifier(random_state=42)\n",
    "train(clf_xgb, X, y_pok, \"Xgboost\")\n",
    "clf_xgb = xgb.XGBClassifier(random_state=42)\n",
    "train_with_strat(clf_xgb, X, y_pok, \"Xgboost\")"
   ]
  },
  {
   "cell_type": "code",
   "execution_count": 15,
   "id": "159f6aaf-f342-4af9-910e-b4387709211c",
   "metadata": {},
   "outputs": [
    {
     "name": "stdout",
     "output_type": "stream",
     "text": [
      "Train size: 90.0%, Test size: 10.0%\n",
      "Accuracy: 0.979\n",
      "F1-score: 0.976\n",
      "Train size: 80.0%, Test size: 20.0%\n",
      "Accuracy: 0.962\n",
      "F1-score: 0.961\n",
      "Train size: 70.0%, Test size: 30.0%\n",
      "Accuracy: 0.963\n",
      "F1-score: 0.96\n",
      "Train size: 60.0%, Test size: 40.0%\n"
     ]
    },
    {
     "name": "stderr",
     "output_type": "stream",
     "text": [
      "2024/12/10 20:24:09 INFO mlflow.tracking._tracking_service.client: 🏃 View run awesome-koi-950 at: http://127.0.0.1:8080/#/experiments/509757812240063095/runs/a65e889a9ac54817b51836c29a7ac96b.\n",
      "2024/12/10 20:24:09 INFO mlflow.tracking._tracking_service.client: 🧪 View experiment at: http://127.0.0.1:8080/#/experiments/509757812240063095.\n"
     ]
    },
    {
     "name": "stdout",
     "output_type": "stream",
     "text": [
      "Accuracy: 0.957\n",
      "F1-score: 0.953\n",
      "Train size: 90.0%, Test size: 10.0%\n",
      "Accuracy: 0.976\n",
      "F1-score: 0.976\n",
      "Train size: 80.0%, Test size: 20.0%\n",
      "Accuracy: 0.955\n",
      "F1-score: 0.955\n",
      "Train size: 70.0%, Test size: 30.0%\n",
      "Accuracy: 0.954\n",
      "F1-score: 0.954\n",
      "Train size: 60.0%, Test size: 40.0%\n"
     ]
    },
    {
     "name": "stderr",
     "output_type": "stream",
     "text": [
      "2024/12/10 20:24:11 INFO mlflow.tracking._tracking_service.client: 🏃 View run unequaled-ray-669 at: http://127.0.0.1:8080/#/experiments/509757812240063095/runs/2214aa2bce7b40e08d08eb1ee7c8b51c.\n",
      "2024/12/10 20:24:11 INFO mlflow.tracking._tracking_service.client: 🧪 View experiment at: http://127.0.0.1:8080/#/experiments/509757812240063095.\n"
     ]
    },
    {
     "name": "stdout",
     "output_type": "stream",
     "text": [
      "Accuracy: 0.952\n",
      "F1-score: 0.952\n"
     ]
    }
   ],
   "source": [
    "mlflow.set_experiment(\"Predict Pokemons Type 1\")\n",
    "clf_xgb = xgb.XGBClassifier(random_state=42)\n",
    "train(clf_xgb, X, y_typ, \"Xgboost\")\n",
    "clf_xgb = xgb.XGBClassifier(random_state=42)\n",
    "train_with_strat(clf_xgb, X, y_typ, \"Xgboost\")"
   ]
  },
  {
   "cell_type": "markdown",
   "id": "2039e886-1023-44b4-b772-be5afac8b937",
   "metadata": {},
   "source": [
    "Model xgboost jest porównywalny do lasów losowych. Podczas eksperymentów wynik wskazał na to, że las losowy jest najlepszym modelem. Natomiast xgboost jest drugim najlepszym modelem. Średnie wyniki metryk obydwu modeli oscylowały w okolicy 95/96%. Trzecim najlepszym modelem były drzewa decyzyjne, natomiast one podczas kolejnych testów nie będą brane pod uwagę. Jeśli celem by było otrzymanie jak najszybszych predykcji przy jak najlepszej jakości to stosunek między czasem, a wynikiem mógłby wskazywać na metodę KNN. Działa ona najszybciej ze wszystkich metod, a przy tym otrzymujemy również bardzo wysokie metryki dokładności (około 92%)"
   ]
  },
  {
   "cell_type": "code",
   "execution_count": null,
   "id": "8fe11c00-0c82-4160-a52b-d51dbca927d2",
   "metadata": {},
   "outputs": [],
   "source": []
  }
 ],
 "metadata": {
  "kernelspec": {
   "display_name": "Python 3 (ipykernel)",
   "language": "python",
   "name": "python3"
  },
  "language_info": {
   "codemirror_mode": {
    "name": "ipython",
    "version": 3
   },
   "file_extension": ".py",
   "mimetype": "text/x-python",
   "name": "python",
   "nbconvert_exporter": "python",
   "pygments_lexer": "ipython3",
   "version": "3.12.6"
  }
 },
 "nbformat": 4,
 "nbformat_minor": 5
}
